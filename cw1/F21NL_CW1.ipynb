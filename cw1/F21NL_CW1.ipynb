{
  "cells": [
    {
      "cell_type": "markdown",
      "metadata": {
        "id": "view-in-github",
        "colab_type": "text"
      },
      "source": [
        "<a href=\"https://colab.research.google.com/github/JemyHo/NLPCW1/blob/Lihang/cw1/F21NL_CW1.ipynb\" target=\"_parent\"><img src=\"https://colab.research.google.com/assets/colab-badge.svg\" alt=\"Open In Colab\"/></a>"
      ]
    },
    {
      "cell_type": "code",
      "execution_count": 1,
      "metadata": {
        "id": "sQaGMPUu5vQW",
        "colab": {
          "base_uri": "https://localhost:8080/"
        },
        "collapsed": true,
        "outputId": "d696cd22-90a1-4319-f937-4857fa90bee1"
      },
      "outputs": [
        {
          "output_type": "stream",
          "name": "stdout",
          "text": [
            "--2025-10-19 15:42:20--  https://www.dropbox.com/scl/fi/ibd4cmixckghx6hhb361c/wikitext-filtered-full.zip?rlkey=q71cebf0k5fvvwhmcntoswzhq&dl=1\n",
            "Resolving www.dropbox.com (www.dropbox.com)... 162.125.3.18, 2620:100:601b:18::a27d:812\n",
            "Connecting to www.dropbox.com (www.dropbox.com)|162.125.3.18|:443... connected.\n",
            "HTTP request sent, awaiting response... 302 Found\n",
            "Location: https://uc55a5ca9a8e0a10d0efc7f95ab7.dl-eu.dropboxusercontent.com/cd/0/inline/CziAopOMICro7LN0czWLdlZRmWts-Jqsp2EW3LDIM8IsTdc1RhPUCSiNeQuFgfM1UAmXbk4BtAhDdc9XYd8DPhPvPZX-ypCgqilBctV7qsGYY-Uw90GFKuEesNtUFteZethgpFaoX3ArH_1KBWhBunBa/file?dl=1# [following]\n",
            "--2025-10-19 15:42:21--  https://uc55a5ca9a8e0a10d0efc7f95ab7.dl-eu.dropboxusercontent.com/cd/0/inline/CziAopOMICro7LN0czWLdlZRmWts-Jqsp2EW3LDIM8IsTdc1RhPUCSiNeQuFgfM1UAmXbk4BtAhDdc9XYd8DPhPvPZX-ypCgqilBctV7qsGYY-Uw90GFKuEesNtUFteZethgpFaoX3ArH_1KBWhBunBa/file?dl=1\n",
            "Resolving uc55a5ca9a8e0a10d0efc7f95ab7.dl-eu.dropboxusercontent.com (uc55a5ca9a8e0a10d0efc7f95ab7.dl-eu.dropboxusercontent.com)... 162.125.3.15, 2620:100:601c:15::a27d:60f\n",
            "Connecting to uc55a5ca9a8e0a10d0efc7f95ab7.dl-eu.dropboxusercontent.com (uc55a5ca9a8e0a10d0efc7f95ab7.dl-eu.dropboxusercontent.com)|162.125.3.15|:443... connected.\n",
            "HTTP request sent, awaiting response... 302 Found\n",
            "Location: /cd/0/inline2/Cziu_nRlbpT7xqg3QEDZEMwgx8vY9aI0oVpNAFU_jpddBSQGdpap4zm8pc1CTAGomkvB4QmDmhUtjSeVrV8rT_RSBB5GALOfbX33gQ9i2oKLWJC4XEQDimYQ5FkP34W7-bnBSijRsR2QeoRYxlKQptRGrKuaA9z2N31xl6OtEsErTrKEKMwddvbb-kXtYbLC9keosYrEnXqZ_Es8BSUxQG1VZ1L_pAAhMH698HNKANjd4QLZZgf_8u-Y07bpeR1PCZb8BQVqvWaEkQRwKERGjMwCQ27go5xYm1F0EyPciYzQw397OanGD6jfcZIKbnAHOMbA6RVaKkmMbV81jcJugAM-4dv3VZojfTvCe3k3HeRuaMfuEbhkNZ3WXjH_kD4Z_OY/file?dl=1 [following]\n",
            "--2025-10-19 15:42:22--  https://uc55a5ca9a8e0a10d0efc7f95ab7.dl-eu.dropboxusercontent.com/cd/0/inline2/Cziu_nRlbpT7xqg3QEDZEMwgx8vY9aI0oVpNAFU_jpddBSQGdpap4zm8pc1CTAGomkvB4QmDmhUtjSeVrV8rT_RSBB5GALOfbX33gQ9i2oKLWJC4XEQDimYQ5FkP34W7-bnBSijRsR2QeoRYxlKQptRGrKuaA9z2N31xl6OtEsErTrKEKMwddvbb-kXtYbLC9keosYrEnXqZ_Es8BSUxQG1VZ1L_pAAhMH698HNKANjd4QLZZgf_8u-Y07bpeR1PCZb8BQVqvWaEkQRwKERGjMwCQ27go5xYm1F0EyPciYzQw397OanGD6jfcZIKbnAHOMbA6RVaKkmMbV81jcJugAM-4dv3VZojfTvCe3k3HeRuaMfuEbhkNZ3WXjH_kD4Z_OY/file?dl=1\n",
            "Reusing existing connection to uc55a5ca9a8e0a10d0efc7f95ab7.dl-eu.dropboxusercontent.com:443.\n",
            "HTTP request sent, awaiting response... 200 OK\n",
            "Length: 191859755 (183M) [application/binary]\n",
            "Saving to: ‘wikitext-filtered-full.zip’\n",
            "\n",
            "wikitext-filtered-f 100%[===================>] 182.97M  29.4MB/s    in 7.1s    \n",
            "\n",
            "2025-10-19 15:42:30 (25.9 MB/s) - ‘wikitext-filtered-full.zip’ saved [191859755/191859755]\n",
            "\n",
            "--2025-10-19 15:42:30--  https://www.dropbox.com/scl/fi/ek174r3sg7qjx0aa9atop/wikitext-filtered-10k.zip?rlkey=zy6jqxv6qsc16lr9qm3ki9uhf&dl=1\n",
            "Resolving www.dropbox.com (www.dropbox.com)... 162.125.3.18, 2620:100:601b:18::a27d:812\n",
            "Connecting to www.dropbox.com (www.dropbox.com)|162.125.3.18|:443... connected.\n",
            "HTTP request sent, awaiting response... 302 Found\n",
            "Location: https://uc3af63f0f5743a3a48aed7e5438.dl-eu.dropboxusercontent.com/cd/0/inline/CziCt1EtbskBKtmdoJ2qx5JImQOpue9ljdIB0HumDt5dWSkGARxdofpHo5m-4Pbf070bbI00jy22d4kbArJo4MR16a62k-qAGdbgmhNAKxdz1g2ugOjRLe63wkb33CA6NuNHV8HBksYHqUPNLwdYX2N8/file?dl=1# [following]\n",
            "--2025-10-19 15:42:31--  https://uc3af63f0f5743a3a48aed7e5438.dl-eu.dropboxusercontent.com/cd/0/inline/CziCt1EtbskBKtmdoJ2qx5JImQOpue9ljdIB0HumDt5dWSkGARxdofpHo5m-4Pbf070bbI00jy22d4kbArJo4MR16a62k-qAGdbgmhNAKxdz1g2ugOjRLe63wkb33CA6NuNHV8HBksYHqUPNLwdYX2N8/file?dl=1\n",
            "Resolving uc3af63f0f5743a3a48aed7e5438.dl-eu.dropboxusercontent.com (uc3af63f0f5743a3a48aed7e5438.dl-eu.dropboxusercontent.com)... 162.125.6.15, 2620:100:601c:15::a27d:60f\n",
            "Connecting to uc3af63f0f5743a3a48aed7e5438.dl-eu.dropboxusercontent.com (uc3af63f0f5743a3a48aed7e5438.dl-eu.dropboxusercontent.com)|162.125.6.15|:443... connected.\n",
            "HTTP request sent, awaiting response... 302 Found\n",
            "Location: /cd/0/inline2/Czgrv6QJ5lOy_-_AjQp4ghm6-g-oQhgkfX_GQtMiMnll1YhiKEeybBQLOD_6d9vkRI4QjI1CUn86Kc3tHHzuvB-g6biVR08N3vGXORluPS80nSqZWfQV0JWlCZ3noVlaLK7rEfXJj4sdDAaT2_pnMfk7FM8ark13Ni0Y2ZSbcQg0rp0UWCSPHuMQeKTFVxd9tp1Xn3qnii1SDNd_usuxe2mydZtEWisN0vnqnxELJhh0WGVmQKsAitaYbChOQgLwqoauuC668sSvFeywk9ugnUqjeGR_SXX1UHy-g12k_3Sc4t5tHLOShW0fnrBnnL4a613YyNlh0B5x8CrURmCedKa_3kR8VhSKzlFRduwte_crqzjLWiofWH4pN59OVxQDpF8/file?dl=1 [following]\n",
            "--2025-10-19 15:42:32--  https://uc3af63f0f5743a3a48aed7e5438.dl-eu.dropboxusercontent.com/cd/0/inline2/Czgrv6QJ5lOy_-_AjQp4ghm6-g-oQhgkfX_GQtMiMnll1YhiKEeybBQLOD_6d9vkRI4QjI1CUn86Kc3tHHzuvB-g6biVR08N3vGXORluPS80nSqZWfQV0JWlCZ3noVlaLK7rEfXJj4sdDAaT2_pnMfk7FM8ark13Ni0Y2ZSbcQg0rp0UWCSPHuMQeKTFVxd9tp1Xn3qnii1SDNd_usuxe2mydZtEWisN0vnqnxELJhh0WGVmQKsAitaYbChOQgLwqoauuC668sSvFeywk9ugnUqjeGR_SXX1UHy-g12k_3Sc4t5tHLOShW0fnrBnnL4a613YyNlh0B5x8CrURmCedKa_3kR8VhSKzlFRduwte_crqzjLWiofWH4pN59OVxQDpF8/file?dl=1\n",
            "Reusing existing connection to uc3af63f0f5743a3a48aed7e5438.dl-eu.dropboxusercontent.com:443.\n",
            "HTTP request sent, awaiting response... 200 OK\n",
            "Length: 2230160 (2.1M) [application/binary]\n",
            "Saving to: ‘wikitext-filtered-10k.zip’\n",
            "\n",
            "wikitext-filtered-1 100%[===================>]   2.13M  2.99MB/s    in 0.7s    \n",
            "\n",
            "2025-10-19 15:42:33 (2.99 MB/s) - ‘wikitext-filtered-10k.zip’ saved [2230160/2230160]\n",
            "\n"
          ]
        }
      ],
      "source": [
        "!wget -O wikitext-filtered-full.zip \"https://www.dropbox.com/scl/fi/ibd4cmixckghx6hhb361c/wikitext-filtered-full.zip?rlkey=q71cebf0k5fvvwhmcntoswzhq&dl=1\"\n",
        "!wget -O wikitext-filtered-10k.zip \"https://www.dropbox.com/scl/fi/ek174r3sg7qjx0aa9atop/wikitext-filtered-10k.zip?rlkey=zy6jqxv6qsc16lr9qm3ki9uhf&dl=1\""
      ]
    },
    {
      "cell_type": "code",
      "execution_count": 2,
      "metadata": {
        "id": "0GgyhgwO59KU",
        "colab": {
          "base_uri": "https://localhost:8080/"
        },
        "collapsed": true,
        "outputId": "1de0b0cf-35ed-48c2-cf21-f67e8daf5e63"
      },
      "outputs": [
        {
          "output_type": "stream",
          "name": "stdout",
          "text": [
            "Archive:  wikitext-filtered-full.zip\n",
            "   creating: wikitext-filtered-full/\n",
            "  inflating: wikitext-filtered-full/dataset_info.json  \n",
            "  inflating: wikitext-filtered-full/state.json  \n",
            "  inflating: wikitext-filtered-full/data-00000-of-00001.arrow  \n",
            "Archive:  wikitext-filtered-10k.zip\n",
            "   creating: wikitext-filtered-10k/\n",
            "  inflating: wikitext-filtered-10k/dataset_info.json  \n",
            "  inflating: wikitext-filtered-10k/state.json  \n",
            "  inflating: wikitext-filtered-10k/data-00000-of-00001.arrow  \n"
          ]
        }
      ],
      "source": [
        "!unzip wikitext-filtered-full.zip\n",
        "!unzip wikitext-filtered-10k.zip"
      ]
    },
    {
      "cell_type": "code",
      "execution_count": 3,
      "metadata": {
        "id": "gbUoBOOH5_Zy",
        "colab": {
          "base_uri": "https://localhost:8080/"
        },
        "collapsed": true,
        "outputId": "37026347-6437-4b07-d530-e5f1f81800fd"
      },
      "outputs": [
        {
          "output_type": "stream",
          "name": "stdout",
          "text": [
            "Requirement already satisfied: datasets in /usr/local/lib/python3.12/dist-packages (4.0.0)\n",
            "Requirement already satisfied: filelock in /usr/local/lib/python3.12/dist-packages (from datasets) (3.20.0)\n",
            "Requirement already satisfied: numpy>=1.17 in /usr/local/lib/python3.12/dist-packages (from datasets) (2.0.2)\n",
            "Requirement already satisfied: pyarrow>=15.0.0 in /usr/local/lib/python3.12/dist-packages (from datasets) (18.1.0)\n",
            "Requirement already satisfied: dill<0.3.9,>=0.3.0 in /usr/local/lib/python3.12/dist-packages (from datasets) (0.3.8)\n",
            "Requirement already satisfied: pandas in /usr/local/lib/python3.12/dist-packages (from datasets) (2.2.2)\n",
            "Requirement already satisfied: requests>=2.32.2 in /usr/local/lib/python3.12/dist-packages (from datasets) (2.32.4)\n",
            "Requirement already satisfied: tqdm>=4.66.3 in /usr/local/lib/python3.12/dist-packages (from datasets) (4.67.1)\n",
            "Requirement already satisfied: xxhash in /usr/local/lib/python3.12/dist-packages (from datasets) (3.6.0)\n",
            "Requirement already satisfied: multiprocess<0.70.17 in /usr/local/lib/python3.12/dist-packages (from datasets) (0.70.16)\n",
            "Requirement already satisfied: fsspec<=2025.3.0,>=2023.1.0 in /usr/local/lib/python3.12/dist-packages (from fsspec[http]<=2025.3.0,>=2023.1.0->datasets) (2025.3.0)\n",
            "Requirement already satisfied: huggingface-hub>=0.24.0 in /usr/local/lib/python3.12/dist-packages (from datasets) (0.35.3)\n",
            "Requirement already satisfied: packaging in /usr/local/lib/python3.12/dist-packages (from datasets) (25.0)\n",
            "Requirement already satisfied: pyyaml>=5.1 in /usr/local/lib/python3.12/dist-packages (from datasets) (6.0.3)\n",
            "Requirement already satisfied: aiohttp!=4.0.0a0,!=4.0.0a1 in /usr/local/lib/python3.12/dist-packages (from fsspec[http]<=2025.3.0,>=2023.1.0->datasets) (3.13.0)\n",
            "Requirement already satisfied: typing-extensions>=3.7.4.3 in /usr/local/lib/python3.12/dist-packages (from huggingface-hub>=0.24.0->datasets) (4.15.0)\n",
            "Requirement already satisfied: hf-xet<2.0.0,>=1.1.3 in /usr/local/lib/python3.12/dist-packages (from huggingface-hub>=0.24.0->datasets) (1.1.10)\n",
            "Requirement already satisfied: charset_normalizer<4,>=2 in /usr/local/lib/python3.12/dist-packages (from requests>=2.32.2->datasets) (3.4.4)\n",
            "Requirement already satisfied: idna<4,>=2.5 in /usr/local/lib/python3.12/dist-packages (from requests>=2.32.2->datasets) (3.11)\n",
            "Requirement already satisfied: urllib3<3,>=1.21.1 in /usr/local/lib/python3.12/dist-packages (from requests>=2.32.2->datasets) (2.5.0)\n",
            "Requirement already satisfied: certifi>=2017.4.17 in /usr/local/lib/python3.12/dist-packages (from requests>=2.32.2->datasets) (2025.10.5)\n",
            "Requirement already satisfied: python-dateutil>=2.8.2 in /usr/local/lib/python3.12/dist-packages (from pandas->datasets) (2.9.0.post0)\n",
            "Requirement already satisfied: pytz>=2020.1 in /usr/local/lib/python3.12/dist-packages (from pandas->datasets) (2025.2)\n",
            "Requirement already satisfied: tzdata>=2022.7 in /usr/local/lib/python3.12/dist-packages (from pandas->datasets) (2025.2)\n",
            "Requirement already satisfied: aiohappyeyeballs>=2.5.0 in /usr/local/lib/python3.12/dist-packages (from aiohttp!=4.0.0a0,!=4.0.0a1->fsspec[http]<=2025.3.0,>=2023.1.0->datasets) (2.6.1)\n",
            "Requirement already satisfied: aiosignal>=1.4.0 in /usr/local/lib/python3.12/dist-packages (from aiohttp!=4.0.0a0,!=4.0.0a1->fsspec[http]<=2025.3.0,>=2023.1.0->datasets) (1.4.0)\n",
            "Requirement already satisfied: attrs>=17.3.0 in /usr/local/lib/python3.12/dist-packages (from aiohttp!=4.0.0a0,!=4.0.0a1->fsspec[http]<=2025.3.0,>=2023.1.0->datasets) (25.4.0)\n",
            "Requirement already satisfied: frozenlist>=1.1.1 in /usr/local/lib/python3.12/dist-packages (from aiohttp!=4.0.0a0,!=4.0.0a1->fsspec[http]<=2025.3.0,>=2023.1.0->datasets) (1.8.0)\n",
            "Requirement already satisfied: multidict<7.0,>=4.5 in /usr/local/lib/python3.12/dist-packages (from aiohttp!=4.0.0a0,!=4.0.0a1->fsspec[http]<=2025.3.0,>=2023.1.0->datasets) (6.7.0)\n",
            "Requirement already satisfied: propcache>=0.2.0 in /usr/local/lib/python3.12/dist-packages (from aiohttp!=4.0.0a0,!=4.0.0a1->fsspec[http]<=2025.3.0,>=2023.1.0->datasets) (0.4.1)\n",
            "Requirement already satisfied: yarl<2.0,>=1.17.0 in /usr/local/lib/python3.12/dist-packages (from aiohttp!=4.0.0a0,!=4.0.0a1->fsspec[http]<=2025.3.0,>=2023.1.0->datasets) (1.22.0)\n",
            "Requirement already satisfied: six>=1.5 in /usr/local/lib/python3.12/dist-packages (from python-dateutil>=2.8.2->pandas->datasets) (1.17.0)\n"
          ]
        }
      ],
      "source": [
        "!pip install datasets\n",
        "import datasets"
      ]
    },
    {
      "cell_type": "code",
      "source": [
        "!pip install gensim"
      ],
      "metadata": {
        "colab": {
          "base_uri": "https://localhost:8080/"
        },
        "id": "EN2vY_-dVeem",
        "outputId": "36e823d8-aaa5-4d60-ce2d-a442b0e4ec2b",
        "collapsed": true
      },
      "execution_count": 4,
      "outputs": [
        {
          "output_type": "stream",
          "name": "stdout",
          "text": [
            "Collecting gensim\n",
            "  Downloading gensim-4.4.0-cp312-cp312-manylinux_2_24_x86_64.manylinux_2_28_x86_64.whl.metadata (8.4 kB)\n",
            "Requirement already satisfied: numpy>=1.18.5 in /usr/local/lib/python3.12/dist-packages (from gensim) (2.0.2)\n",
            "Requirement already satisfied: scipy>=1.7.0 in /usr/local/lib/python3.12/dist-packages (from gensim) (1.16.2)\n",
            "Requirement already satisfied: smart_open>=1.8.1 in /usr/local/lib/python3.12/dist-packages (from gensim) (7.3.1)\n",
            "Requirement already satisfied: wrapt in /usr/local/lib/python3.12/dist-packages (from smart_open>=1.8.1->gensim) (1.17.3)\n",
            "Downloading gensim-4.4.0-cp312-cp312-manylinux_2_24_x86_64.manylinux_2_28_x86_64.whl (27.9 MB)\n",
            "\u001b[2K   \u001b[90m━━━━━━━━━━━━━━━━━━━━━━━━━━━━━━━━━━━━━━━━\u001b[0m \u001b[32m27.9/27.9 MB\u001b[0m \u001b[31m38.6 MB/s\u001b[0m eta \u001b[36m0:00:00\u001b[0m\n",
            "\u001b[?25hInstalling collected packages: gensim\n",
            "Successfully installed gensim-4.4.0\n"
          ]
        }
      ]
    },
    {
      "cell_type": "code",
      "execution_count": 5,
      "metadata": {
        "id": "aYe6Rq5k6Bgu",
        "colab": {
          "base_uri": "https://localhost:8080/"
        },
        "outputId": "e1573e89-93c2-4d88-89cd-307f599b81b3"
      },
      "outputs": [
        {
          "output_type": "stream",
          "name": "stdout",
          "text": [
            "wikitext_small: 10000 docs, wikitext_large: 859955 docs\n"
          ]
        }
      ],
      "source": [
        "from datasets import load_dataset, Dataset\n",
        "\n",
        "def load_dataset():\n",
        "  wikitext_small = \"wikitext-filtered-10k\"\n",
        "  wikitext_large = \"wikitext-filtered-full\"\n",
        "\n",
        "  dataset_small = Dataset.load_from_disk(wikitext_small)\n",
        "  dataset_large = Dataset.load_from_disk(wikitext_large)\n",
        "  print(\"wikitext_small: {} docs, wikitext_large: {} docs\".format(len(dataset_small), len(dataset_large)))\n",
        "  return dataset_small, dataset_large\n",
        "\n",
        "wikitext_small, wikitext_large = load_dataset()"
      ]
    },
    {
      "cell_type": "code",
      "metadata": {
        "id": "3e0a327c",
        "outputId": "c82447af-2bea-4021-dbd4-8a1b7b639540",
        "colab": {
          "base_uri": "https://localhost:8080/"
        }
      },
      "source": [
        "import nltk, string, os\n",
        "from gensim.models import Word2Vec\n",
        "nltk.download('stopwords')\n",
        "from nltk.corpus import stopwords\n",
        "\n",
        "STOP = set(stopwords.words('english'))\n",
        "print(f\"{len(STOP)} English stopwords loaded.\")"
      ],
      "execution_count": 6,
      "outputs": [
        {
          "output_type": "stream",
          "name": "stdout",
          "text": [
            "198 English stopwords loaded.\n"
          ]
        },
        {
          "output_type": "stream",
          "name": "stderr",
          "text": [
            "[nltk_data] Downloading package stopwords to /root/nltk_data...\n",
            "[nltk_data]   Unzipping corpora/stopwords.zip.\n"
          ]
        }
      ]
    },
    {
      "cell_type": "code",
      "metadata": {
        "id": "af0f0f23"
      },
      "source": [
        "#Step 3\n",
        "\n",
        "def tokenize_by_space(text):\n",
        "    \"\"\"\n",
        "    Minimal preprocessing (as required in spec):\n",
        "    - lowercase\n",
        "    - split by spaces\n",
        "    - strip punctuation\n",
        "    - remove stopwords and empty tokens\n",
        "    \"\"\"\n",
        "    tokens = []\n",
        "    for tok in text.lower().split(\" \"):\n",
        "        tok = tok.strip(string.punctuation)\n",
        "        if not tok or tok in STOP:\n",
        "            continue\n",
        "        tokens.append(tok)\n",
        "    return tokens\n",
        "\n",
        "def prepare_corpus(raw_ds):\n",
        "    \"\"\"Convert HuggingFace Dataset to list of token lists.\"\"\"\n",
        "    first = raw_ds[0]\n",
        "    # find the right text field\n",
        "    if isinstance(first, dict):\n",
        "        key = [k for k in first.keys() if isinstance(first[k], str)][0]\n",
        "        docs = [ex[key] for ex in raw_ds]\n",
        "    else:\n",
        "        docs = list(raw_ds)\n",
        "    return [tokenize_by_space(doc) for doc in docs if doc.strip()]"
      ],
      "execution_count": 7,
      "outputs": []
    },
    {
      "cell_type": "code",
      "source": [
        "tokens_small = prepare_corpus(wikitext_small)\n",
        "tokens_large = prepare_corpus(wikitext_large)\n",
        "\n",
        "print(\"Docs (small):\", len(tokens_small))\n",
        "print(\"Docs (large):\", len(tokens_large))\n",
        "print(\"Example tokens:\", tokens_small[0][:20])\n"
      ],
      "metadata": {
        "colab": {
          "base_uri": "https://localhost:8080/"
        },
        "id": "3e2_SXhFkkqV",
        "outputId": "c652d789-e36d-41c7-8d06-3775615ac13d"
      },
      "execution_count": 8,
      "outputs": [
        {
          "output_type": "stream",
          "name": "stdout",
          "text": [
            "Docs (small): 10000\n",
            "Docs (large): 859955\n",
            "Example tokens: ['senjō', 'valkyria', '3', 'unrecorded', 'chronicles', 'japanese', '戦場のヴァルキュリア3', 'lit', 'valkyria', 'battlefield', '3', 'commonly', 'referred', 'valkyria', 'chronicles', 'iii', 'outside', 'japan', 'tactical', 'role']\n"
          ]
        }
      ]
    },
    {
      "cell_type": "code",
      "source": [
        "SEED = 42\n",
        "WORKERS = os.cpu_count()\n",
        "\n",
        "def train_word2vec(sentences, name, vector_size=50, window=5, min_count=5, epochs=5, sg=0):\n",
        "    print(f\"▶ Training {name} | vec={vector_size}, win={window}, min={min_count}, ep={epochs}, sg={sg}\")\n",
        "    model = Word2Vec(\n",
        "        sentences=sentences,\n",
        "        vector_size=vector_size,\n",
        "        window=window,\n",
        "        min_count=min_count,\n",
        "        sg=sg,      # 0 = CBOW, 1 = Skip-gram\n",
        "        workers=WORKERS,\n",
        "        seed=SEED\n",
        "    )\n",
        "    model.train(sentences, total_examples=len(sentences), epochs=epochs)\n",
        "    print(\"Vocab size:\", len(model.wv))\n",
        "    model.save(f\"w2v_{name}.model\")\n",
        "    print(f\" Saved model: w2v_{name}.model\\n\")\n",
        "    return model\n",
        "\n",
        "w2v_small = train_word2vec(tokens_small, \"small\")\n",
        "w2v_large = train_word2vec(tokens_large, \"large\")\n"
      ],
      "metadata": {
        "colab": {
          "base_uri": "https://localhost:8080/"
        },
        "id": "Fgwj5ZT9lCE6",
        "outputId": "47b53a5b-79c6-47d5-861b-8126c76990b2"
      },
      "execution_count": 12,
      "outputs": [
        {
          "output_type": "stream",
          "name": "stdout",
          "text": [
            "▶ Training small | vec=50, win=5, min=5, ep=5, sg=0\n"
          ]
        },
        {
          "output_type": "stream",
          "name": "stderr",
          "text": [
            "WARNING:gensim.models.word2vec:Effective 'alpha' higher than previous training cycles\n"
          ]
        },
        {
          "output_type": "stream",
          "name": "stdout",
          "text": [
            "Vocab size: 14554\n",
            " Saved model: w2v_small.model\n",
            "\n",
            "▶ Training large | vec=50, win=5, min=5, ep=5, sg=0\n"
          ]
        },
        {
          "output_type": "stream",
          "name": "stderr",
          "text": [
            "WARNING:gensim.models.word2vec:Effective 'alpha' higher than previous training cycles\n"
          ]
        },
        {
          "output_type": "stream",
          "name": "stdout",
          "text": [
            "Vocab size: 170080\n",
            " Saved model: w2v_large.model\n",
            "\n"
          ]
        }
      ]
    },
    {
      "cell_type": "code",
      "source": [
        "import nltk, string, os\n",
        "from gensim.models import Word2Vec\n",
        "nltk.download('stopwords')\n",
        "from nltk.corpus import stopwords\n",
        "\n",
        "STOP = set(stopwords.words('english'))\n",
        "print(f\"{len(STOP)} English stopwords loaded.\")\n"
      ],
      "metadata": {
        "colab": {
          "base_uri": "https://localhost:8080/"
        },
        "id": "USxPpOoTff2s",
        "outputId": "8d135dca-732b-4418-ce2f-b6663c45f9db"
      },
      "execution_count": 13,
      "outputs": [
        {
          "output_type": "stream",
          "name": "stdout",
          "text": [
            "198 English stopwords loaded.\n"
          ]
        },
        {
          "output_type": "stream",
          "name": "stderr",
          "text": [
            "[nltk_data] Downloading package stopwords to /root/nltk_data...\n",
            "[nltk_data]   Package stopwords is already up-to-date!\n"
          ]
        }
      ]
    },
    {
      "cell_type": "code",
      "metadata": {
        "colab": {
          "base_uri": "https://localhost:8080/"
        },
        "id": "a58d5121",
        "outputId": "1a03a2dd-6a35-49e5-c946-882af6b0c240"
      },
      "source": [
        "from google.colab import drive\n",
        "drive.mount('/content/drive')"
      ],
      "execution_count": 14,
      "outputs": [
        {
          "output_type": "stream",
          "name": "stdout",
          "text": [
            "Mounted at /content/drive\n"
          ]
        }
      ]
    },
    {
      "cell_type": "code",
      "source": [
        "import pandas as pd\n",
        "import numpy as np\n",
        "from gensim.models import Word2Vec\n",
        "\n",
        "\n",
        "# Load both trained Word2Vec models\n",
        "\n",
        "w2v_small = Word2Vec.load(\"w2v_small.model\")\n",
        "w2v_large = Word2Vec.load(\"w2v_large.model\")\n",
        "print(\"Models loaded\")\n",
        "print(\"small vocab:\", len(w2v_small.wv), )\n",
        "print(\" large vocab:\", len(w2v_large.wv), )"
      ],
      "metadata": {
        "colab": {
          "base_uri": "https://localhost:8080/",
          "height": 383
        },
        "id": "_mixVciNmh5z",
        "outputId": "787b1a93-a626-4d6d-b1e5-648e8004e331"
      },
      "execution_count": 3,
      "outputs": [
        {
          "output_type": "error",
          "ename": "ModuleNotFoundError",
          "evalue": "No module named 'gensim'",
          "traceback": [
            "\u001b[0;31m---------------------------------------------------------------------------\u001b[0m",
            "\u001b[0;31mModuleNotFoundError\u001b[0m                       Traceback (most recent call last)",
            "\u001b[0;32m/tmp/ipython-input-930838062.py\u001b[0m in \u001b[0;36m<cell line: 0>\u001b[0;34m()\u001b[0m\n\u001b[1;32m      1\u001b[0m \u001b[0;32mimport\u001b[0m \u001b[0mpandas\u001b[0m \u001b[0;32mas\u001b[0m \u001b[0mpd\u001b[0m\u001b[0;34m\u001b[0m\u001b[0;34m\u001b[0m\u001b[0m\n\u001b[1;32m      2\u001b[0m \u001b[0;32mimport\u001b[0m \u001b[0mnumpy\u001b[0m \u001b[0;32mas\u001b[0m \u001b[0mnp\u001b[0m\u001b[0;34m\u001b[0m\u001b[0;34m\u001b[0m\u001b[0m\n\u001b[0;32m----> 3\u001b[0;31m \u001b[0;32mfrom\u001b[0m \u001b[0mgensim\u001b[0m\u001b[0;34m.\u001b[0m\u001b[0mmodels\u001b[0m \u001b[0;32mimport\u001b[0m \u001b[0mWord2Vec\u001b[0m\u001b[0;34m\u001b[0m\u001b[0;34m\u001b[0m\u001b[0m\n\u001b[0m\u001b[1;32m      4\u001b[0m \u001b[0;34m\u001b[0m\u001b[0m\n\u001b[1;32m      5\u001b[0m \u001b[0;34m\u001b[0m\u001b[0m\n",
            "\u001b[0;31mModuleNotFoundError\u001b[0m: No module named 'gensim'",
            "",
            "\u001b[0;31m---------------------------------------------------------------------------\u001b[0;32m\nNOTE: If your import is failing due to a missing package, you can\nmanually install dependencies using either !pip or !apt.\n\nTo view examples of installing some common dependencies, click the\n\"Open Examples\" button below.\n\u001b[0;31m---------------------------------------------------------------------------\u001b[0m\n"
          ],
          "errorDetails": {
            "actions": [
              {
                "action": "open_url",
                "actionText": "Open Examples",
                "url": "/notebooks/snippets/importing_libraries.ipynb"
              }
            ]
          }
        }
      ]
    },
    {
      "cell_type": "code",
      "source": [
        "# Load WordSim-353 CSV from Google Drive\n",
        "\n",
        "file_path = '/content/drive/My Drive/wordsim353/combined.csv'\n",
        "\n",
        "try:\n",
        "    wordsim_df = pd.read_csv(file_path)\n",
        "    print(\"WordSim-353 data loaded successfully.\")\n",
        "    display(wordsim_df.head())\n",
        "except FileNotFoundError:\n",
        "    print(f\"File not found at {file_path}\")\n",
        "except Exception as e:\n",
        "    print(f\"Error loading file: {e}\")\n",
        "\n",
        "print(\"Total pairs:\", len(wordsim_df))\n"
      ],
      "metadata": {
        "colab": {
          "base_uri": "https://localhost:8080/",
          "height": 241
        },
        "id": "KqdRNx3Xmw_4",
        "outputId": "7940cb8f-8195-4da4-8f21-3ba1422b4a9f"
      },
      "execution_count": 17,
      "outputs": [
        {
          "output_type": "stream",
          "name": "stdout",
          "text": [
            "WordSim-353 data loaded successfully.\n"
          ]
        },
        {
          "output_type": "display_data",
          "data": {
            "text/plain": [
              "     Word 1    Word 2  Human (mean)\n",
              "0      love       sex          6.77\n",
              "1     tiger       cat          7.35\n",
              "2     tiger     tiger         10.00\n",
              "3      book     paper          7.46\n",
              "4  computer  keyboard          7.62"
            ],
            "text/html": [
              "\n",
              "  <div id=\"df-869e420a-4243-4e11-86d8-77bf888c8e43\" class=\"colab-df-container\">\n",
              "    <div>\n",
              "<style scoped>\n",
              "    .dataframe tbody tr th:only-of-type {\n",
              "        vertical-align: middle;\n",
              "    }\n",
              "\n",
              "    .dataframe tbody tr th {\n",
              "        vertical-align: top;\n",
              "    }\n",
              "\n",
              "    .dataframe thead th {\n",
              "        text-align: right;\n",
              "    }\n",
              "</style>\n",
              "<table border=\"1\" class=\"dataframe\">\n",
              "  <thead>\n",
              "    <tr style=\"text-align: right;\">\n",
              "      <th></th>\n",
              "      <th>Word 1</th>\n",
              "      <th>Word 2</th>\n",
              "      <th>Human (mean)</th>\n",
              "    </tr>\n",
              "  </thead>\n",
              "  <tbody>\n",
              "    <tr>\n",
              "      <th>0</th>\n",
              "      <td>love</td>\n",
              "      <td>sex</td>\n",
              "      <td>6.77</td>\n",
              "    </tr>\n",
              "    <tr>\n",
              "      <th>1</th>\n",
              "      <td>tiger</td>\n",
              "      <td>cat</td>\n",
              "      <td>7.35</td>\n",
              "    </tr>\n",
              "    <tr>\n",
              "      <th>2</th>\n",
              "      <td>tiger</td>\n",
              "      <td>tiger</td>\n",
              "      <td>10.00</td>\n",
              "    </tr>\n",
              "    <tr>\n",
              "      <th>3</th>\n",
              "      <td>book</td>\n",
              "      <td>paper</td>\n",
              "      <td>7.46</td>\n",
              "    </tr>\n",
              "    <tr>\n",
              "      <th>4</th>\n",
              "      <td>computer</td>\n",
              "      <td>keyboard</td>\n",
              "      <td>7.62</td>\n",
              "    </tr>\n",
              "  </tbody>\n",
              "</table>\n",
              "</div>\n",
              "    <div class=\"colab-df-buttons\">\n",
              "\n",
              "  <div class=\"colab-df-container\">\n",
              "    <button class=\"colab-df-convert\" onclick=\"convertToInteractive('df-869e420a-4243-4e11-86d8-77bf888c8e43')\"\n",
              "            title=\"Convert this dataframe to an interactive table.\"\n",
              "            style=\"display:none;\">\n",
              "\n",
              "  <svg xmlns=\"http://www.w3.org/2000/svg\" height=\"24px\" viewBox=\"0 -960 960 960\">\n",
              "    <path d=\"M120-120v-720h720v720H120Zm60-500h600v-160H180v160Zm220 220h160v-160H400v160Zm0 220h160v-160H400v160ZM180-400h160v-160H180v160Zm440 0h160v-160H620v160ZM180-180h160v-160H180v160Zm440 0h160v-160H620v160Z\"/>\n",
              "  </svg>\n",
              "    </button>\n",
              "\n",
              "  <style>\n",
              "    .colab-df-container {\n",
              "      display:flex;\n",
              "      gap: 12px;\n",
              "    }\n",
              "\n",
              "    .colab-df-convert {\n",
              "      background-color: #E8F0FE;\n",
              "      border: none;\n",
              "      border-radius: 50%;\n",
              "      cursor: pointer;\n",
              "      display: none;\n",
              "      fill: #1967D2;\n",
              "      height: 32px;\n",
              "      padding: 0 0 0 0;\n",
              "      width: 32px;\n",
              "    }\n",
              "\n",
              "    .colab-df-convert:hover {\n",
              "      background-color: #E2EBFA;\n",
              "      box-shadow: 0px 1px 2px rgba(60, 64, 67, 0.3), 0px 1px 3px 1px rgba(60, 64, 67, 0.15);\n",
              "      fill: #174EA6;\n",
              "    }\n",
              "\n",
              "    .colab-df-buttons div {\n",
              "      margin-bottom: 4px;\n",
              "    }\n",
              "\n",
              "    [theme=dark] .colab-df-convert {\n",
              "      background-color: #3B4455;\n",
              "      fill: #D2E3FC;\n",
              "    }\n",
              "\n",
              "    [theme=dark] .colab-df-convert:hover {\n",
              "      background-color: #434B5C;\n",
              "      box-shadow: 0px 1px 3px 1px rgba(0, 0, 0, 0.15);\n",
              "      filter: drop-shadow(0px 1px 2px rgba(0, 0, 0, 0.3));\n",
              "      fill: #FFFFFF;\n",
              "    }\n",
              "  </style>\n",
              "\n",
              "    <script>\n",
              "      const buttonEl =\n",
              "        document.querySelector('#df-869e420a-4243-4e11-86d8-77bf888c8e43 button.colab-df-convert');\n",
              "      buttonEl.style.display =\n",
              "        google.colab.kernel.accessAllowed ? 'block' : 'none';\n",
              "\n",
              "      async function convertToInteractive(key) {\n",
              "        const element = document.querySelector('#df-869e420a-4243-4e11-86d8-77bf888c8e43');\n",
              "        const dataTable =\n",
              "          await google.colab.kernel.invokeFunction('convertToInteractive',\n",
              "                                                    [key], {});\n",
              "        if (!dataTable) return;\n",
              "\n",
              "        const docLinkHtml = 'Like what you see? Visit the ' +\n",
              "          '<a target=\"_blank\" href=https://colab.research.google.com/notebooks/data_table.ipynb>data table notebook</a>'\n",
              "          + ' to learn more about interactive tables.';\n",
              "        element.innerHTML = '';\n",
              "        dataTable['output_type'] = 'display_data';\n",
              "        await google.colab.output.renderOutput(dataTable, element);\n",
              "        const docLink = document.createElement('div');\n",
              "        docLink.innerHTML = docLinkHtml;\n",
              "        element.appendChild(docLink);\n",
              "      }\n",
              "    </script>\n",
              "  </div>\n",
              "\n",
              "\n",
              "    <div id=\"df-a27cef2b-5bc0-465c-bc88-d0b9d3e2a6bf\">\n",
              "      <button class=\"colab-df-quickchart\" onclick=\"quickchart('df-a27cef2b-5bc0-465c-bc88-d0b9d3e2a6bf')\"\n",
              "                title=\"Suggest charts\"\n",
              "                style=\"display:none;\">\n",
              "\n",
              "<svg xmlns=\"http://www.w3.org/2000/svg\" height=\"24px\"viewBox=\"0 0 24 24\"\n",
              "     width=\"24px\">\n",
              "    <g>\n",
              "        <path d=\"M19 3H5c-1.1 0-2 .9-2 2v14c0 1.1.9 2 2 2h14c1.1 0 2-.9 2-2V5c0-1.1-.9-2-2-2zM9 17H7v-7h2v7zm4 0h-2V7h2v10zm4 0h-2v-4h2v4z\"/>\n",
              "    </g>\n",
              "</svg>\n",
              "      </button>\n",
              "\n",
              "<style>\n",
              "  .colab-df-quickchart {\n",
              "      --bg-color: #E8F0FE;\n",
              "      --fill-color: #1967D2;\n",
              "      --hover-bg-color: #E2EBFA;\n",
              "      --hover-fill-color: #174EA6;\n",
              "      --disabled-fill-color: #AAA;\n",
              "      --disabled-bg-color: #DDD;\n",
              "  }\n",
              "\n",
              "  [theme=dark] .colab-df-quickchart {\n",
              "      --bg-color: #3B4455;\n",
              "      --fill-color: #D2E3FC;\n",
              "      --hover-bg-color: #434B5C;\n",
              "      --hover-fill-color: #FFFFFF;\n",
              "      --disabled-bg-color: #3B4455;\n",
              "      --disabled-fill-color: #666;\n",
              "  }\n",
              "\n",
              "  .colab-df-quickchart {\n",
              "    background-color: var(--bg-color);\n",
              "    border: none;\n",
              "    border-radius: 50%;\n",
              "    cursor: pointer;\n",
              "    display: none;\n",
              "    fill: var(--fill-color);\n",
              "    height: 32px;\n",
              "    padding: 0;\n",
              "    width: 32px;\n",
              "  }\n",
              "\n",
              "  .colab-df-quickchart:hover {\n",
              "    background-color: var(--hover-bg-color);\n",
              "    box-shadow: 0 1px 2px rgba(60, 64, 67, 0.3), 0 1px 3px 1px rgba(60, 64, 67, 0.15);\n",
              "    fill: var(--button-hover-fill-color);\n",
              "  }\n",
              "\n",
              "  .colab-df-quickchart-complete:disabled,\n",
              "  .colab-df-quickchart-complete:disabled:hover {\n",
              "    background-color: var(--disabled-bg-color);\n",
              "    fill: var(--disabled-fill-color);\n",
              "    box-shadow: none;\n",
              "  }\n",
              "\n",
              "  .colab-df-spinner {\n",
              "    border: 2px solid var(--fill-color);\n",
              "    border-color: transparent;\n",
              "    border-bottom-color: var(--fill-color);\n",
              "    animation:\n",
              "      spin 1s steps(1) infinite;\n",
              "  }\n",
              "\n",
              "  @keyframes spin {\n",
              "    0% {\n",
              "      border-color: transparent;\n",
              "      border-bottom-color: var(--fill-color);\n",
              "      border-left-color: var(--fill-color);\n",
              "    }\n",
              "    20% {\n",
              "      border-color: transparent;\n",
              "      border-left-color: var(--fill-color);\n",
              "      border-top-color: var(--fill-color);\n",
              "    }\n",
              "    30% {\n",
              "      border-color: transparent;\n",
              "      border-left-color: var(--fill-color);\n",
              "      border-top-color: var(--fill-color);\n",
              "      border-right-color: var(--fill-color);\n",
              "    }\n",
              "    40% {\n",
              "      border-color: transparent;\n",
              "      border-right-color: var(--fill-color);\n",
              "      border-top-color: var(--fill-color);\n",
              "    }\n",
              "    60% {\n",
              "      border-color: transparent;\n",
              "      border-right-color: var(--fill-color);\n",
              "    }\n",
              "    80% {\n",
              "      border-color: transparent;\n",
              "      border-right-color: var(--fill-color);\n",
              "      border-bottom-color: var(--fill-color);\n",
              "    }\n",
              "    90% {\n",
              "      border-color: transparent;\n",
              "      border-bottom-color: var(--fill-color);\n",
              "    }\n",
              "  }\n",
              "</style>\n",
              "\n",
              "      <script>\n",
              "        async function quickchart(key) {\n",
              "          const quickchartButtonEl =\n",
              "            document.querySelector('#' + key + ' button');\n",
              "          quickchartButtonEl.disabled = true;  // To prevent multiple clicks.\n",
              "          quickchartButtonEl.classList.add('colab-df-spinner');\n",
              "          try {\n",
              "            const charts = await google.colab.kernel.invokeFunction(\n",
              "                'suggestCharts', [key], {});\n",
              "          } catch (error) {\n",
              "            console.error('Error during call to suggestCharts:', error);\n",
              "          }\n",
              "          quickchartButtonEl.classList.remove('colab-df-spinner');\n",
              "          quickchartButtonEl.classList.add('colab-df-quickchart-complete');\n",
              "        }\n",
              "        (() => {\n",
              "          let quickchartButtonEl =\n",
              "            document.querySelector('#df-a27cef2b-5bc0-465c-bc88-d0b9d3e2a6bf button');\n",
              "          quickchartButtonEl.style.display =\n",
              "            google.colab.kernel.accessAllowed ? 'block' : 'none';\n",
              "        })();\n",
              "      </script>\n",
              "    </div>\n",
              "\n",
              "    </div>\n",
              "  </div>\n"
            ],
            "application/vnd.google.colaboratory.intrinsic+json": {
              "type": "dataframe",
              "summary": "{\n  \"name\": \"print(\\\"Total pairs:\\\", len(wordsim_df))\",\n  \"rows\": 5,\n  \"fields\": [\n    {\n      \"column\": \"Word 1\",\n      \"properties\": {\n        \"dtype\": \"string\",\n        \"num_unique_values\": 4,\n        \"samples\": [\n          \"tiger\",\n          \"computer\",\n          \"love\"\n        ],\n        \"semantic_type\": \"\",\n        \"description\": \"\"\n      }\n    },\n    {\n      \"column\": \"Word 2\",\n      \"properties\": {\n        \"dtype\": \"string\",\n        \"num_unique_values\": 5,\n        \"samples\": [\n          \"cat\",\n          \"keyboard\",\n          \"tiger\"\n        ],\n        \"semantic_type\": \"\",\n        \"description\": \"\"\n      }\n    },\n    {\n      \"column\": \"Human (mean)\",\n      \"properties\": {\n        \"dtype\": \"number\",\n        \"std\": 1.2493398256679407,\n        \"min\": 6.77,\n        \"max\": 10.0,\n        \"num_unique_values\": 5,\n        \"samples\": [\n          7.35,\n          7.62,\n          10.0\n        ],\n        \"semantic_type\": \"\",\n        \"description\": \"\"\n      }\n    }\n  ]\n}"
            }
          },
          "metadata": {}
        },
        {
          "output_type": "stream",
          "name": "stdout",
          "text": [
            "Total pairs: 353\n"
          ]
        }
      ]
    },
    {
      "cell_type": "code",
      "source": [
        "# Helper: compute cosine safely\n",
        "\n",
        "def compute_cosine(model, w1, w2):\n",
        "    w1, w2 = w1.lower(), w2.lower()\n",
        "    try:\n",
        "        return model.wv.similarity(w1, w2)\n",
        "    except KeyError:\n",
        "        return np.nan   # skip missing words\n",
        "\n",
        "# Compute cosine for the 4 required pairs\n",
        "\n",
        "pairs = [\n",
        "    (\"plane\", \"car\"),\n",
        "    (\"planet\", \"sun\"),\n",
        "    (\"cup\", \"article\"),\n",
        "    (\"sugar\", \"approach\")\n",
        "]\n",
        "\n",
        "print(\"\\n---- wikitext_small ----\")\n",
        "for a, b in pairs:\n",
        "    print(f\"{a:8s}/{b:8s} → {compute_cosine(w2v_small, a, b):.4f}\")\n",
        "\n",
        "print(\"\\n---- wikitext_large ----\")   ####\n",
        "for a, b in pairs:   ###\n",
        "   print(f\"{a:8s}/{b:8s} → {compute_cosine(w2v_large, a, b):.4f}\")   #####\n",
        "\n",
        "\n",
        "# Prepare for full 353-pair evaluation (Step 4)\n",
        "\n",
        "def evaluate_all(model, df):\n",
        "    cosines = []\n",
        "    for _, row in df.iterrows():\n",
        "        w1, w2 = row['Word 1'], row['Word 2']\n",
        "        cos = compute_cosine(model, w1, w2)\n",
        "        cosines.append(cos)\n",
        "    df[f'{model}'] = cosines\n",
        "    return cosines\n",
        "\n",
        "# compute for both models (optional preview)\n",
        "wordsim_df['cosine_small'] = [\n",
        "    compute_cosine(w2v_small, w1, w2) for w1, w2 in zip(wordsim_df['Word 1'], wordsim_df['Word 2'])\n",
        "]\n",
        "wordsim_df['cosine_large'] = [\n",
        "   compute_cosine(w2v_large, w1, w2) for w1, w2 in zip(wordsim_df['Word 1'], wordsim_df['Word 2'])\n",
        "]\n",
        "\n",
        "display(wordsim_df.head())\n",
        "print(\"✅ Cosine columns added – ready for Step 4 (Spearman).\")\n",
        "\n",
        "\n"
      ],
      "metadata": {
        "colab": {
          "base_uri": "https://localhost:8080/",
          "height": 431
        },
        "id": "ROcT19FemD3N",
        "outputId": "abd30eaa-716f-41c2-d106-59a67d68e81c"
      },
      "execution_count": 18,
      "outputs": [
        {
          "output_type": "stream",
          "name": "stdout",
          "text": [
            "\n",
            "---- wikitext_small ----\n",
            "plane   /car      → 0.7023\n",
            "planet  /sun      → 0.8552\n",
            "cup     /article  → 0.3495\n",
            "sugar   /approach → 0.8647\n",
            "\n",
            "---- wikitext_large ----\n",
            "plane   /car      → 0.5843\n",
            "planet  /sun      → 0.6155\n",
            "cup     /article  → 0.1401\n",
            "sugar   /approach → -0.2200\n"
          ]
        },
        {
          "output_type": "display_data",
          "data": {
            "text/plain": [
              "     Word 1    Word 2  Human (mean)  cosine_small  cosine_large\n",
              "0      love       sex          6.77      0.829375      0.601403\n",
              "1     tiger       cat          7.35      0.845510      0.615194\n",
              "2     tiger     tiger         10.00      1.000000      1.000000\n",
              "3      book     paper          7.46      0.660245      0.588612\n",
              "4  computer  keyboard          7.62      0.831931      0.385833"
            ],
            "text/html": [
              "\n",
              "  <div id=\"df-977d078b-599f-450f-943b-b823261f53ec\" class=\"colab-df-container\">\n",
              "    <div>\n",
              "<style scoped>\n",
              "    .dataframe tbody tr th:only-of-type {\n",
              "        vertical-align: middle;\n",
              "    }\n",
              "\n",
              "    .dataframe tbody tr th {\n",
              "        vertical-align: top;\n",
              "    }\n",
              "\n",
              "    .dataframe thead th {\n",
              "        text-align: right;\n",
              "    }\n",
              "</style>\n",
              "<table border=\"1\" class=\"dataframe\">\n",
              "  <thead>\n",
              "    <tr style=\"text-align: right;\">\n",
              "      <th></th>\n",
              "      <th>Word 1</th>\n",
              "      <th>Word 2</th>\n",
              "      <th>Human (mean)</th>\n",
              "      <th>cosine_small</th>\n",
              "      <th>cosine_large</th>\n",
              "    </tr>\n",
              "  </thead>\n",
              "  <tbody>\n",
              "    <tr>\n",
              "      <th>0</th>\n",
              "      <td>love</td>\n",
              "      <td>sex</td>\n",
              "      <td>6.77</td>\n",
              "      <td>0.829375</td>\n",
              "      <td>0.601403</td>\n",
              "    </tr>\n",
              "    <tr>\n",
              "      <th>1</th>\n",
              "      <td>tiger</td>\n",
              "      <td>cat</td>\n",
              "      <td>7.35</td>\n",
              "      <td>0.845510</td>\n",
              "      <td>0.615194</td>\n",
              "    </tr>\n",
              "    <tr>\n",
              "      <th>2</th>\n",
              "      <td>tiger</td>\n",
              "      <td>tiger</td>\n",
              "      <td>10.00</td>\n",
              "      <td>1.000000</td>\n",
              "      <td>1.000000</td>\n",
              "    </tr>\n",
              "    <tr>\n",
              "      <th>3</th>\n",
              "      <td>book</td>\n",
              "      <td>paper</td>\n",
              "      <td>7.46</td>\n",
              "      <td>0.660245</td>\n",
              "      <td>0.588612</td>\n",
              "    </tr>\n",
              "    <tr>\n",
              "      <th>4</th>\n",
              "      <td>computer</td>\n",
              "      <td>keyboard</td>\n",
              "      <td>7.62</td>\n",
              "      <td>0.831931</td>\n",
              "      <td>0.385833</td>\n",
              "    </tr>\n",
              "  </tbody>\n",
              "</table>\n",
              "</div>\n",
              "    <div class=\"colab-df-buttons\">\n",
              "\n",
              "  <div class=\"colab-df-container\">\n",
              "    <button class=\"colab-df-convert\" onclick=\"convertToInteractive('df-977d078b-599f-450f-943b-b823261f53ec')\"\n",
              "            title=\"Convert this dataframe to an interactive table.\"\n",
              "            style=\"display:none;\">\n",
              "\n",
              "  <svg xmlns=\"http://www.w3.org/2000/svg\" height=\"24px\" viewBox=\"0 -960 960 960\">\n",
              "    <path d=\"M120-120v-720h720v720H120Zm60-500h600v-160H180v160Zm220 220h160v-160H400v160Zm0 220h160v-160H400v160ZM180-400h160v-160H180v160Zm440 0h160v-160H620v160ZM180-180h160v-160H180v160Zm440 0h160v-160H620v160Z\"/>\n",
              "  </svg>\n",
              "    </button>\n",
              "\n",
              "  <style>\n",
              "    .colab-df-container {\n",
              "      display:flex;\n",
              "      gap: 12px;\n",
              "    }\n",
              "\n",
              "    .colab-df-convert {\n",
              "      background-color: #E8F0FE;\n",
              "      border: none;\n",
              "      border-radius: 50%;\n",
              "      cursor: pointer;\n",
              "      display: none;\n",
              "      fill: #1967D2;\n",
              "      height: 32px;\n",
              "      padding: 0 0 0 0;\n",
              "      width: 32px;\n",
              "    }\n",
              "\n",
              "    .colab-df-convert:hover {\n",
              "      background-color: #E2EBFA;\n",
              "      box-shadow: 0px 1px 2px rgba(60, 64, 67, 0.3), 0px 1px 3px 1px rgba(60, 64, 67, 0.15);\n",
              "      fill: #174EA6;\n",
              "    }\n",
              "\n",
              "    .colab-df-buttons div {\n",
              "      margin-bottom: 4px;\n",
              "    }\n",
              "\n",
              "    [theme=dark] .colab-df-convert {\n",
              "      background-color: #3B4455;\n",
              "      fill: #D2E3FC;\n",
              "    }\n",
              "\n",
              "    [theme=dark] .colab-df-convert:hover {\n",
              "      background-color: #434B5C;\n",
              "      box-shadow: 0px 1px 3px 1px rgba(0, 0, 0, 0.15);\n",
              "      filter: drop-shadow(0px 1px 2px rgba(0, 0, 0, 0.3));\n",
              "      fill: #FFFFFF;\n",
              "    }\n",
              "  </style>\n",
              "\n",
              "    <script>\n",
              "      const buttonEl =\n",
              "        document.querySelector('#df-977d078b-599f-450f-943b-b823261f53ec button.colab-df-convert');\n",
              "      buttonEl.style.display =\n",
              "        google.colab.kernel.accessAllowed ? 'block' : 'none';\n",
              "\n",
              "      async function convertToInteractive(key) {\n",
              "        const element = document.querySelector('#df-977d078b-599f-450f-943b-b823261f53ec');\n",
              "        const dataTable =\n",
              "          await google.colab.kernel.invokeFunction('convertToInteractive',\n",
              "                                                    [key], {});\n",
              "        if (!dataTable) return;\n",
              "\n",
              "        const docLinkHtml = 'Like what you see? Visit the ' +\n",
              "          '<a target=\"_blank\" href=https://colab.research.google.com/notebooks/data_table.ipynb>data table notebook</a>'\n",
              "          + ' to learn more about interactive tables.';\n",
              "        element.innerHTML = '';\n",
              "        dataTable['output_type'] = 'display_data';\n",
              "        await google.colab.output.renderOutput(dataTable, element);\n",
              "        const docLink = document.createElement('div');\n",
              "        docLink.innerHTML = docLinkHtml;\n",
              "        element.appendChild(docLink);\n",
              "      }\n",
              "    </script>\n",
              "  </div>\n",
              "\n",
              "\n",
              "    <div id=\"df-7aea2eab-d72a-476e-86c1-97b06ce7aa77\">\n",
              "      <button class=\"colab-df-quickchart\" onclick=\"quickchart('df-7aea2eab-d72a-476e-86c1-97b06ce7aa77')\"\n",
              "                title=\"Suggest charts\"\n",
              "                style=\"display:none;\">\n",
              "\n",
              "<svg xmlns=\"http://www.w3.org/2000/svg\" height=\"24px\"viewBox=\"0 0 24 24\"\n",
              "     width=\"24px\">\n",
              "    <g>\n",
              "        <path d=\"M19 3H5c-1.1 0-2 .9-2 2v14c0 1.1.9 2 2 2h14c1.1 0 2-.9 2-2V5c0-1.1-.9-2-2-2zM9 17H7v-7h2v7zm4 0h-2V7h2v10zm4 0h-2v-4h2v4z\"/>\n",
              "    </g>\n",
              "</svg>\n",
              "      </button>\n",
              "\n",
              "<style>\n",
              "  .colab-df-quickchart {\n",
              "      --bg-color: #E8F0FE;\n",
              "      --fill-color: #1967D2;\n",
              "      --hover-bg-color: #E2EBFA;\n",
              "      --hover-fill-color: #174EA6;\n",
              "      --disabled-fill-color: #AAA;\n",
              "      --disabled-bg-color: #DDD;\n",
              "  }\n",
              "\n",
              "  [theme=dark] .colab-df-quickchart {\n",
              "      --bg-color: #3B4455;\n",
              "      --fill-color: #D2E3FC;\n",
              "      --hover-bg-color: #434B5C;\n",
              "      --hover-fill-color: #FFFFFF;\n",
              "      --disabled-bg-color: #3B4455;\n",
              "      --disabled-fill-color: #666;\n",
              "  }\n",
              "\n",
              "  .colab-df-quickchart {\n",
              "    background-color: var(--bg-color);\n",
              "    border: none;\n",
              "    border-radius: 50%;\n",
              "    cursor: pointer;\n",
              "    display: none;\n",
              "    fill: var(--fill-color);\n",
              "    height: 32px;\n",
              "    padding: 0;\n",
              "    width: 32px;\n",
              "  }\n",
              "\n",
              "  .colab-df-quickchart:hover {\n",
              "    background-color: var(--hover-bg-color);\n",
              "    box-shadow: 0 1px 2px rgba(60, 64, 67, 0.3), 0 1px 3px 1px rgba(60, 64, 67, 0.15);\n",
              "    fill: var(--button-hover-fill-color);\n",
              "  }\n",
              "\n",
              "  .colab-df-quickchart-complete:disabled,\n",
              "  .colab-df-quickchart-complete:disabled:hover {\n",
              "    background-color: var(--disabled-bg-color);\n",
              "    fill: var(--disabled-fill-color);\n",
              "    box-shadow: none;\n",
              "  }\n",
              "\n",
              "  .colab-df-spinner {\n",
              "    border: 2px solid var(--fill-color);\n",
              "    border-color: transparent;\n",
              "    border-bottom-color: var(--fill-color);\n",
              "    animation:\n",
              "      spin 1s steps(1) infinite;\n",
              "  }\n",
              "\n",
              "  @keyframes spin {\n",
              "    0% {\n",
              "      border-color: transparent;\n",
              "      border-bottom-color: var(--fill-color);\n",
              "      border-left-color: var(--fill-color);\n",
              "    }\n",
              "    20% {\n",
              "      border-color: transparent;\n",
              "      border-left-color: var(--fill-color);\n",
              "      border-top-color: var(--fill-color);\n",
              "    }\n",
              "    30% {\n",
              "      border-color: transparent;\n",
              "      border-left-color: var(--fill-color);\n",
              "      border-top-color: var(--fill-color);\n",
              "      border-right-color: var(--fill-color);\n",
              "    }\n",
              "    40% {\n",
              "      border-color: transparent;\n",
              "      border-right-color: var(--fill-color);\n",
              "      border-top-color: var(--fill-color);\n",
              "    }\n",
              "    60% {\n",
              "      border-color: transparent;\n",
              "      border-right-color: var(--fill-color);\n",
              "    }\n",
              "    80% {\n",
              "      border-color: transparent;\n",
              "      border-right-color: var(--fill-color);\n",
              "      border-bottom-color: var(--fill-color);\n",
              "    }\n",
              "    90% {\n",
              "      border-color: transparent;\n",
              "      border-bottom-color: var(--fill-color);\n",
              "    }\n",
              "  }\n",
              "</style>\n",
              "\n",
              "      <script>\n",
              "        async function quickchart(key) {\n",
              "          const quickchartButtonEl =\n",
              "            document.querySelector('#' + key + ' button');\n",
              "          quickchartButtonEl.disabled = true;  // To prevent multiple clicks.\n",
              "          quickchartButtonEl.classList.add('colab-df-spinner');\n",
              "          try {\n",
              "            const charts = await google.colab.kernel.invokeFunction(\n",
              "                'suggestCharts', [key], {});\n",
              "          } catch (error) {\n",
              "            console.error('Error during call to suggestCharts:', error);\n",
              "          }\n",
              "          quickchartButtonEl.classList.remove('colab-df-spinner');\n",
              "          quickchartButtonEl.classList.add('colab-df-quickchart-complete');\n",
              "        }\n",
              "        (() => {\n",
              "          let quickchartButtonEl =\n",
              "            document.querySelector('#df-7aea2eab-d72a-476e-86c1-97b06ce7aa77 button');\n",
              "          quickchartButtonEl.style.display =\n",
              "            google.colab.kernel.accessAllowed ? 'block' : 'none';\n",
              "        })();\n",
              "      </script>\n",
              "    </div>\n",
              "\n",
              "    </div>\n",
              "  </div>\n"
            ],
            "application/vnd.google.colaboratory.intrinsic+json": {
              "type": "dataframe",
              "summary": "{\n  \"name\": \"print(\\\"\\u2705 Cosine columns added \\u2013 ready for Step 4 (Spearman)\",\n  \"rows\": 5,\n  \"fields\": [\n    {\n      \"column\": \"Word 1\",\n      \"properties\": {\n        \"dtype\": \"string\",\n        \"num_unique_values\": 4,\n        \"samples\": [\n          \"tiger\",\n          \"computer\",\n          \"love\"\n        ],\n        \"semantic_type\": \"\",\n        \"description\": \"\"\n      }\n    },\n    {\n      \"column\": \"Word 2\",\n      \"properties\": {\n        \"dtype\": \"string\",\n        \"num_unique_values\": 5,\n        \"samples\": [\n          \"cat\",\n          \"keyboard\",\n          \"tiger\"\n        ],\n        \"semantic_type\": \"\",\n        \"description\": \"\"\n      }\n    },\n    {\n      \"column\": \"Human (mean)\",\n      \"properties\": {\n        \"dtype\": \"number\",\n        \"std\": 1.2493398256679407,\n        \"min\": 6.77,\n        \"max\": 10.0,\n        \"num_unique_values\": 5,\n        \"samples\": [\n          7.35,\n          7.62,\n          10.0\n        ],\n        \"semantic_type\": \"\",\n        \"description\": \"\"\n      }\n    },\n    {\n      \"column\": \"cosine_small\",\n      \"properties\": {\n        \"dtype\": \"number\",\n        \"std\": 0.12031560557889513,\n        \"min\": 0.6602445840835571,\n        \"max\": 1.0,\n        \"num_unique_values\": 5,\n        \"samples\": [\n          0.8455104827880859,\n          0.8319310545921326,\n          1.0\n        ],\n        \"semantic_type\": \"\",\n        \"description\": \"\"\n      }\n    },\n    {\n      \"column\": \"cosine_large\",\n      \"properties\": {\n        \"dtype\": \"float32\",\n        \"num_unique_values\": 5,\n        \"samples\": [\n          0.6151940226554871,\n          0.38583314418792725,\n          1.0\n        ],\n        \"semantic_type\": \"\",\n        \"description\": \"\"\n      }\n    }\n  ]\n}"
            }
          },
          "metadata": {}
        },
        {
          "output_type": "stream",
          "name": "stdout",
          "text": [
            "✅ Cosine columns added – ready for Step 4 (Spearman).\n"
          ]
        }
      ]
    },
    {
      "cell_type": "code",
      "source": [
        "# Step 4\n",
        "from scipy.stats import spearmanr\n",
        "\n",
        "# Compute Spearman rank-order correlation\n",
        "rho_small, p_small = spearmanr(wordsim_df['Human (mean)'],\n",
        "                               wordsim_df['cosine_small'],\n",
        "                               nan_policy='omit')\n",
        "\n",
        "rho_large, p_large = spearmanr(wordsim_df['Human (mean)'],\n",
        "                               wordsim_df['cosine_large'],\n",
        "                               nan_policy='omit')\n",
        "\n",
        "print(f\"Spearman correlation (wikitext_small): {rho_small:.4f} (p={p_small:.4e})\")\n",
        "print(f\"Spearman correlation (wikitext_large): {rho_large:.4f} (p={p_large:.4e})\")\n"
      ],
      "metadata": {
        "colab": {
          "base_uri": "https://localhost:8080/"
        },
        "id": "N8qFr1l6voyC",
        "outputId": "022d473d-9566-4ebb-cb23-7859e87c1c37"
      },
      "execution_count": 19,
      "outputs": [
        {
          "output_type": "stream",
          "name": "stdout",
          "text": [
            "Spearman correlation (wikitext_small): 0.1504 (p=1.4984e-02)\n",
            "Spearman correlation (wikitext_large): 0.6431 (p=1.3599e-42)\n"
          ]
        }
      ]
    },
    {
      "cell_type": "code",
      "source": [
        "#Step 5 (if u are the first time to download the api, just run this cell, remember to clear all the ## before run)\n",
        "#import gensim.downloader as api\n",
        "\n",
        "# Save it permanently to Drive\n",
        "## model.save(\"/content/drive/MyDrive/word2vec-google-news-300.model\")\n",
        "## print(\"Model saved to Google Drive!\")\n",
        "\n",
        "# Load model\n",
        "#model = api.load(\"word2vec-google-news-300\")\n",
        "#print(\"Model loaded!\")\n",
        "\n",
        "\n",
        "\n",
        "#\"\"\"Once u done download the api model, it should be save to ur google drive\"\"\"\n",
        "#\"\"\"Then , put the ## back to the code\"\"\"\n",
        "#\"\"\"And so when u run again, it just only call the api from your google drive, no need download again\"\"\"\n",
        "\n"
      ],
      "metadata": {
        "colab": {
          "base_uri": "https://localhost:8080/",
          "height": 373
        },
        "id": "zI-09Kusvp53",
        "outputId": "331ab0f5-7df4-41d8-f71d-a4b901b8adae"
      },
      "execution_count": 20,
      "outputs": [
        {
          "output_type": "stream",
          "name": "stdout",
          "text": [
            "[=-------------------------------------------------] 2.0% 34.0/1662.8MB downloaded"
          ]
        },
        {
          "output_type": "error",
          "ename": "KeyboardInterrupt",
          "evalue": "",
          "traceback": [
            "\u001b[0;31m---------------------------------------------------------------------------\u001b[0m",
            "\u001b[0;31mKeyboardInterrupt\u001b[0m                         Traceback (most recent call last)",
            "\u001b[0;32m/tmp/ipython-input-1355703476.py\u001b[0m in \u001b[0;36m<cell line: 0>\u001b[0;34m()\u001b[0m\n\u001b[1;32m      7\u001b[0m \u001b[0;34m\u001b[0m\u001b[0m\n\u001b[1;32m      8\u001b[0m \u001b[0;31m# Load model\u001b[0m\u001b[0;34m\u001b[0m\u001b[0;34m\u001b[0m\u001b[0m\n\u001b[0;32m----> 9\u001b[0;31m \u001b[0mmodel\u001b[0m \u001b[0;34m=\u001b[0m \u001b[0mapi\u001b[0m\u001b[0;34m.\u001b[0m\u001b[0mload\u001b[0m\u001b[0;34m(\u001b[0m\u001b[0;34m\"word2vec-google-news-300\"\u001b[0m\u001b[0;34m)\u001b[0m\u001b[0;34m\u001b[0m\u001b[0;34m\u001b[0m\u001b[0m\n\u001b[0m\u001b[1;32m     10\u001b[0m \u001b[0mprint\u001b[0m\u001b[0;34m(\u001b[0m\u001b[0;34m\"Model loaded!\"\u001b[0m\u001b[0;34m)\u001b[0m\u001b[0;34m\u001b[0m\u001b[0;34m\u001b[0m\u001b[0m\n\u001b[1;32m     11\u001b[0m \u001b[0;34m\u001b[0m\u001b[0m\n",
            "\u001b[0;32m/usr/local/lib/python3.12/dist-packages/gensim/downloader.py\u001b[0m in \u001b[0;36mload\u001b[0;34m(name, return_path)\u001b[0m\n\u001b[1;32m    494\u001b[0m     \u001b[0mpath\u001b[0m \u001b[0;34m=\u001b[0m \u001b[0mos\u001b[0m\u001b[0;34m.\u001b[0m\u001b[0mpath\u001b[0m\u001b[0;34m.\u001b[0m\u001b[0mjoin\u001b[0m\u001b[0;34m(\u001b[0m\u001b[0mfolder_dir\u001b[0m\u001b[0;34m,\u001b[0m \u001b[0mfile_name\u001b[0m\u001b[0;34m)\u001b[0m\u001b[0;34m\u001b[0m\u001b[0;34m\u001b[0m\u001b[0m\n\u001b[1;32m    495\u001b[0m     \u001b[0;32mif\u001b[0m \u001b[0;32mnot\u001b[0m \u001b[0mos\u001b[0m\u001b[0;34m.\u001b[0m\u001b[0mpath\u001b[0m\u001b[0;34m.\u001b[0m\u001b[0mexists\u001b[0m\u001b[0;34m(\u001b[0m\u001b[0mfolder_dir\u001b[0m\u001b[0;34m)\u001b[0m\u001b[0;34m:\u001b[0m\u001b[0;34m\u001b[0m\u001b[0;34m\u001b[0m\u001b[0m\n\u001b[0;32m--> 496\u001b[0;31m         \u001b[0m_download\u001b[0m\u001b[0;34m(\u001b[0m\u001b[0mname\u001b[0m\u001b[0;34m)\u001b[0m\u001b[0;34m\u001b[0m\u001b[0;34m\u001b[0m\u001b[0m\n\u001b[0m\u001b[1;32m    497\u001b[0m \u001b[0;34m\u001b[0m\u001b[0m\n\u001b[1;32m    498\u001b[0m     \u001b[0;32mif\u001b[0m \u001b[0mreturn_path\u001b[0m\u001b[0;34m:\u001b[0m\u001b[0;34m\u001b[0m\u001b[0;34m\u001b[0m\u001b[0m\n",
            "\u001b[0;32m/usr/local/lib/python3.12/dist-packages/gensim/downloader.py\u001b[0m in \u001b[0;36m_download\u001b[0;34m(name)\u001b[0m\n\u001b[1;32m    394\u001b[0m         \u001b[0mfname\u001b[0m \u001b[0;34m=\u001b[0m \u001b[0;34m\"{fname}.gz\"\u001b[0m\u001b[0;34m.\u001b[0m\u001b[0mformat\u001b[0m\u001b[0;34m(\u001b[0m\u001b[0mfname\u001b[0m\u001b[0;34m=\u001b[0m\u001b[0mname\u001b[0m\u001b[0;34m)\u001b[0m\u001b[0;34m\u001b[0m\u001b[0;34m\u001b[0m\u001b[0m\n\u001b[1;32m    395\u001b[0m         \u001b[0mdst_path\u001b[0m \u001b[0;34m=\u001b[0m \u001b[0mos\u001b[0m\u001b[0;34m.\u001b[0m\u001b[0mpath\u001b[0m\u001b[0;34m.\u001b[0m\u001b[0mjoin\u001b[0m\u001b[0;34m(\u001b[0m\u001b[0mtmp_dir\u001b[0m\u001b[0;34m,\u001b[0m \u001b[0mfname\u001b[0m\u001b[0;34m)\u001b[0m\u001b[0;34m\u001b[0m\u001b[0;34m\u001b[0m\u001b[0m\n\u001b[0;32m--> 396\u001b[0;31m         \u001b[0murllib\u001b[0m\u001b[0;34m.\u001b[0m\u001b[0murlretrieve\u001b[0m\u001b[0;34m(\u001b[0m\u001b[0murl_data\u001b[0m\u001b[0;34m,\u001b[0m \u001b[0mdst_path\u001b[0m\u001b[0;34m,\u001b[0m \u001b[0mreporthook\u001b[0m\u001b[0;34m=\u001b[0m\u001b[0m_progress\u001b[0m\u001b[0;34m)\u001b[0m\u001b[0;34m\u001b[0m\u001b[0;34m\u001b[0m\u001b[0m\n\u001b[0m\u001b[1;32m    397\u001b[0m         \u001b[0;32mif\u001b[0m \u001b[0m_calculate_md5_checksum\u001b[0m\u001b[0;34m(\u001b[0m\u001b[0mdst_path\u001b[0m\u001b[0;34m)\u001b[0m \u001b[0;34m==\u001b[0m \u001b[0m_get_checksum\u001b[0m\u001b[0;34m(\u001b[0m\u001b[0mname\u001b[0m\u001b[0;34m)\u001b[0m\u001b[0;34m:\u001b[0m\u001b[0;34m\u001b[0m\u001b[0;34m\u001b[0m\u001b[0m\n\u001b[1;32m    398\u001b[0m             \u001b[0msys\u001b[0m\u001b[0;34m.\u001b[0m\u001b[0mstdout\u001b[0m\u001b[0;34m.\u001b[0m\u001b[0mwrite\u001b[0m\u001b[0;34m(\u001b[0m\u001b[0;34m\"\\n\"\u001b[0m\u001b[0;34m)\u001b[0m\u001b[0;34m\u001b[0m\u001b[0;34m\u001b[0m\u001b[0m\n",
            "\u001b[0;32m/usr/lib/python3.12/urllib/request.py\u001b[0m in \u001b[0;36murlretrieve\u001b[0;34m(url, filename, reporthook, data)\u001b[0m\n\u001b[1;32m    271\u001b[0m                 \u001b[0mblocknum\u001b[0m \u001b[0;34m+=\u001b[0m \u001b[0;36m1\u001b[0m\u001b[0;34m\u001b[0m\u001b[0;34m\u001b[0m\u001b[0m\n\u001b[1;32m    272\u001b[0m                 \u001b[0;32mif\u001b[0m \u001b[0mreporthook\u001b[0m\u001b[0;34m:\u001b[0m\u001b[0;34m\u001b[0m\u001b[0;34m\u001b[0m\u001b[0m\n\u001b[0;32m--> 273\u001b[0;31m                     \u001b[0mreporthook\u001b[0m\u001b[0;34m(\u001b[0m\u001b[0mblocknum\u001b[0m\u001b[0;34m,\u001b[0m \u001b[0mbs\u001b[0m\u001b[0;34m,\u001b[0m \u001b[0msize\u001b[0m\u001b[0;34m)\u001b[0m\u001b[0;34m\u001b[0m\u001b[0;34m\u001b[0m\u001b[0m\n\u001b[0m\u001b[1;32m    274\u001b[0m \u001b[0;34m\u001b[0m\u001b[0m\n\u001b[1;32m    275\u001b[0m     \u001b[0;32mif\u001b[0m \u001b[0msize\u001b[0m \u001b[0;34m>=\u001b[0m \u001b[0;36m0\u001b[0m \u001b[0;32mand\u001b[0m \u001b[0mread\u001b[0m \u001b[0;34m<\u001b[0m \u001b[0msize\u001b[0m\u001b[0;34m:\u001b[0m\u001b[0;34m\u001b[0m\u001b[0;34m\u001b[0m\u001b[0m\n",
            "\u001b[0;32m/usr/local/lib/python3.12/dist-packages/gensim/downloader.py\u001b[0m in \u001b[0;36m_progress\u001b[0;34m(chunks_downloaded, chunk_size, total_size, part, total_parts)\u001b[0m\n\u001b[1;32m    127\u001b[0m                 round(float(total_size) / (1024 * 1024), 1))\n\u001b[1;32m    128\u001b[0m         )\n\u001b[0;32m--> 129\u001b[0;31m         \u001b[0msys\u001b[0m\u001b[0;34m.\u001b[0m\u001b[0mstdout\u001b[0m\u001b[0;34m.\u001b[0m\u001b[0mflush\u001b[0m\u001b[0;34m(\u001b[0m\u001b[0;34m)\u001b[0m\u001b[0;34m\u001b[0m\u001b[0;34m\u001b[0m\u001b[0m\n\u001b[0m\u001b[1;32m    130\u001b[0m     \u001b[0;32melse\u001b[0m\u001b[0;34m:\u001b[0m\u001b[0;34m\u001b[0m\u001b[0;34m\u001b[0m\u001b[0m\n\u001b[1;32m    131\u001b[0m         sys.stdout.write(\n",
            "\u001b[0;32m/usr/local/lib/python3.12/dist-packages/ipykernel/iostream.py\u001b[0m in \u001b[0;36mflush\u001b[0;34m(self)\u001b[0m\n\u001b[1;32m    486\u001b[0m             \u001b[0mself\u001b[0m\u001b[0;34m.\u001b[0m\u001b[0mpub_thread\u001b[0m\u001b[0;34m.\u001b[0m\u001b[0mschedule\u001b[0m\u001b[0;34m(\u001b[0m\u001b[0mevt\u001b[0m\u001b[0;34m.\u001b[0m\u001b[0mset\u001b[0m\u001b[0;34m)\u001b[0m\u001b[0;34m\u001b[0m\u001b[0;34m\u001b[0m\u001b[0m\n\u001b[1;32m    487\u001b[0m             \u001b[0;31m# and give a timeout to avoid\u001b[0m\u001b[0;34m\u001b[0m\u001b[0;34m\u001b[0m\u001b[0m\n\u001b[0;32m--> 488\u001b[0;31m             \u001b[0;32mif\u001b[0m \u001b[0;32mnot\u001b[0m \u001b[0mevt\u001b[0m\u001b[0;34m.\u001b[0m\u001b[0mwait\u001b[0m\u001b[0;34m(\u001b[0m\u001b[0mself\u001b[0m\u001b[0;34m.\u001b[0m\u001b[0mflush_timeout\u001b[0m\u001b[0;34m)\u001b[0m\u001b[0;34m:\u001b[0m\u001b[0;34m\u001b[0m\u001b[0;34m\u001b[0m\u001b[0m\n\u001b[0m\u001b[1;32m    489\u001b[0m                 \u001b[0;31m# write directly to __stderr__ instead of warning because\u001b[0m\u001b[0;34m\u001b[0m\u001b[0;34m\u001b[0m\u001b[0m\n\u001b[1;32m    490\u001b[0m                 \u001b[0;31m# if this is happening sys.stderr may be the problem.\u001b[0m\u001b[0;34m\u001b[0m\u001b[0;34m\u001b[0m\u001b[0m\n",
            "\u001b[0;32m/usr/lib/python3.12/threading.py\u001b[0m in \u001b[0;36mwait\u001b[0;34m(self, timeout)\u001b[0m\n\u001b[1;32m    653\u001b[0m             \u001b[0msignaled\u001b[0m \u001b[0;34m=\u001b[0m \u001b[0mself\u001b[0m\u001b[0;34m.\u001b[0m\u001b[0m_flag\u001b[0m\u001b[0;34m\u001b[0m\u001b[0;34m\u001b[0m\u001b[0m\n\u001b[1;32m    654\u001b[0m             \u001b[0;32mif\u001b[0m \u001b[0;32mnot\u001b[0m \u001b[0msignaled\u001b[0m\u001b[0;34m:\u001b[0m\u001b[0;34m\u001b[0m\u001b[0;34m\u001b[0m\u001b[0m\n\u001b[0;32m--> 655\u001b[0;31m                 \u001b[0msignaled\u001b[0m \u001b[0;34m=\u001b[0m \u001b[0mself\u001b[0m\u001b[0;34m.\u001b[0m\u001b[0m_cond\u001b[0m\u001b[0;34m.\u001b[0m\u001b[0mwait\u001b[0m\u001b[0;34m(\u001b[0m\u001b[0mtimeout\u001b[0m\u001b[0;34m)\u001b[0m\u001b[0;34m\u001b[0m\u001b[0;34m\u001b[0m\u001b[0m\n\u001b[0m\u001b[1;32m    656\u001b[0m             \u001b[0;32mreturn\u001b[0m \u001b[0msignaled\u001b[0m\u001b[0;34m\u001b[0m\u001b[0;34m\u001b[0m\u001b[0m\n\u001b[1;32m    657\u001b[0m \u001b[0;34m\u001b[0m\u001b[0m\n",
            "\u001b[0;32m/usr/lib/python3.12/threading.py\u001b[0m in \u001b[0;36mwait\u001b[0;34m(self, timeout)\u001b[0m\n\u001b[1;32m    357\u001b[0m             \u001b[0;32melse\u001b[0m\u001b[0;34m:\u001b[0m\u001b[0;34m\u001b[0m\u001b[0;34m\u001b[0m\u001b[0m\n\u001b[1;32m    358\u001b[0m                 \u001b[0;32mif\u001b[0m \u001b[0mtimeout\u001b[0m \u001b[0;34m>\u001b[0m \u001b[0;36m0\u001b[0m\u001b[0;34m:\u001b[0m\u001b[0;34m\u001b[0m\u001b[0;34m\u001b[0m\u001b[0m\n\u001b[0;32m--> 359\u001b[0;31m                     \u001b[0mgotit\u001b[0m \u001b[0;34m=\u001b[0m \u001b[0mwaiter\u001b[0m\u001b[0;34m.\u001b[0m\u001b[0macquire\u001b[0m\u001b[0;34m(\u001b[0m\u001b[0;32mTrue\u001b[0m\u001b[0;34m,\u001b[0m \u001b[0mtimeout\u001b[0m\u001b[0;34m)\u001b[0m\u001b[0;34m\u001b[0m\u001b[0;34m\u001b[0m\u001b[0m\n\u001b[0m\u001b[1;32m    360\u001b[0m                 \u001b[0;32melse\u001b[0m\u001b[0;34m:\u001b[0m\u001b[0;34m\u001b[0m\u001b[0;34m\u001b[0m\u001b[0m\n\u001b[1;32m    361\u001b[0m                     \u001b[0mgotit\u001b[0m \u001b[0;34m=\u001b[0m \u001b[0mwaiter\u001b[0m\u001b[0;34m.\u001b[0m\u001b[0macquire\u001b[0m\u001b[0;34m(\u001b[0m\u001b[0;32mFalse\u001b[0m\u001b[0;34m)\u001b[0m\u001b[0;34m\u001b[0m\u001b[0;34m\u001b[0m\u001b[0m\n",
            "\u001b[0;31mKeyboardInterrupt\u001b[0m: "
          ]
        }
      ]
    },
    {
      "cell_type": "code",
      "source": [
        "from scipy.stats import spearmanr\n",
        "import numpy as np\n",
        "from gensim.models import KeyedVectors\n",
        "\n",
        "google_news_model = KeyedVectors.load(\"/content/drive/MyDrive/word2vec-google-news-300.model\", mmap='r')\n",
        "print(\"Loaded Google News model from Drive (no download needed!)\")\n",
        "\n",
        "# Safe cosine function for this KeyedVectors model\n",
        "def compute_cosine_pretrained(model, w1, w2):\n",
        "    w1, w2 = w1.lower(), w2.lower()\n",
        "    try:\n",
        "        return model.similarity(w1, w2)\n",
        "    except KeyError:\n",
        "        return np.nan\n",
        "\n",
        "# Compute cosine for all pairs\n",
        "wordsim_df['cosine_google'] = [\n",
        "    compute_cosine_pretrained(google_news_model, w1, w2)\n",
        "    for w1, w2 in zip(wordsim_df['Word 1'], wordsim_df['Word 2'])\n",
        "]\n",
        "\n",
        "# Calculate Spearman correlation\n",
        "rho_google, p_google = spearmanr(wordsim_df['Human (mean)'], wordsim_df['cosine_google'], nan_policy='omit')\n",
        "\n",
        "print(f\"Spearman correlation (Google News Word2Vec): {rho_google:.4f} (p={p_google:.4e})\")\n"
      ],
      "metadata": {
        "id": "dfuXd8HlzK6k",
        "colab": {
          "base_uri": "https://localhost:8080/"
        },
        "outputId": "47d47704-bf5a-4dfb-c6ef-295c585d2344"
      },
      "execution_count": 21,
      "outputs": [
        {
          "output_type": "stream",
          "name": "stdout",
          "text": [
            "Loaded Google News model from Drive (no download needed!)\n",
            "Spearman correlation (Google News Word2Vec): 0.6941 (p=1.2875e-51)\n"
          ]
        }
      ]
    },
    {
      "cell_type": "code",
      "source": [
        "# STEP 6\n",
        "\n",
        "def train_and_evaluate(tokens, name, **params):\n",
        "    \"\"\"Train model with given parameters and compute Spearman correlation.\"\"\"\n",
        "    model = Word2Vec(sentences=tokens, workers=os.cpu_count(), seed=42, **params)\n",
        "    model.train(tokens, total_examples=len(tokens), epochs=params.get(\"epochs\", 5))\n",
        "\n",
        "    # Compute cosine for all 353 pairs\n",
        "    df = wordsim_df.copy()\n",
        "    df['cosine'] = [\n",
        "        compute_cosine(model, w1, w2) for w1, w2 in zip(df['Word 1'], df['Word 2'])\n",
        "    ]\n",
        "    rho, _ = spearmanr(df['Human (mean)'], df['cosine'], nan_policy='omit')\n",
        "    print(f\"{name:15s} → Spearman ρ = {rho:.4f}\")\n",
        "    return rho\n",
        "\n",
        "results = {}\n",
        "\n",
        "# Example experiments\n",
        "results['baseline'] = train_and_evaluate(tokens_small, \"baseline\",vector_size=50, window=5, min_count=5, epochs=5, sg=0)\n",
        "\n",
        "results['skipgram'] = train_and_evaluate(tokens_small, \"skipgram\",vector_size=50, window=5, min_count=5, epochs=5, sg=1)\n",
        "\n",
        "results['bigger'] = train_and_evaluate(tokens_small, \"bigger\",vector_size=100, window=5, min_count=5, epochs=10, sg=1)\n",
        "\n",
        "results['baseline_large'] = train_and_evaluate(tokens_large, \"baseline_large\",vector_size=50, window=5, min_count=5, epochs=5, sg=0)\n",
        "\n",
        "results['skipgram_large'] = train_and_evaluate(tokens_large, \"skipgram_large\",vector_size=50, window=5, min_count=5, epochs=5, sg=1)\n",
        "\n",
        "results['bigger_large'] = train_and_evaluate(tokens_large, \"bigger_large\",vector_size=100, window=5, min_count=5, epochs=10, sg=1)\n",
        "\n",
        "pd.DataFrame(list(results.items()), columns=[\"Model\", \"Spearman ρ\"])\n"
      ],
      "metadata": {
        "colab": {
          "base_uri": "https://localhost:8080/",
          "height": 211
        },
        "id": "t742p4R6drqB",
        "outputId": "623f1524-60ca-4d07-d4df-527cd4abcba2"
      },
      "execution_count": 2,
      "outputs": [
        {
          "output_type": "error",
          "ename": "NameError",
          "evalue": "name 'tokens_small' is not defined",
          "traceback": [
            "\u001b[0;31m---------------------------------------------------------------------------\u001b[0m",
            "\u001b[0;31mNameError\u001b[0m                                 Traceback (most recent call last)",
            "\u001b[0;32m/tmp/ipython-input-2787881577.py\u001b[0m in \u001b[0;36m<cell line: 0>\u001b[0;34m()\u001b[0m\n\u001b[1;32m     18\u001b[0m \u001b[0;34m\u001b[0m\u001b[0m\n\u001b[1;32m     19\u001b[0m \u001b[0;31m# Example experiments\u001b[0m\u001b[0;34m\u001b[0m\u001b[0;34m\u001b[0m\u001b[0m\n\u001b[0;32m---> 20\u001b[0;31m results['baseline'] = train_and_evaluate(tokens_small, \"baseline\",\n\u001b[0m\u001b[1;32m     21\u001b[0m                                          vector_size=50, window=5, min_count=5, epochs=5, sg=0)\n\u001b[1;32m     22\u001b[0m \u001b[0;34m\u001b[0m\u001b[0m\n",
            "\u001b[0;31mNameError\u001b[0m: name 'tokens_small' is not defined"
          ]
        }
      ]
    },
    {
      "cell_type": "code",
      "source": [
        "#step 7\n",
        "\n",
        "from gensim.models import KeyedVectors\n",
        "\n",
        "\n",
        "# load from Drive (fast) — change path if needed\n",
        "google_news = KeyedVectors.load(\"/content/drive/MyDrive/word2vec-google-news-300.model\", mmap='r')\n",
        "\n",
        "def normalize_variants(w):\n",
        "    \"\"\"Return candidate surface forms for GoogleNews vocab (case & underscore).\"\"\"\n",
        "    cands = {w, w.lower(), w.capitalize(), w.title(), w.replace(\" \", \"_\"),\n",
        "             w.lower().replace(\" \", \"_\")}\n",
        "    return list(cands)\n",
        "\n",
        "def in_vocab(model, w):\n",
        "    return w in model.key_to_index\n",
        "\n",
        "def pick_vocab_form(model, w):\n",
        "    for v in normalize_variants(w):\n",
        "        if in_vocab(model, v):\n",
        "            return v\n",
        "    return None  # not found\n",
        "\n",
        "def topk_analogy(model, a, b, c, topn=5, exclude=None):\n",
        "    \"\"\"\n",
        "    Solve: a : b :: c : ?\n",
        "    i.e., vector = b - a + c, return top-n.\n",
        "    Tries smart variants for vocab. Excludes source words by default.\n",
        "    \"\"\"\n",
        "    a_ = pick_vocab_form(model, a)\n",
        "    b_ = pick_vocab_form(model, b)\n",
        "    c_ = pick_vocab_form(model, c)\n",
        "    if not all([a_, b_, c_]):\n",
        "        return {\"query\": (a,b,c), \"resolved\": (a_,b_,c_), \"answers\": [], \"note\": \"OOV encountered\"}\n",
        "\n",
        "    neg = [a_]\n",
        "    pos = [b_, c_]\n",
        "    res = model.most_similar(positive=pos, negative=neg, topn=topn+10)  # extra buffer\n",
        "    # filter out trivial echoes of inputs\n",
        "    bad = set([x for x in [a_, b_, c_] if x]) | set(normalize_variants(a) + normalize_variants(b) + normalize_variants(c))\n",
        "    answers = [(w, float(s)) for (w,s) in res if w not in bad][:topn]\n",
        "    return {\"query\": (a,b,c), \"resolved\": (a_,b_,c_), \"answers\": answers, \"note\": \"\"}\n"
      ],
      "metadata": {
        "id": "MNfRmfSPjvpN"
      },
      "execution_count": null,
      "outputs": []
    },
    {
      "cell_type": "code",
      "source": [
        "queries_g = [\n",
        "    (\"man\", \"woman\", \"king\"),                # → expect ~\"queen\"\n",
        "    (\"Athens\", \"Greece\", \"Rome\"),            # → expect ~\"Italy\"\n",
        "    (\"reading\", \"read\", \"playing\"),          # → expect ~\"play\"\n",
        "    (\"Greece\", \"souvlaki\", \"Italy\"),         # → expect ~\"pizza\"/\"pasta\"\n",
        "    (\"airplane\", \"propeller\", \"car\"),        # → expect ~\"engine\"/\"motor\"\n",
        "]\n",
        "\n",
        "for a,b,c in queries_g:\n",
        "    out = topk_analogy(google_news, a,b,c, topn=5)\n",
        "    print(f\"{a} : {b} :: {c} : ?\")\n",
        "    print(\" resolved tokens:\", out[\"resolved\"])\n",
        "    if out[\"answers\"]:\n",
        "        for i,(w,s) in enumerate(out[\"answers\"],1):\n",
        "            print(f\"  {i}. {w:20s}  ({s:.3f})\")\n",
        "    else:\n",
        "        print(\"  [OOV or no results]\", out[\"note\"])\n",
        "    print()\n"
      ],
      "metadata": {
        "id": "MQcBTwoAkNHu",
        "outputId": "16db6b3c-c1be-4813-a2ab-256fa77a4d86",
        "colab": {
          "base_uri": "https://localhost:8080/"
        }
      },
      "execution_count": null,
      "outputs": [
        {
          "output_type": "stream",
          "name": "stdout",
          "text": [
            "man : woman :: king : ?\n",
            " resolved tokens: ('Man', 'woman', 'king')\n",
            "  1. queen                 (0.600)\n",
            "  2. monarch               (0.581)\n",
            "  3. prince                (0.524)\n",
            "  4. princess              (0.512)\n",
            "  5. crown_prince          (0.479)\n",
            "\n",
            "Athens : Greece :: Rome : ?\n",
            " resolved tokens: ('Athens', 'greece', 'rome')\n",
            "  1. pablo                 (0.621)\n",
            "  2. samuel                (0.621)\n",
            "  3. omar                  (0.619)\n",
            "  4. cro                   (0.615)\n",
            "  5. zim                   (0.613)\n",
            "\n",
            "reading : read :: playing : ?\n",
            " resolved tokens: ('Reading', 'Read', 'playing')\n",
            "  1. played                (0.524)\n",
            "  2. play                  (0.472)\n",
            "  3. playin                (0.462)\n",
            "  4. See                   (0.419)\n",
            "  5. practicing            (0.400)\n",
            "\n",
            "Greece : souvlaki :: Italy : ?\n",
            " resolved tokens: ('greece', 'souvlaki', 'Italy')\n",
            "  1. Italian               (0.522)\n",
            "  2. Pasticceria           (0.507)\n",
            "  3. cannolis              (0.502)\n",
            "  4. Napoletana            (0.496)\n",
            "  5. Undici                (0.495)\n",
            "\n",
            "airplane : propeller :: car : ?\n",
            " resolved tokens: ('airplane', 'propeller', 'car')\n",
            "  1. steering_wheel        (0.570)\n",
            "  2. front_fender          (0.542)\n",
            "  3. fender                (0.539)\n",
            "  4. Ford_Festiva          (0.532)\n",
            "  5. Nissan_###ZX          (0.527)\n",
            "\n"
          ]
        }
      ]
    },
    {
      "cell_type": "code",
      "source": [
        "queries_h = [\n",
        "    (\"man\", \"woman\", \"computer programmer\"),\n",
        "    (\"man\", \"woman\", \"superstar\"),\n",
        "    (\"man\", \"woman\", \"guitarist\"),\n",
        "    (\"man\", \"woman\", \"boss\"),\n",
        "]\n",
        "\n",
        "for a,b,c in queries_h:\n",
        "    out = topk_analogy(google_news, a,b,c, topn=5)\n",
        "    print(f\"{a} : {b} :: {c} : ?\")\n",
        "    print(\" resolved tokens:\", out[\"resolved\"])\n",
        "    if out[\"answers\"]:\n",
        "        for i,(w,s) in enumerate(out[\"answers\"],1):\n",
        "            print(f\"  {i}. {w:25s} ({s:.3f})\")\n",
        "    else:\n",
        "        print(\"  [OOV or no results]\", out[\"note\"])\n",
        "    print()\n"
      ],
      "metadata": {
        "id": "kt8DvTG6jxDU",
        "outputId": "e80f48ca-15d5-4796-d07f-1600bb1d8d86",
        "colab": {
          "base_uri": "https://localhost:8080/"
        }
      },
      "execution_count": null,
      "outputs": [
        {
          "output_type": "stream",
          "name": "stdout",
          "text": [
            "man : woman :: computer programmer : ?\n",
            " resolved tokens: ('Man', 'woman', 'computer_programmer')\n",
            "  1. schoolteacher             (0.524)\n",
            "  2. homemaker                 (0.516)\n",
            "  3. businesswoman             (0.483)\n",
            "  4. housewife                 (0.481)\n",
            "  5. divorcee                  (0.475)\n",
            "\n",
            "man : woman :: superstar : ?\n",
            " resolved tokens: ('Man', 'woman', 'superstar')\n",
            "  1. megastar                  (0.577)\n",
            "  2. singing_sensation         (0.511)\n",
            "  3. diva                      (0.511)\n",
            "  4. songstress                (0.488)\n",
            "  5. pop_diva                  (0.487)\n",
            "\n",
            "man : woman :: guitarist : ?\n",
            " resolved tokens: ('Man', 'woman', 'Guitarist')\n",
            "  1. Vocalist                  (0.541)\n",
            "  2. vocalist                  (0.527)\n",
            "  3. Singer_songwriter         (0.519)\n",
            "  4. drummer                   (0.510)\n",
            "  5. Bassist                   (0.508)\n",
            "\n",
            "man : woman :: boss : ?\n",
            " resolved tokens: ('Man', 'woman', 'boss')\n",
            "  1. lady                      (0.471)\n",
            "  2. husband                   (0.450)\n",
            "  3. receptionist              (0.443)\n",
            "  4. housekeeper               (0.443)\n",
            "  5. waitress                  (0.438)\n",
            "\n"
          ]
        }
      ]
    }
  ],
  "metadata": {
    "colab": {
      "provenance": [],
      "include_colab_link": true
    },
    "kernelspec": {
      "display_name": "athnlp-lab3",
      "language": "python",
      "name": "python3"
    },
    "language_info": {
      "codemirror_mode": {
        "name": "ipython",
        "version": 3
      },
      "file_extension": ".py",
      "mimetype": "text/x-python",
      "name": "python",
      "nbconvert_exporter": "python",
      "pygments_lexer": "ipython3",
      "version": "3.11.9"
    }
  },
  "nbformat": 4,
  "nbformat_minor": 0
}