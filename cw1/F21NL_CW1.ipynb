{
  "cells": [
    {
      "cell_type": "code",
      "execution_count": 1,
      "metadata": {
        "id": "sQaGMPUu5vQW",
        "colab": {
          "base_uri": "https://localhost:8080/"
        },
        "outputId": "295116e3-cba9-4dbd-c8b7-506f3ca96859"
      },
      "outputs": [
        {
          "output_type": "stream",
          "name": "stdout",
          "text": [
            "--2025-10-16 23:13:21--  https://www.dropbox.com/scl/fi/ibd4cmixckghx6hhb361c/wikitext-filtered-full.zip?rlkey=q71cebf0k5fvvwhmcntoswzhq&dl=1\n",
            "Resolving www.dropbox.com (www.dropbox.com)... 162.125.3.18, 2620:100:6018:18::a27d:312\n",
            "Connecting to www.dropbox.com (www.dropbox.com)|162.125.3.18|:443... connected.\n",
            "HTTP request sent, awaiting response... 302 Found\n",
            "Location: https://uccacf704c33f2b45425f1825849.dl-eu.dropboxusercontent.com/cd/0/inline/CzV0gtW9UninSBIhk0cgD6RphEk0DvD1GDsgeOSRD2871f3cwr8zivoQT9XkAjBcJipnkdc4uWFrnTKo7NPJNhtvr1DrnmlNDwq87i315Z2SiFYW_LwoEtUAZb8PMBxrhJ04QNCtMVe6PJxCHrJdl5L9/file?dl=1# [following]\n",
            "--2025-10-16 23:13:21--  https://uccacf704c33f2b45425f1825849.dl-eu.dropboxusercontent.com/cd/0/inline/CzV0gtW9UninSBIhk0cgD6RphEk0DvD1GDsgeOSRD2871f3cwr8zivoQT9XkAjBcJipnkdc4uWFrnTKo7NPJNhtvr1DrnmlNDwq87i315Z2SiFYW_LwoEtUAZb8PMBxrhJ04QNCtMVe6PJxCHrJdl5L9/file?dl=1\n",
            "Resolving uccacf704c33f2b45425f1825849.dl-eu.dropboxusercontent.com (uccacf704c33f2b45425f1825849.dl-eu.dropboxusercontent.com)... 162.125.80.15, 2620:100:6018:15::a27d:30f\n",
            "Connecting to uccacf704c33f2b45425f1825849.dl-eu.dropboxusercontent.com (uccacf704c33f2b45425f1825849.dl-eu.dropboxusercontent.com)|162.125.80.15|:443... connected.\n",
            "HTTP request sent, awaiting response... 302 Found\n",
            "Location: /cd/0/inline2/CzXAMiUWgCm3cMqtrRd25w8PpQo3fK4BHaLk0TUhWK691n6crOKsRwEXzVm1QTnTsm-31v0NXXP8mhEpj60mgKk3BY2wLdgmaS8vtXruGDcK_WL9AUGQcRw1RLTDsPLEKDm47XSnAAIHie8dtnkMG80b4sOhiZNrZYXfssmII5P-jJrswBczVRLUwGO2i4mXB4py0cAN_Fjozi94T5At7tZC_izBcCuGRCgHueyarHtzjCtqLu-O6qNP96QdWiY_Cc7O1r8T0zqrKoaF36XwnZVxZLOpKvngdp6wgBNFABsiCJEKRj2cS3rHCg4Qbg2xF4GwGFT6P4J0S-n0cAsqjciF5d9zqXLcF8i2TVvhbmYnaXLGwSJwUJZFBm0o6abY0t0/file?dl=1 [following]\n",
            "--2025-10-16 23:13:23--  https://uccacf704c33f2b45425f1825849.dl-eu.dropboxusercontent.com/cd/0/inline2/CzXAMiUWgCm3cMqtrRd25w8PpQo3fK4BHaLk0TUhWK691n6crOKsRwEXzVm1QTnTsm-31v0NXXP8mhEpj60mgKk3BY2wLdgmaS8vtXruGDcK_WL9AUGQcRw1RLTDsPLEKDm47XSnAAIHie8dtnkMG80b4sOhiZNrZYXfssmII5P-jJrswBczVRLUwGO2i4mXB4py0cAN_Fjozi94T5At7tZC_izBcCuGRCgHueyarHtzjCtqLu-O6qNP96QdWiY_Cc7O1r8T0zqrKoaF36XwnZVxZLOpKvngdp6wgBNFABsiCJEKRj2cS3rHCg4Qbg2xF4GwGFT6P4J0S-n0cAsqjciF5d9zqXLcF8i2TVvhbmYnaXLGwSJwUJZFBm0o6abY0t0/file?dl=1\n",
            "Reusing existing connection to uccacf704c33f2b45425f1825849.dl-eu.dropboxusercontent.com:443.\n",
            "HTTP request sent, awaiting response... 200 OK\n",
            "Length: 191859755 (183M) [application/binary]\n",
            "Saving to: ‘wikitext-filtered-full.zip’\n",
            "\n",
            "wikitext-filtered-f 100%[===================>] 182.97M  13.2MB/s    in 15s     \n",
            "\n",
            "2025-10-16 23:13:40 (12.3 MB/s) - ‘wikitext-filtered-full.zip’ saved [191859755/191859755]\n",
            "\n",
            "--2025-10-16 23:13:40--  https://www.dropbox.com/scl/fi/ek174r3sg7qjx0aa9atop/wikitext-filtered-10k.zip?rlkey=zy6jqxv6qsc16lr9qm3ki9uhf&dl=1\n",
            "Resolving www.dropbox.com (www.dropbox.com)... 162.125.3.18, 2620:100:6018:18::a27d:312\n",
            "Connecting to www.dropbox.com (www.dropbox.com)|162.125.3.18|:443... connected.\n",
            "HTTP request sent, awaiting response... 302 Found\n",
            "Location: https://uc0da00a2012c7d94745cda92e73.dl-eu.dropboxusercontent.com/cd/0/inline/CzW_Tn6WUX2nrhIOPNWF9Cbrzjci-itA3_pESG9naz4XLU5Kj7pM5jz25DjQefNYKjzD4YbpJQZoBX7-i1Vu_KsSeh2e1_CeaPRxjw_jFg7av1SgYgMGE-g0VWFcwrVjT2z53rrNib8XXUruBxaM7sH_/file?dl=1# [following]\n",
            "--2025-10-16 23:13:41--  https://uc0da00a2012c7d94745cda92e73.dl-eu.dropboxusercontent.com/cd/0/inline/CzW_Tn6WUX2nrhIOPNWF9Cbrzjci-itA3_pESG9naz4XLU5Kj7pM5jz25DjQefNYKjzD4YbpJQZoBX7-i1Vu_KsSeh2e1_CeaPRxjw_jFg7av1SgYgMGE-g0VWFcwrVjT2z53rrNib8XXUruBxaM7sH_/file?dl=1\n",
            "Resolving uc0da00a2012c7d94745cda92e73.dl-eu.dropboxusercontent.com (uc0da00a2012c7d94745cda92e73.dl-eu.dropboxusercontent.com)... 162.125.80.15, 2620:100:6030:15::a27d:500f\n",
            "Connecting to uc0da00a2012c7d94745cda92e73.dl-eu.dropboxusercontent.com (uc0da00a2012c7d94745cda92e73.dl-eu.dropboxusercontent.com)|162.125.80.15|:443... connected.\n",
            "HTTP request sent, awaiting response... 302 Found\n",
            "Location: /cd/0/inline2/CzW7tux2Ex49oTR6Nsqt3Z-0Yz8VzaFynvFrhhuHnroq4DDlHNph5qfWjdwRkq0-1R3zsGHAzPDDefc5LciuMy63jdknhu7hv__9rKEyx3sXNYdzbGQwKi1rHDlw8REewlisNfrpPLuP-F419lLLGD20gucQs0E1kAKg7gBuyD2eDonX1HKcsyTeSPMEnMIpJnsiiMAHB9nK6ZwhZ1L3I7aeLWbZNSQGHb2hfZUNphcEKlu49p56a6iAoUZ2737aXoBCJCk8K3kaNmrJGc4sP9ZYPbirzb2GF-N2qfY44G3U3gCgGhWviTYMa5znuG4eZANYB-r_jlSHHo-OcbfwGwB996MlsmK4BC61V3REE7dufFml583QPLazSLIpqup1cc0/file?dl=1 [following]\n",
            "--2025-10-16 23:13:42--  https://uc0da00a2012c7d94745cda92e73.dl-eu.dropboxusercontent.com/cd/0/inline2/CzW7tux2Ex49oTR6Nsqt3Z-0Yz8VzaFynvFrhhuHnroq4DDlHNph5qfWjdwRkq0-1R3zsGHAzPDDefc5LciuMy63jdknhu7hv__9rKEyx3sXNYdzbGQwKi1rHDlw8REewlisNfrpPLuP-F419lLLGD20gucQs0E1kAKg7gBuyD2eDonX1HKcsyTeSPMEnMIpJnsiiMAHB9nK6ZwhZ1L3I7aeLWbZNSQGHb2hfZUNphcEKlu49p56a6iAoUZ2737aXoBCJCk8K3kaNmrJGc4sP9ZYPbirzb2GF-N2qfY44G3U3gCgGhWviTYMa5znuG4eZANYB-r_jlSHHo-OcbfwGwB996MlsmK4BC61V3REE7dufFml583QPLazSLIpqup1cc0/file?dl=1\n",
            "Reusing existing connection to uc0da00a2012c7d94745cda92e73.dl-eu.dropboxusercontent.com:443.\n",
            "HTTP request sent, awaiting response... 200 OK\n",
            "Length: 2230160 (2.1M) [application/binary]\n",
            "Saving to: ‘wikitext-filtered-10k.zip’\n",
            "\n",
            "wikitext-filtered-1 100%[===================>]   2.13M  1.15MB/s    in 1.8s    \n",
            "\n",
            "2025-10-16 23:13:45 (1.15 MB/s) - ‘wikitext-filtered-10k.zip’ saved [2230160/2230160]\n",
            "\n"
          ]
        }
      ],
      "source": [
        "!wget -O wikitext-filtered-full.zip \"https://www.dropbox.com/scl/fi/ibd4cmixckghx6hhb361c/wikitext-filtered-full.zip?rlkey=q71cebf0k5fvvwhmcntoswzhq&dl=1\"\n",
        "!wget -O wikitext-filtered-10k.zip \"https://www.dropbox.com/scl/fi/ek174r3sg7qjx0aa9atop/wikitext-filtered-10k.zip?rlkey=zy6jqxv6qsc16lr9qm3ki9uhf&dl=1\""
      ]
    },
    {
      "cell_type": "code",
      "execution_count": 2,
      "metadata": {
        "id": "0GgyhgwO59KU",
        "colab": {
          "base_uri": "https://localhost:8080/"
        },
        "outputId": "75b399fe-a054-4bc7-c59c-bc358b539a45"
      },
      "outputs": [
        {
          "output_type": "stream",
          "name": "stdout",
          "text": [
            "Archive:  wikitext-filtered-full.zip\n",
            "   creating: wikitext-filtered-full/\n",
            "  inflating: wikitext-filtered-full/dataset_info.json  \n",
            "  inflating: wikitext-filtered-full/state.json  \n",
            "  inflating: wikitext-filtered-full/data-00000-of-00001.arrow  \n",
            "Archive:  wikitext-filtered-10k.zip\n",
            "   creating: wikitext-filtered-10k/\n",
            "  inflating: wikitext-filtered-10k/dataset_info.json  \n",
            "  inflating: wikitext-filtered-10k/state.json  \n",
            "  inflating: wikitext-filtered-10k/data-00000-of-00001.arrow  \n"
          ]
        }
      ],
      "source": [
        "!unzip wikitext-filtered-full.zip\n",
        "!unzip wikitext-filtered-10k.zip"
      ]
    },
    {
      "cell_type": "code",
      "execution_count": 3,
      "metadata": {
        "id": "gbUoBOOH5_Zy",
        "colab": {
          "base_uri": "https://localhost:8080/"
        },
        "outputId": "bb50cb01-af43-4cbd-cac5-b1a1843e5101"
      },
      "outputs": [
        {
          "output_type": "stream",
          "name": "stdout",
          "text": [
            "Requirement already satisfied: datasets in /usr/local/lib/python3.12/dist-packages (4.0.0)\n",
            "Requirement already satisfied: filelock in /usr/local/lib/python3.12/dist-packages (from datasets) (3.20.0)\n",
            "Requirement already satisfied: numpy>=1.17 in /usr/local/lib/python3.12/dist-packages (from datasets) (2.0.2)\n",
            "Requirement already satisfied: pyarrow>=15.0.0 in /usr/local/lib/python3.12/dist-packages (from datasets) (18.1.0)\n",
            "Requirement already satisfied: dill<0.3.9,>=0.3.0 in /usr/local/lib/python3.12/dist-packages (from datasets) (0.3.8)\n",
            "Requirement already satisfied: pandas in /usr/local/lib/python3.12/dist-packages (from datasets) (2.2.2)\n",
            "Requirement already satisfied: requests>=2.32.2 in /usr/local/lib/python3.12/dist-packages (from datasets) (2.32.4)\n",
            "Requirement already satisfied: tqdm>=4.66.3 in /usr/local/lib/python3.12/dist-packages (from datasets) (4.67.1)\n",
            "Requirement already satisfied: xxhash in /usr/local/lib/python3.12/dist-packages (from datasets) (3.6.0)\n",
            "Requirement already satisfied: multiprocess<0.70.17 in /usr/local/lib/python3.12/dist-packages (from datasets) (0.70.16)\n",
            "Requirement already satisfied: fsspec<=2025.3.0,>=2023.1.0 in /usr/local/lib/python3.12/dist-packages (from fsspec[http]<=2025.3.0,>=2023.1.0->datasets) (2025.3.0)\n",
            "Requirement already satisfied: huggingface-hub>=0.24.0 in /usr/local/lib/python3.12/dist-packages (from datasets) (0.35.3)\n",
            "Requirement already satisfied: packaging in /usr/local/lib/python3.12/dist-packages (from datasets) (25.0)\n",
            "Requirement already satisfied: pyyaml>=5.1 in /usr/local/lib/python3.12/dist-packages (from datasets) (6.0.3)\n",
            "Requirement already satisfied: aiohttp!=4.0.0a0,!=4.0.0a1 in /usr/local/lib/python3.12/dist-packages (from fsspec[http]<=2025.3.0,>=2023.1.0->datasets) (3.13.0)\n",
            "Requirement already satisfied: typing-extensions>=3.7.4.3 in /usr/local/lib/python3.12/dist-packages (from huggingface-hub>=0.24.0->datasets) (4.15.0)\n",
            "Requirement already satisfied: hf-xet<2.0.0,>=1.1.3 in /usr/local/lib/python3.12/dist-packages (from huggingface-hub>=0.24.0->datasets) (1.1.10)\n",
            "Requirement already satisfied: charset_normalizer<4,>=2 in /usr/local/lib/python3.12/dist-packages (from requests>=2.32.2->datasets) (3.4.3)\n",
            "Requirement already satisfied: idna<4,>=2.5 in /usr/local/lib/python3.12/dist-packages (from requests>=2.32.2->datasets) (3.10)\n",
            "Requirement already satisfied: urllib3<3,>=1.21.1 in /usr/local/lib/python3.12/dist-packages (from requests>=2.32.2->datasets) (2.5.0)\n",
            "Requirement already satisfied: certifi>=2017.4.17 in /usr/local/lib/python3.12/dist-packages (from requests>=2.32.2->datasets) (2025.10.5)\n",
            "Requirement already satisfied: python-dateutil>=2.8.2 in /usr/local/lib/python3.12/dist-packages (from pandas->datasets) (2.9.0.post0)\n",
            "Requirement already satisfied: pytz>=2020.1 in /usr/local/lib/python3.12/dist-packages (from pandas->datasets) (2025.2)\n",
            "Requirement already satisfied: tzdata>=2022.7 in /usr/local/lib/python3.12/dist-packages (from pandas->datasets) (2025.2)\n",
            "Requirement already satisfied: aiohappyeyeballs>=2.5.0 in /usr/local/lib/python3.12/dist-packages (from aiohttp!=4.0.0a0,!=4.0.0a1->fsspec[http]<=2025.3.0,>=2023.1.0->datasets) (2.6.1)\n",
            "Requirement already satisfied: aiosignal>=1.4.0 in /usr/local/lib/python3.12/dist-packages (from aiohttp!=4.0.0a0,!=4.0.0a1->fsspec[http]<=2025.3.0,>=2023.1.0->datasets) (1.4.0)\n",
            "Requirement already satisfied: attrs>=17.3.0 in /usr/local/lib/python3.12/dist-packages (from aiohttp!=4.0.0a0,!=4.0.0a1->fsspec[http]<=2025.3.0,>=2023.1.0->datasets) (25.4.0)\n",
            "Requirement already satisfied: frozenlist>=1.1.1 in /usr/local/lib/python3.12/dist-packages (from aiohttp!=4.0.0a0,!=4.0.0a1->fsspec[http]<=2025.3.0,>=2023.1.0->datasets) (1.8.0)\n",
            "Requirement already satisfied: multidict<7.0,>=4.5 in /usr/local/lib/python3.12/dist-packages (from aiohttp!=4.0.0a0,!=4.0.0a1->fsspec[http]<=2025.3.0,>=2023.1.0->datasets) (6.7.0)\n",
            "Requirement already satisfied: propcache>=0.2.0 in /usr/local/lib/python3.12/dist-packages (from aiohttp!=4.0.0a0,!=4.0.0a1->fsspec[http]<=2025.3.0,>=2023.1.0->datasets) (0.3.2)\n",
            "Requirement already satisfied: yarl<2.0,>=1.17.0 in /usr/local/lib/python3.12/dist-packages (from aiohttp!=4.0.0a0,!=4.0.0a1->fsspec[http]<=2025.3.0,>=2023.1.0->datasets) (1.22.0)\n",
            "Requirement already satisfied: six>=1.5 in /usr/local/lib/python3.12/dist-packages (from python-dateutil>=2.8.2->pandas->datasets) (1.17.0)\n"
          ]
        }
      ],
      "source": [
        "!pip install datasets\n",
        "import datasets"
      ]
    },
    {
      "cell_type": "code",
      "execution_count": 4,
      "metadata": {
        "id": "aYe6Rq5k6Bgu",
        "colab": {
          "base_uri": "https://localhost:8080/"
        },
        "outputId": "c27e5211-96ee-4fde-a99c-83ad94b05ee3"
      },
      "outputs": [
        {
          "output_type": "stream",
          "name": "stdout",
          "text": [
            "wikitext_small: 10000 docs, wikitext_large: 859955 docs\n"
          ]
        }
      ],
      "source": [
        "from datasets import load_dataset, Dataset\n",
        "\n",
        "def load_dataset():\n",
        "  wikitext_small = \"wikitext-filtered-10k\"\n",
        "  wikitext_large = \"wikitext-filtered-full\"\n",
        "\n",
        "  dataset_small = Dataset.load_from_disk(wikitext_small)\n",
        "  dataset_large = Dataset.load_from_disk(wikitext_large)\n",
        "  print(\"wikitext_small: {} docs, wikitext_large: {} docs\".format(len(dataset_small), len(dataset_large)))\n",
        "  return dataset_small, dataset_large\n",
        "\n",
        "wikitext_small, wikitext_large = load_dataset()"
      ]
    }
  ],
  "metadata": {
    "colab": {
      "provenance": []
    },
    "kernelspec": {
      "display_name": "athnlp-lab3",
      "language": "python",
      "name": "python3"
    },
    "language_info": {
      "codemirror_mode": {
        "name": "ipython",
        "version": 3
      },
      "file_extension": ".py",
      "mimetype": "text/x-python",
      "name": "python",
      "nbconvert_exporter": "python",
      "pygments_lexer": "ipython3",
      "version": "3.11.9"
    }
  },
  "nbformat": 4,
  "nbformat_minor": 0
}