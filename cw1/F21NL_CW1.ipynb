{
  "cells": [
    {
      "cell_type": "code",
      "execution_count": 6,
      "metadata": {
        "id": "sQaGMPUu5vQW",
        "colab": {
          "base_uri": "https://localhost:8080/"
        },
        "collapsed": true,
        "outputId": "fc1a9862-a833-4aed-8092-c698f4396ad5"
      },
      "outputs": [
        {
          "output_type": "stream",
          "name": "stdout",
          "text": [
            "--2025-10-17 16:26:04--  https://www.dropbox.com/scl/fi/ibd4cmixckghx6hhb361c/wikitext-filtered-full.zip?rlkey=q71cebf0k5fvvwhmcntoswzhq&dl=1\n",
            "Resolving www.dropbox.com (www.dropbox.com)... 162.125.2.18, 2620:100:6017:18::a27d:212\n",
            "Connecting to www.dropbox.com (www.dropbox.com)|162.125.2.18|:443... connected.\n",
            "HTTP request sent, awaiting response... 302 Found\n",
            "Location: https://uc0bbc881029b1065fa52430ec2f.dl-eu.dropboxusercontent.com/cd/0/inline/CzZcgwVjUFo8d6DnWa7226yAz8bagrwoOc1OBfA03GJz8QvGM--iBhlDlK8rmCDP5r8UTZpfQJntrsjDT9m_tm5fXPEkfHYJACqCFkCybom0IHqaFnzIUQ6TdFzdFmNTZ7iHmxB9P6hXfDUEO-V6PnzK/file?dl=1# [following]\n",
            "--2025-10-17 16:26:05--  https://uc0bbc881029b1065fa52430ec2f.dl-eu.dropboxusercontent.com/cd/0/inline/CzZcgwVjUFo8d6DnWa7226yAz8bagrwoOc1OBfA03GJz8QvGM--iBhlDlK8rmCDP5r8UTZpfQJntrsjDT9m_tm5fXPEkfHYJACqCFkCybom0IHqaFnzIUQ6TdFzdFmNTZ7iHmxB9P6hXfDUEO-V6PnzK/file?dl=1\n",
            "Resolving uc0bbc881029b1065fa52430ec2f.dl-eu.dropboxusercontent.com (uc0bbc881029b1065fa52430ec2f.dl-eu.dropboxusercontent.com)... 162.125.65.15, 2620:100:6021:15::a27d:410f\n",
            "Connecting to uc0bbc881029b1065fa52430ec2f.dl-eu.dropboxusercontent.com (uc0bbc881029b1065fa52430ec2f.dl-eu.dropboxusercontent.com)|162.125.65.15|:443... connected.\n",
            "HTTP request sent, awaiting response... 302 Found\n",
            "Location: /cd/0/inline2/CzYOhNlI1nAPvIue91BcWMfqZjtBpjctcW3j3YfekwsG7032mX9VLKJ91JXIN49a5SukS6vgkdEcjSUf_PBKUVPDHGKTIM_hmX0A8rkYA5dEH7sTWBzW7JIWvTKWrZoNE77hL2fTQps1MfAZONVmGxPeczfbjI0vwJjUu0ggvUMZNr5jCApGeg09JH6nP41wVYRFU3e4qu0oVFmBtpvVsxaJQZFZcMJJRSEukt8gndFj3JaeVHIVcH0eepK3J9EQ6eP_M5yIl_0ib6CZ8lvpbRWbgwSy5WgKAFOi-7TkEX86ryf3X-Wqwn9iEH4ez9WGyMY9rgXNBO4-lsEZU6gPsClvL0a2WI25-6S5RLBTUCAmtalV47reTWsjw4KB5wbLrPs/file?dl=1 [following]\n",
            "--2025-10-17 16:26:06--  https://uc0bbc881029b1065fa52430ec2f.dl-eu.dropboxusercontent.com/cd/0/inline2/CzYOhNlI1nAPvIue91BcWMfqZjtBpjctcW3j3YfekwsG7032mX9VLKJ91JXIN49a5SukS6vgkdEcjSUf_PBKUVPDHGKTIM_hmX0A8rkYA5dEH7sTWBzW7JIWvTKWrZoNE77hL2fTQps1MfAZONVmGxPeczfbjI0vwJjUu0ggvUMZNr5jCApGeg09JH6nP41wVYRFU3e4qu0oVFmBtpvVsxaJQZFZcMJJRSEukt8gndFj3JaeVHIVcH0eepK3J9EQ6eP_M5yIl_0ib6CZ8lvpbRWbgwSy5WgKAFOi-7TkEX86ryf3X-Wqwn9iEH4ez9WGyMY9rgXNBO4-lsEZU6gPsClvL0a2WI25-6S5RLBTUCAmtalV47reTWsjw4KB5wbLrPs/file?dl=1\n",
            "Reusing existing connection to uc0bbc881029b1065fa52430ec2f.dl-eu.dropboxusercontent.com:443.\n",
            "HTTP request sent, awaiting response... 200 OK\n",
            "Length: 191859755 (183M) [application/binary]\n",
            "Saving to: ‘wikitext-filtered-full.zip’\n",
            "\n",
            "wikitext-filtered-f 100%[===================>] 182.97M  27.4MB/s    in 7.8s    \n",
            "\n",
            "2025-10-17 16:26:14 (23.5 MB/s) - ‘wikitext-filtered-full.zip’ saved [191859755/191859755]\n",
            "\n",
            "--2025-10-17 16:26:15--  https://www.dropbox.com/scl/fi/ek174r3sg7qjx0aa9atop/wikitext-filtered-10k.zip?rlkey=zy6jqxv6qsc16lr9qm3ki9uhf&dl=1\n",
            "Resolving www.dropbox.com (www.dropbox.com)... 162.125.2.18, 2620:100:6017:18::a27d:212\n",
            "Connecting to www.dropbox.com (www.dropbox.com)|162.125.2.18|:443... connected.\n",
            "HTTP request sent, awaiting response... 302 Found\n",
            "Location: https://uc37b85587a330fa14ca128a1a4d.dl-eu.dropboxusercontent.com/cd/0/inline/Cza2EuIYZ2OzP4ftsyFwbDx94tDSQ1TQvg1fgvUecuLfvH4l83VyuFSnVFYxFXCeVbLsCEqdP_wu4rX4fJpT6rQ-QAIX8vx7rxsQwU6BkqljzZ4SBlMZLNz1GHkMDgsfkw_4tK9lAx6CsSECChim3lao/file?dl=1# [following]\n",
            "--2025-10-17 16:26:15--  https://uc37b85587a330fa14ca128a1a4d.dl-eu.dropboxusercontent.com/cd/0/inline/Cza2EuIYZ2OzP4ftsyFwbDx94tDSQ1TQvg1fgvUecuLfvH4l83VyuFSnVFYxFXCeVbLsCEqdP_wu4rX4fJpT6rQ-QAIX8vx7rxsQwU6BkqljzZ4SBlMZLNz1GHkMDgsfkw_4tK9lAx6CsSECChim3lao/file?dl=1\n",
            "Resolving uc37b85587a330fa14ca128a1a4d.dl-eu.dropboxusercontent.com (uc37b85587a330fa14ca128a1a4d.dl-eu.dropboxusercontent.com)... 162.125.2.15, 2620:100:6017:15::a27d:20f\n",
            "Connecting to uc37b85587a330fa14ca128a1a4d.dl-eu.dropboxusercontent.com (uc37b85587a330fa14ca128a1a4d.dl-eu.dropboxusercontent.com)|162.125.2.15|:443... connected.\n",
            "HTTP request sent, awaiting response... 302 Found\n",
            "Location: /cd/0/inline2/CzYxC28C09YlEKAjUhAA42BKqIycqq3JsLmpP_XN0AK7YjxLMcO_XTVZ25JM0nBocItrxLxtE8dTlS06mEwOLG4zCWsXluVIVvLqXvr9WmGYXEWbDUmNqLPI1jx8KySDMZ4s4BSDbTnihU1PllKY4m7nhjipHDUdlL00Hxxo8aEFxw9QGwhwqnaThQtV1QgvrZ71ZbQXIyteHXumT46XRn7736U-mfozskagm3j5XHwWV9o52t07xZ1xn55_GobuP-CBuTL3kUV1xo3_SJBPym93lBUPpXPufGlBzHedIgstMYIRY9px6KSX3Kk9iEZVwgD9CZ2SZJm5EYeh6Ur6vjqgw5CYJT1YgXoW0ZoEYTF5DhM7CZjkVBQDjVYkQaRDtHc/file?dl=1 [following]\n",
            "--2025-10-17 16:26:16--  https://uc37b85587a330fa14ca128a1a4d.dl-eu.dropboxusercontent.com/cd/0/inline2/CzYxC28C09YlEKAjUhAA42BKqIycqq3JsLmpP_XN0AK7YjxLMcO_XTVZ25JM0nBocItrxLxtE8dTlS06mEwOLG4zCWsXluVIVvLqXvr9WmGYXEWbDUmNqLPI1jx8KySDMZ4s4BSDbTnihU1PllKY4m7nhjipHDUdlL00Hxxo8aEFxw9QGwhwqnaThQtV1QgvrZ71ZbQXIyteHXumT46XRn7736U-mfozskagm3j5XHwWV9o52t07xZ1xn55_GobuP-CBuTL3kUV1xo3_SJBPym93lBUPpXPufGlBzHedIgstMYIRY9px6KSX3Kk9iEZVwgD9CZ2SZJm5EYeh6Ur6vjqgw5CYJT1YgXoW0ZoEYTF5DhM7CZjkVBQDjVYkQaRDtHc/file?dl=1\n",
            "Reusing existing connection to uc37b85587a330fa14ca128a1a4d.dl-eu.dropboxusercontent.com:443.\n",
            "HTTP request sent, awaiting response... 200 OK\n",
            "Length: 2230160 (2.1M) [application/binary]\n",
            "Saving to: ‘wikitext-filtered-10k.zip’\n",
            "\n",
            "wikitext-filtered-1 100%[===================>]   2.13M  1.77MB/s    in 1.2s    \n",
            "\n",
            "2025-10-17 16:26:18 (1.77 MB/s) - ‘wikitext-filtered-10k.zip’ saved [2230160/2230160]\n",
            "\n"
          ]
        }
      ],
      "source": [
        "!wget -O wikitext-filtered-full.zip \"https://www.dropbox.com/scl/fi/ibd4cmixckghx6hhb361c/wikitext-filtered-full.zip?rlkey=q71cebf0k5fvvwhmcntoswzhq&dl=1\"\n",
        "!wget -O wikitext-filtered-10k.zip \"https://www.dropbox.com/scl/fi/ek174r3sg7qjx0aa9atop/wikitext-filtered-10k.zip?rlkey=zy6jqxv6qsc16lr9qm3ki9uhf&dl=1\""
      ]
    },
    {
      "cell_type": "code",
      "execution_count": 7,
      "metadata": {
        "id": "0GgyhgwO59KU",
        "colab": {
          "base_uri": "https://localhost:8080/"
        },
        "collapsed": true,
        "outputId": "d4f90b88-3688-49e2-a14c-d11d79f5fbed"
      },
      "outputs": [
        {
          "output_type": "stream",
          "name": "stdout",
          "text": [
            "Archive:  wikitext-filtered-full.zip\n",
            "   creating: wikitext-filtered-full/\n",
            "  inflating: wikitext-filtered-full/dataset_info.json  \n",
            "  inflating: wikitext-filtered-full/state.json  \n",
            "  inflating: wikitext-filtered-full/data-00000-of-00001.arrow  \n",
            "Archive:  wikitext-filtered-10k.zip\n",
            "   creating: wikitext-filtered-10k/\n",
            "  inflating: wikitext-filtered-10k/dataset_info.json  \n",
            "  inflating: wikitext-filtered-10k/state.json  \n",
            "  inflating: wikitext-filtered-10k/data-00000-of-00001.arrow  \n"
          ]
        }
      ],
      "source": [
        "!unzip wikitext-filtered-full.zip\n",
        "!unzip wikitext-filtered-10k.zip"
      ]
    },
    {
      "cell_type": "code",
      "execution_count": 8,
      "metadata": {
        "id": "gbUoBOOH5_Zy",
        "colab": {
          "base_uri": "https://localhost:8080/"
        },
        "collapsed": true,
        "outputId": "dd27910c-8328-4827-dab0-382c2add6787"
      },
      "outputs": [
        {
          "output_type": "stream",
          "name": "stdout",
          "text": [
            "Requirement already satisfied: datasets in /usr/local/lib/python3.12/dist-packages (4.0.0)\n",
            "Requirement already satisfied: filelock in /usr/local/lib/python3.12/dist-packages (from datasets) (3.20.0)\n",
            "Requirement already satisfied: numpy>=1.17 in /usr/local/lib/python3.12/dist-packages (from datasets) (2.0.2)\n",
            "Requirement already satisfied: pyarrow>=15.0.0 in /usr/local/lib/python3.12/dist-packages (from datasets) (18.1.0)\n",
            "Requirement already satisfied: dill<0.3.9,>=0.3.0 in /usr/local/lib/python3.12/dist-packages (from datasets) (0.3.8)\n",
            "Requirement already satisfied: pandas in /usr/local/lib/python3.12/dist-packages (from datasets) (2.2.2)\n",
            "Requirement already satisfied: requests>=2.32.2 in /usr/local/lib/python3.12/dist-packages (from datasets) (2.32.4)\n",
            "Requirement already satisfied: tqdm>=4.66.3 in /usr/local/lib/python3.12/dist-packages (from datasets) (4.67.1)\n",
            "Requirement already satisfied: xxhash in /usr/local/lib/python3.12/dist-packages (from datasets) (3.6.0)\n",
            "Requirement already satisfied: multiprocess<0.70.17 in /usr/local/lib/python3.12/dist-packages (from datasets) (0.70.16)\n",
            "Requirement already satisfied: fsspec<=2025.3.0,>=2023.1.0 in /usr/local/lib/python3.12/dist-packages (from fsspec[http]<=2025.3.0,>=2023.1.0->datasets) (2025.3.0)\n",
            "Requirement already satisfied: huggingface-hub>=0.24.0 in /usr/local/lib/python3.12/dist-packages (from datasets) (0.35.3)\n",
            "Requirement already satisfied: packaging in /usr/local/lib/python3.12/dist-packages (from datasets) (25.0)\n",
            "Requirement already satisfied: pyyaml>=5.1 in /usr/local/lib/python3.12/dist-packages (from datasets) (6.0.3)\n",
            "Requirement already satisfied: aiohttp!=4.0.0a0,!=4.0.0a1 in /usr/local/lib/python3.12/dist-packages (from fsspec[http]<=2025.3.0,>=2023.1.0->datasets) (3.13.0)\n",
            "Requirement already satisfied: typing-extensions>=3.7.4.3 in /usr/local/lib/python3.12/dist-packages (from huggingface-hub>=0.24.0->datasets) (4.15.0)\n",
            "Requirement already satisfied: hf-xet<2.0.0,>=1.1.3 in /usr/local/lib/python3.12/dist-packages (from huggingface-hub>=0.24.0->datasets) (1.1.10)\n",
            "Requirement already satisfied: charset_normalizer<4,>=2 in /usr/local/lib/python3.12/dist-packages (from requests>=2.32.2->datasets) (3.4.3)\n",
            "Requirement already satisfied: idna<4,>=2.5 in /usr/local/lib/python3.12/dist-packages (from requests>=2.32.2->datasets) (3.10)\n",
            "Requirement already satisfied: urllib3<3,>=1.21.1 in /usr/local/lib/python3.12/dist-packages (from requests>=2.32.2->datasets) (2.5.0)\n",
            "Requirement already satisfied: certifi>=2017.4.17 in /usr/local/lib/python3.12/dist-packages (from requests>=2.32.2->datasets) (2025.10.5)\n",
            "Requirement already satisfied: python-dateutil>=2.8.2 in /usr/local/lib/python3.12/dist-packages (from pandas->datasets) (2.9.0.post0)\n",
            "Requirement already satisfied: pytz>=2020.1 in /usr/local/lib/python3.12/dist-packages (from pandas->datasets) (2025.2)\n",
            "Requirement already satisfied: tzdata>=2022.7 in /usr/local/lib/python3.12/dist-packages (from pandas->datasets) (2025.2)\n",
            "Requirement already satisfied: aiohappyeyeballs>=2.5.0 in /usr/local/lib/python3.12/dist-packages (from aiohttp!=4.0.0a0,!=4.0.0a1->fsspec[http]<=2025.3.0,>=2023.1.0->datasets) (2.6.1)\n",
            "Requirement already satisfied: aiosignal>=1.4.0 in /usr/local/lib/python3.12/dist-packages (from aiohttp!=4.0.0a0,!=4.0.0a1->fsspec[http]<=2025.3.0,>=2023.1.0->datasets) (1.4.0)\n",
            "Requirement already satisfied: attrs>=17.3.0 in /usr/local/lib/python3.12/dist-packages (from aiohttp!=4.0.0a0,!=4.0.0a1->fsspec[http]<=2025.3.0,>=2023.1.0->datasets) (25.4.0)\n",
            "Requirement already satisfied: frozenlist>=1.1.1 in /usr/local/lib/python3.12/dist-packages (from aiohttp!=4.0.0a0,!=4.0.0a1->fsspec[http]<=2025.3.0,>=2023.1.0->datasets) (1.8.0)\n",
            "Requirement already satisfied: multidict<7.0,>=4.5 in /usr/local/lib/python3.12/dist-packages (from aiohttp!=4.0.0a0,!=4.0.0a1->fsspec[http]<=2025.3.0,>=2023.1.0->datasets) (6.7.0)\n",
            "Requirement already satisfied: propcache>=0.2.0 in /usr/local/lib/python3.12/dist-packages (from aiohttp!=4.0.0a0,!=4.0.0a1->fsspec[http]<=2025.3.0,>=2023.1.0->datasets) (0.3.2)\n",
            "Requirement already satisfied: yarl<2.0,>=1.17.0 in /usr/local/lib/python3.12/dist-packages (from aiohttp!=4.0.0a0,!=4.0.0a1->fsspec[http]<=2025.3.0,>=2023.1.0->datasets) (1.22.0)\n",
            "Requirement already satisfied: six>=1.5 in /usr/local/lib/python3.12/dist-packages (from python-dateutil>=2.8.2->pandas->datasets) (1.17.0)\n"
          ]
        }
      ],
      "source": [
        "!pip install datasets"
      ]
    },
    {
      "cell_type": "code",
      "source": [
        "!pip install gensim"
      ],
      "metadata": {
        "colab": {
          "base_uri": "https://localhost:8080/"
        },
        "id": "EN2vY_-dVeem",
        "outputId": "bac33423-4471-4fec-be57-7e7f7deb4e60",
        "collapsed": true
      },
      "execution_count": 1,
      "outputs": [
        {
          "output_type": "stream",
          "name": "stdout",
          "text": [
            "Requirement already satisfied: gensim in /usr/local/lib/python3.12/dist-packages (4.3.3)\n",
            "Requirement already satisfied: numpy<2.0,>=1.18.5 in /usr/local/lib/python3.12/dist-packages (from gensim) (1.26.4)\n",
            "Requirement already satisfied: scipy<1.14.0,>=1.7.0 in /usr/local/lib/python3.12/dist-packages (from gensim) (1.13.1)\n",
            "Requirement already satisfied: smart-open>=1.8.1 in /usr/local/lib/python3.12/dist-packages (from gensim) (7.3.1)\n",
            "Requirement already satisfied: wrapt in /usr/local/lib/python3.12/dist-packages (from smart-open>=1.8.1->gensim) (1.17.3)\n"
          ]
        }
      ]
    },
    {
      "cell_type": "code",
      "source": [
        "import os, string, nltk, numpy as np, pandas as pd\n",
        "from datasets import Dataset\n",
        "from gensim.models import Word2Vec\n",
        "from scipy.spatial.distance import cosine\n",
        "from scipy.stats import spearmanr\n",
        "from nltk.corpus import stopwords # Import stopwords from nltk.corpus\n",
        "\n",
        "\n",
        "#Download stopwords\n",
        "try:\n",
        "    stopwords_list = stopwords.words('english') # Get the list of English stopwords\n",
        "except LookupError:\n",
        "    nltk.download('stopwords')\n",
        "    stopwords_list = stopwords.words('english') # Get the list of English stopwords after downloading\n",
        "\n",
        "STOP = set(stopwords_list) # Convert the list to a set for efficient lookup"
      ],
      "metadata": {
        "colab": {
          "base_uri": "https://localhost:8080/"
        },
        "id": "ySPWS4Te9tBn",
        "outputId": "611fd10b-81a8-441b-a9ae-d3576c0c2aa4"
      },
      "execution_count": 2,
      "outputs": [
        {
          "output_type": "stream",
          "name": "stderr",
          "text": [
            "[nltk_data] Downloading package stopwords to /root/nltk_data...\n",
            "[nltk_data]   Unzipping corpora/stopwords.zip.\n"
          ]
        }
      ]
    },
    {
      "cell_type": "code",
      "execution_count": 3,
      "metadata": {
        "id": "aYe6Rq5k6Bgu",
        "colab": {
          "base_uri": "https://localhost:8080/"
        },
        "outputId": "4993e864-ac60-4b3f-d986-82fd1776ec20"
      },
      "outputs": [
        {
          "output_type": "stream",
          "name": "stdout",
          "text": [
            "wikitext_small: 10000 docs | wikitext_large: 859955 docs\n"
          ]
        }
      ],
      "source": [
        "def load_wikitext():\n",
        "    small_dir = \"wikitext-filtered-10k\"\n",
        "    large_dir = \"wikitext-filtered-full\"\n",
        "    ds_small = Dataset.load_from_disk(small_dir)\n",
        "    ds_large = Dataset.load_from_disk(large_dir)\n",
        "    print(f\"wikitext_small: {len(ds_small)} docs | wikitext_large: {len(ds_large)} docs\")\n",
        "    return ds_small, ds_large\n",
        "\n",
        "wikitext_small, wikitext_large = load_wikitext()"
      ]
    },
    {
      "cell_type": "code",
      "metadata": {
        "colab": {
          "base_uri": "https://localhost:8080/"
        },
        "id": "af0f0f23",
        "outputId": "5235bb08-6b12-4f02-fdbb-035ad6ba48b8"
      },
      "source": [
        "def preprocess_text(text: str):\n",
        "    # spec-compliant: lowercase, space-tokenize, remove punctuation, remove stopwords\n",
        "    tokens = text.lower().split()\n",
        "    tokens = [t.translate(str.maketrans('', '', string.punctuation)) for t in tokens]\n",
        "    tokens = [t for t in tokens if t and t not in STOP]\n",
        "    return tokens\n",
        "\n",
        "def prepare_corpus(dataset):\n",
        "    corpus = []\n",
        "    for ex in dataset:\n",
        "        txt = ex.get(\"text\", \"\").strip()\n",
        "        if not txt:\n",
        "            continue\n",
        "        toks = preprocess_text(txt)\n",
        "        if toks:\n",
        "            corpus.append(toks)\n",
        "    return corpus\n",
        "\n",
        "\n",
        "print(\"Preparing corpus (smal)\")\n",
        "train_small = prepare_corpus(wikitext_small)\n",
        "print(\"Docs (small):\", len(train_small))\n",
        "print(\"Sample tokens:\", train_small[0][:20])\n",
        "\n"
      ],
      "execution_count": 4,
      "outputs": [
        {
          "output_type": "stream",
          "name": "stdout",
          "text": [
            "Preparing corpus (smal\n",
            "Docs (small): 9998\n",
            "Sample tokens: ['senjō', 'valkyria', '3', 'unrecorded', 'chronicles', 'japanese', '戦場のヴァルキュリア3', 'lit', 'valkyria', 'battlefield', '3', 'commonly', 'referred', 'valkyria', 'chronicles', 'iii', 'outside', 'japan', 'tactical', 'role']\n"
          ]
        }
      ]
    },
    {
      "cell_type": "code",
      "source": [
        "SEED = 42\n",
        "WORKERS = os.cpu_count()\n",
        "\n",
        "print(\"\\nTraining Word2Vec (small)\")\n",
        "model_small = Word2Vec(\n",
        "    sentences=train_small,\n",
        "    vector_size=50,\n",
        "    window=5,\n",
        "    min_count=5,\n",
        "    sg=1,                 # <- Skip-gram\n",
        "    workers=WORKERS,\n",
        "    seed=SEED,\n",
        "    epochs=5\n",
        ")\n",
        "print(\"Vocab size:\", len(model_small.wv))"
      ],
      "metadata": {
        "colab": {
          "base_uri": "https://localhost:8080/"
        },
        "id": "pQknMZkD_GGa",
        "outputId": "ac2c4d15-0cec-4ff5-d8c8-d309a78e3f6c"
      },
      "execution_count": 5,
      "outputs": [
        {
          "output_type": "stream",
          "name": "stdout",
          "text": [
            "\n",
            "Training Word2Vec (small)\n",
            "Vocab size: 14555\n"
          ]
        }
      ]
    },
    {
      "cell_type": "code",
      "metadata": {
        "colab": {
          "base_uri": "https://localhost:8080/"
        },
        "id": "a58d5121",
        "outputId": "c73141bd-3e2b-4c3e-aa22-265e85756bf6",
        "collapsed": true
      },
      "source": [
        "from google.colab import drive\n",
        "drive.mount('/content/drive')"
      ],
      "execution_count": 6,
      "outputs": [
        {
          "output_type": "stream",
          "name": "stdout",
          "text": [
            "Mounted at /content/drive\n"
          ]
        }
      ]
    },
    {
      "cell_type": "code",
      "metadata": {
        "colab": {
          "base_uri": "https://localhost:8080/",
          "height": 223
        },
        "id": "9ae92050",
        "outputId": "5803fa1b-91bf-45e6-e879-315fe722327d",
        "collapsed": true
      },
      "source": [
        "# Import WordSim csv\n",
        "\n",
        "import pandas as pd\n",
        "\n",
        "file_path = '/content/drive/My Drive/wordsim353/combined.csv'\n",
        "\n",
        "try:\n",
        "    wordsim_df = pd.read_csv(file_path)\n",
        "    print(\"WordSim-353 data loaded successfully.\")\n",
        "    display(wordsim_df.head())\n",
        "except FileNotFoundError:\n",
        "    print(f\"Error: The file was not found at {file_path}\")\n",
        "    print(\"Please check the file path in your Google Drive and update the 'file_path' variable.\")\n",
        "except Exception as e:\n",
        "    print(f\"An error occurred while loading the file: {e}\")"
      ],
      "execution_count": 7,
      "outputs": [
        {
          "output_type": "stream",
          "name": "stdout",
          "text": [
            "WordSim-353 data loaded successfully.\n"
          ]
        },
        {
          "output_type": "display_data",
          "data": {
            "text/plain": [
              "     Word 1    Word 2  Human (mean)\n",
              "0      love       sex          6.77\n",
              "1     tiger       cat          7.35\n",
              "2     tiger     tiger         10.00\n",
              "3      book     paper          7.46\n",
              "4  computer  keyboard          7.62"
            ],
            "text/html": [
              "\n",
              "  <div id=\"df-8efc0fbf-72de-495c-aefd-f74fddd8b59e\" class=\"colab-df-container\">\n",
              "    <div>\n",
              "<style scoped>\n",
              "    .dataframe tbody tr th:only-of-type {\n",
              "        vertical-align: middle;\n",
              "    }\n",
              "\n",
              "    .dataframe tbody tr th {\n",
              "        vertical-align: top;\n",
              "    }\n",
              "\n",
              "    .dataframe thead th {\n",
              "        text-align: right;\n",
              "    }\n",
              "</style>\n",
              "<table border=\"1\" class=\"dataframe\">\n",
              "  <thead>\n",
              "    <tr style=\"text-align: right;\">\n",
              "      <th></th>\n",
              "      <th>Word 1</th>\n",
              "      <th>Word 2</th>\n",
              "      <th>Human (mean)</th>\n",
              "    </tr>\n",
              "  </thead>\n",
              "  <tbody>\n",
              "    <tr>\n",
              "      <th>0</th>\n",
              "      <td>love</td>\n",
              "      <td>sex</td>\n",
              "      <td>6.77</td>\n",
              "    </tr>\n",
              "    <tr>\n",
              "      <th>1</th>\n",
              "      <td>tiger</td>\n",
              "      <td>cat</td>\n",
              "      <td>7.35</td>\n",
              "    </tr>\n",
              "    <tr>\n",
              "      <th>2</th>\n",
              "      <td>tiger</td>\n",
              "      <td>tiger</td>\n",
              "      <td>10.00</td>\n",
              "    </tr>\n",
              "    <tr>\n",
              "      <th>3</th>\n",
              "      <td>book</td>\n",
              "      <td>paper</td>\n",
              "      <td>7.46</td>\n",
              "    </tr>\n",
              "    <tr>\n",
              "      <th>4</th>\n",
              "      <td>computer</td>\n",
              "      <td>keyboard</td>\n",
              "      <td>7.62</td>\n",
              "    </tr>\n",
              "  </tbody>\n",
              "</table>\n",
              "</div>\n",
              "    <div class=\"colab-df-buttons\">\n",
              "\n",
              "  <div class=\"colab-df-container\">\n",
              "    <button class=\"colab-df-convert\" onclick=\"convertToInteractive('df-8efc0fbf-72de-495c-aefd-f74fddd8b59e')\"\n",
              "            title=\"Convert this dataframe to an interactive table.\"\n",
              "            style=\"display:none;\">\n",
              "\n",
              "  <svg xmlns=\"http://www.w3.org/2000/svg\" height=\"24px\" viewBox=\"0 -960 960 960\">\n",
              "    <path d=\"M120-120v-720h720v720H120Zm60-500h600v-160H180v160Zm220 220h160v-160H400v160Zm0 220h160v-160H400v160ZM180-400h160v-160H180v160Zm440 0h160v-160H620v160ZM180-180h160v-160H180v160Zm440 0h160v-160H620v160Z\"/>\n",
              "  </svg>\n",
              "    </button>\n",
              "\n",
              "  <style>\n",
              "    .colab-df-container {\n",
              "      display:flex;\n",
              "      gap: 12px;\n",
              "    }\n",
              "\n",
              "    .colab-df-convert {\n",
              "      background-color: #E8F0FE;\n",
              "      border: none;\n",
              "      border-radius: 50%;\n",
              "      cursor: pointer;\n",
              "      display: none;\n",
              "      fill: #1967D2;\n",
              "      height: 32px;\n",
              "      padding: 0 0 0 0;\n",
              "      width: 32px;\n",
              "    }\n",
              "\n",
              "    .colab-df-convert:hover {\n",
              "      background-color: #E2EBFA;\n",
              "      box-shadow: 0px 1px 2px rgba(60, 64, 67, 0.3), 0px 1px 3px 1px rgba(60, 64, 67, 0.15);\n",
              "      fill: #174EA6;\n",
              "    }\n",
              "\n",
              "    .colab-df-buttons div {\n",
              "      margin-bottom: 4px;\n",
              "    }\n",
              "\n",
              "    [theme=dark] .colab-df-convert {\n",
              "      background-color: #3B4455;\n",
              "      fill: #D2E3FC;\n",
              "    }\n",
              "\n",
              "    [theme=dark] .colab-df-convert:hover {\n",
              "      background-color: #434B5C;\n",
              "      box-shadow: 0px 1px 3px 1px rgba(0, 0, 0, 0.15);\n",
              "      filter: drop-shadow(0px 1px 2px rgba(0, 0, 0, 0.3));\n",
              "      fill: #FFFFFF;\n",
              "    }\n",
              "  </style>\n",
              "\n",
              "    <script>\n",
              "      const buttonEl =\n",
              "        document.querySelector('#df-8efc0fbf-72de-495c-aefd-f74fddd8b59e button.colab-df-convert');\n",
              "      buttonEl.style.display =\n",
              "        google.colab.kernel.accessAllowed ? 'block' : 'none';\n",
              "\n",
              "      async function convertToInteractive(key) {\n",
              "        const element = document.querySelector('#df-8efc0fbf-72de-495c-aefd-f74fddd8b59e');\n",
              "        const dataTable =\n",
              "          await google.colab.kernel.invokeFunction('convertToInteractive',\n",
              "                                                    [key], {});\n",
              "        if (!dataTable) return;\n",
              "\n",
              "        const docLinkHtml = 'Like what you see? Visit the ' +\n",
              "          '<a target=\"_blank\" href=https://colab.research.google.com/notebooks/data_table.ipynb>data table notebook</a>'\n",
              "          + ' to learn more about interactive tables.';\n",
              "        element.innerHTML = '';\n",
              "        dataTable['output_type'] = 'display_data';\n",
              "        await google.colab.output.renderOutput(dataTable, element);\n",
              "        const docLink = document.createElement('div');\n",
              "        docLink.innerHTML = docLinkHtml;\n",
              "        element.appendChild(docLink);\n",
              "      }\n",
              "    </script>\n",
              "  </div>\n",
              "\n",
              "\n",
              "    <div id=\"df-ed6e8bfc-2c9e-48ef-92fb-74caafa4bb05\">\n",
              "      <button class=\"colab-df-quickchart\" onclick=\"quickchart('df-ed6e8bfc-2c9e-48ef-92fb-74caafa4bb05')\"\n",
              "                title=\"Suggest charts\"\n",
              "                style=\"display:none;\">\n",
              "\n",
              "<svg xmlns=\"http://www.w3.org/2000/svg\" height=\"24px\"viewBox=\"0 0 24 24\"\n",
              "     width=\"24px\">\n",
              "    <g>\n",
              "        <path d=\"M19 3H5c-1.1 0-2 .9-2 2v14c0 1.1.9 2 2 2h14c1.1 0 2-.9 2-2V5c0-1.1-.9-2-2-2zM9 17H7v-7h2v7zm4 0h-2V7h2v10zm4 0h-2v-4h2v4z\"/>\n",
              "    </g>\n",
              "</svg>\n",
              "      </button>\n",
              "\n",
              "<style>\n",
              "  .colab-df-quickchart {\n",
              "      --bg-color: #E8F0FE;\n",
              "      --fill-color: #1967D2;\n",
              "      --hover-bg-color: #E2EBFA;\n",
              "      --hover-fill-color: #174EA6;\n",
              "      --disabled-fill-color: #AAA;\n",
              "      --disabled-bg-color: #DDD;\n",
              "  }\n",
              "\n",
              "  [theme=dark] .colab-df-quickchart {\n",
              "      --bg-color: #3B4455;\n",
              "      --fill-color: #D2E3FC;\n",
              "      --hover-bg-color: #434B5C;\n",
              "      --hover-fill-color: #FFFFFF;\n",
              "      --disabled-bg-color: #3B4455;\n",
              "      --disabled-fill-color: #666;\n",
              "  }\n",
              "\n",
              "  .colab-df-quickchart {\n",
              "    background-color: var(--bg-color);\n",
              "    border: none;\n",
              "    border-radius: 50%;\n",
              "    cursor: pointer;\n",
              "    display: none;\n",
              "    fill: var(--fill-color);\n",
              "    height: 32px;\n",
              "    padding: 0;\n",
              "    width: 32px;\n",
              "  }\n",
              "\n",
              "  .colab-df-quickchart:hover {\n",
              "    background-color: var(--hover-bg-color);\n",
              "    box-shadow: 0 1px 2px rgba(60, 64, 67, 0.3), 0 1px 3px 1px rgba(60, 64, 67, 0.15);\n",
              "    fill: var(--button-hover-fill-color);\n",
              "  }\n",
              "\n",
              "  .colab-df-quickchart-complete:disabled,\n",
              "  .colab-df-quickchart-complete:disabled:hover {\n",
              "    background-color: var(--disabled-bg-color);\n",
              "    fill: var(--disabled-fill-color);\n",
              "    box-shadow: none;\n",
              "  }\n",
              "\n",
              "  .colab-df-spinner {\n",
              "    border: 2px solid var(--fill-color);\n",
              "    border-color: transparent;\n",
              "    border-bottom-color: var(--fill-color);\n",
              "    animation:\n",
              "      spin 1s steps(1) infinite;\n",
              "  }\n",
              "\n",
              "  @keyframes spin {\n",
              "    0% {\n",
              "      border-color: transparent;\n",
              "      border-bottom-color: var(--fill-color);\n",
              "      border-left-color: var(--fill-color);\n",
              "    }\n",
              "    20% {\n",
              "      border-color: transparent;\n",
              "      border-left-color: var(--fill-color);\n",
              "      border-top-color: var(--fill-color);\n",
              "    }\n",
              "    30% {\n",
              "      border-color: transparent;\n",
              "      border-left-color: var(--fill-color);\n",
              "      border-top-color: var(--fill-color);\n",
              "      border-right-color: var(--fill-color);\n",
              "    }\n",
              "    40% {\n",
              "      border-color: transparent;\n",
              "      border-right-color: var(--fill-color);\n",
              "      border-top-color: var(--fill-color);\n",
              "    }\n",
              "    60% {\n",
              "      border-color: transparent;\n",
              "      border-right-color: var(--fill-color);\n",
              "    }\n",
              "    80% {\n",
              "      border-color: transparent;\n",
              "      border-right-color: var(--fill-color);\n",
              "      border-bottom-color: var(--fill-color);\n",
              "    }\n",
              "    90% {\n",
              "      border-color: transparent;\n",
              "      border-bottom-color: var(--fill-color);\n",
              "    }\n",
              "  }\n",
              "</style>\n",
              "\n",
              "      <script>\n",
              "        async function quickchart(key) {\n",
              "          const quickchartButtonEl =\n",
              "            document.querySelector('#' + key + ' button');\n",
              "          quickchartButtonEl.disabled = true;  // To prevent multiple clicks.\n",
              "          quickchartButtonEl.classList.add('colab-df-spinner');\n",
              "          try {\n",
              "            const charts = await google.colab.kernel.invokeFunction(\n",
              "                'suggestCharts', [key], {});\n",
              "          } catch (error) {\n",
              "            console.error('Error during call to suggestCharts:', error);\n",
              "          }\n",
              "          quickchartButtonEl.classList.remove('colab-df-spinner');\n",
              "          quickchartButtonEl.classList.add('colab-df-quickchart-complete');\n",
              "        }\n",
              "        (() => {\n",
              "          let quickchartButtonEl =\n",
              "            document.querySelector('#df-ed6e8bfc-2c9e-48ef-92fb-74caafa4bb05 button');\n",
              "          quickchartButtonEl.style.display =\n",
              "            google.colab.kernel.accessAllowed ? 'block' : 'none';\n",
              "        })();\n",
              "      </script>\n",
              "    </div>\n",
              "\n",
              "    </div>\n",
              "  </div>\n"
            ],
            "application/vnd.google.colaboratory.intrinsic+json": {
              "type": "dataframe",
              "summary": "{\n  \"name\": \"    print(f\\\"An error occurred while loading the file: {e}\\\")\",\n  \"rows\": 5,\n  \"fields\": [\n    {\n      \"column\": \"Word 1\",\n      \"properties\": {\n        \"dtype\": \"string\",\n        \"num_unique_values\": 4,\n        \"samples\": [\n          \"tiger\",\n          \"computer\",\n          \"love\"\n        ],\n        \"semantic_type\": \"\",\n        \"description\": \"\"\n      }\n    },\n    {\n      \"column\": \"Word 2\",\n      \"properties\": {\n        \"dtype\": \"string\",\n        \"num_unique_values\": 5,\n        \"samples\": [\n          \"cat\",\n          \"keyboard\",\n          \"tiger\"\n        ],\n        \"semantic_type\": \"\",\n        \"description\": \"\"\n      }\n    },\n    {\n      \"column\": \"Human (mean)\",\n      \"properties\": {\n        \"dtype\": \"number\",\n        \"std\": 1.2493398256679407,\n        \"min\": 6.77,\n        \"max\": 10.0,\n        \"num_unique_values\": 5,\n        \"samples\": [\n          7.35,\n          7.62,\n          10.0\n        ],\n        \"semantic_type\": \"\",\n        \"description\": \"\"\n      }\n    }\n  ]\n}"
            }
          },
          "metadata": {}
        }
      ]
    },
    {
      "cell_type": "code",
      "metadata": {
        "id": "2ade9bc8",
        "colab": {
          "base_uri": "https://localhost:8080/"
        },
        "outputId": "12ccde99-63a6-492b-9cd9-7fd100bc6377"
      },
      "source": [
        "def cos_sim(model, w1, w2):\n",
        "    w1, w2 = w1.lower(), w2.lower()\n",
        "    try:\n",
        "        return model.wv.similarity(w1, w2)\n",
        "    except KeyError:\n",
        "        return np.nan\n",
        "\n",
        "# Step 3(a): four pairs\n",
        "pairs = [(\"plane\",\"car\"),(\"planet\",\"sun\"),(\"cup\",\"article\"),(\"sugar\",\"approach\")]\n",
        "print(\"\\n-- Cosines (wikitext_small, sg=1, seed=42) --\")\n",
        "for a, b in pairs:\n",
        "    s = cos_sim(model_small, a, b)\n",
        "    print(f\"{a:7s}/{b:8s} → {s:.4f}\" if s==s else f\"{a}/{b} → OOV\")\n",
        "\n",
        "# Full list for Step 4\n",
        "wordsim_df['cosine_small_sg1'] = [cos_sim(model_small, a, b) for a, b in zip(wordsim_df['Word 1'], wordsim_df['Word 2'])]\n",
        "\n",
        "# Spearman (drop OOVs)\n",
        "df_clean = wordsim_df.dropna(subset=['cosine_small_sg1'])\n",
        "if 'Human (mean)' in df_clean.columns:\n",
        "    rho, p = spearmanr(df_clean['Human (mean)'], df_clean['cosine_small_sg1'])\n",
        "    print(f\"\\nSpearman ρ (small, sg=1): {rho:.4f}  (p={p:.4g})\")\n",
        "else:\n",
        "    print(\"Column 'Human (mean)' not found in CSV. Check header names.\")"
      ],
      "execution_count": 8,
      "outputs": [
        {
          "output_type": "stream",
          "name": "stdout",
          "text": [
            "\n",
            "-- Cosines (wikitext_small, sg=1, seed=42) --\n",
            "plane  /car      → 0.6416\n",
            "planet /sun      → 0.8995\n",
            "cup    /article  → 0.3726\n",
            "sugar  /approach → 0.8494\n",
            "\n",
            "Spearman ρ (small, sg=1): 0.2059  (p=0.0008212)\n"
          ]
        }
      ]
    },
    {
      "cell_type": "code",
      "metadata": {
        "id": "f49e7d0e"
      },
      "source": [
        "from scipy.stats import spearmanr\n",
        "\n",
        "# Drop rows with NaN in the 'Word2Vec_Similarity_Small' column as spearmanr cannot handle NaNs\n",
        "wordsim_df_cleaned = wordsim_df.dropna(subset=['Word2Vec_Similarity_Small'])\n",
        "\n",
        "# Get the human scores and the computed similarities from the cleaned DataFrame\n",
        "human_scores = wordsim_df_cleaned['Human (mean)']\n",
        "computed_similarities = wordsim_df_cleaned['Word2Vec_Similarity_Small']\n",
        "\n",
        "# Compute the Spearman rank-order correlation coefficient\n",
        "spearman_corr, p_value = spearmanr(human_scores, computed_similarities)\n",
        "\n",
        "print(f\"Spearman rank-order correlation coefficient: {spearman_corr:.4f}\")\n",
        "print(f\"P-value: {p_value:.4f}\")"
      ],
      "execution_count": null,
      "outputs": []
    }
  ],
  "metadata": {
    "colab": {
      "provenance": []
    },
    "kernelspec": {
      "display_name": "athnlp-lab3",
      "language": "python",
      "name": "python3"
    },
    "language_info": {
      "codemirror_mode": {
        "name": "ipython",
        "version": 3
      },
      "file_extension": ".py",
      "mimetype": "text/x-python",
      "name": "python",
      "nbconvert_exporter": "python",
      "pygments_lexer": "ipython3",
      "version": "3.11.9"
    }
  },
  "nbformat": 4,
  "nbformat_minor": 0
}