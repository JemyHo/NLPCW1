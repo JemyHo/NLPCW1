{
  "cells": [
    {
      "cell_type": "code",
      "execution_count": 1,
      "metadata": {
        "id": "sQaGMPUu5vQW",
        "colab": {
          "base_uri": "https://localhost:8080/"
        },
        "collapsed": true,
        "outputId": "a924525a-19ef-4730-aafb-b92a333eb3ba"
      },
      "outputs": [
        {
          "output_type": "stream",
          "name": "stdout",
          "text": [
            "--2025-10-16 23:13:00--  https://www.dropbox.com/scl/fi/ibd4cmixckghx6hhb361c/wikitext-filtered-full.zip?rlkey=q71cebf0k5fvvwhmcntoswzhq&dl=1\n",
            "Resolving www.dropbox.com (www.dropbox.com)... 162.125.85.18, 2620:100:6035:18::a27d:5512\n",
            "Connecting to www.dropbox.com (www.dropbox.com)|162.125.85.18|:443... connected.\n",
            "HTTP request sent, awaiting response... 302 Found\n",
            "Location: https://ucced77d48fe67b5709925c5b161.dl-eu.dropboxusercontent.com/cd/0/inline/CzUdrotosFbypmxXwU4Xd5ysL83VAdo1W3DPGOzFsd9HgSb97ac4cc_F-VSx_OrJrL78LCeNYYFLOZbWPdGKTJz_TRcD4Pep1jMid5XocBwWlXBDN5JCu3R-ii_E6B84PBAbl63Nrzwy6qAFD6V27B2T/file?dl=1# [following]\n",
            "--2025-10-16 23:13:02--  https://ucced77d48fe67b5709925c5b161.dl-eu.dropboxusercontent.com/cd/0/inline/CzUdrotosFbypmxXwU4Xd5ysL83VAdo1W3DPGOzFsd9HgSb97ac4cc_F-VSx_OrJrL78LCeNYYFLOZbWPdGKTJz_TRcD4Pep1jMid5XocBwWlXBDN5JCu3R-ii_E6B84PBAbl63Nrzwy6qAFD6V27B2T/file?dl=1\n",
            "Resolving ucced77d48fe67b5709925c5b161.dl-eu.dropboxusercontent.com (ucced77d48fe67b5709925c5b161.dl-eu.dropboxusercontent.com)... 162.125.85.15, 2620:100:6035:15::a27d:550f\n",
            "Connecting to ucced77d48fe67b5709925c5b161.dl-eu.dropboxusercontent.com (ucced77d48fe67b5709925c5b161.dl-eu.dropboxusercontent.com)|162.125.85.15|:443... connected.\n",
            "HTTP request sent, awaiting response... 302 Found\n",
            "Location: /cd/0/inline2/CzVO2gSpX_BNSsdUIrPMx_Q4Tf3mQvV7Jo-fHmkyNWWSfKn_jWIy60bhbRYhdFT6ST2Ent549YmJO8Ts_DnPGKYu6RXGxjFod-ehOh2MArJhmV1Wolt0-bmhhrw4KAJkkBNFbU9oVRoj50iq6-UQOoUDuxfa0pEhX5vkW93Q_UXQgZ1pBhVsm_Yjm5D2gzouqX_zTFccjP5xqV0aof1twpEtiEWWTTHTgZ0ePdCww5FzdSTFpowbqcpq4nLTExGdPONtqisYeUbdlDxVn_sk9WDwsQHlms-aeHM7rQ5BzgFzjA-qEb7W24cPvre3FZHfxDvQtw5azgUItWz2UCs2Qfls4Kr285XPTmZIEjXCbXeZim8f7UrIpqH8sTITnwBe3JY/file?dl=1 [following]\n",
            "--2025-10-16 23:13:03--  https://ucced77d48fe67b5709925c5b161.dl-eu.dropboxusercontent.com/cd/0/inline2/CzVO2gSpX_BNSsdUIrPMx_Q4Tf3mQvV7Jo-fHmkyNWWSfKn_jWIy60bhbRYhdFT6ST2Ent549YmJO8Ts_DnPGKYu6RXGxjFod-ehOh2MArJhmV1Wolt0-bmhhrw4KAJkkBNFbU9oVRoj50iq6-UQOoUDuxfa0pEhX5vkW93Q_UXQgZ1pBhVsm_Yjm5D2gzouqX_zTFccjP5xqV0aof1twpEtiEWWTTHTgZ0ePdCww5FzdSTFpowbqcpq4nLTExGdPONtqisYeUbdlDxVn_sk9WDwsQHlms-aeHM7rQ5BzgFzjA-qEb7W24cPvre3FZHfxDvQtw5azgUItWz2UCs2Qfls4Kr285XPTmZIEjXCbXeZim8f7UrIpqH8sTITnwBe3JY/file?dl=1\n",
            "Reusing existing connection to ucced77d48fe67b5709925c5b161.dl-eu.dropboxusercontent.com:443.\n",
            "HTTP request sent, awaiting response... 200 OK\n",
            "Length: 191859755 (183M) [application/binary]\n",
            "Saving to: ‘wikitext-filtered-full.zip’\n",
            "\n",
            "wikitext-filtered-f 100%[===================>] 182.97M  10.4MB/s    in 19s     \n",
            "\n",
            "2025-10-16 23:13:24 (9.60 MB/s) - ‘wikitext-filtered-full.zip’ saved [191859755/191859755]\n",
            "\n",
            "--2025-10-16 23:13:24--  https://www.dropbox.com/scl/fi/ek174r3sg7qjx0aa9atop/wikitext-filtered-10k.zip?rlkey=zy6jqxv6qsc16lr9qm3ki9uhf&dl=1\n",
            "Resolving www.dropbox.com (www.dropbox.com)... 162.125.85.18, 2620:100:6035:18::a27d:5512\n",
            "Connecting to www.dropbox.com (www.dropbox.com)|162.125.85.18|:443... connected.\n",
            "HTTP request sent, awaiting response... 302 Found\n",
            "Location: https://uc3cff7217d4894aedbd758b426f.dl-eu.dropboxusercontent.com/cd/0/inline/CzWwjcsMY3hfivECSrGDuayvgc9gQrCeBzKDg8NXZbKWuu54_SXTXPOHVgjqpRjXaUNZGdQ_3DBxD-Rx3TzVC96Jva8XoPFFJ41ksC1720KLaDMF24U4PGiBebHxxXVKZoo3DNGKyKlFF89zEV3pju2w/file?dl=1# [following]\n",
            "--2025-10-16 23:13:25--  https://uc3cff7217d4894aedbd758b426f.dl-eu.dropboxusercontent.com/cd/0/inline/CzWwjcsMY3hfivECSrGDuayvgc9gQrCeBzKDg8NXZbKWuu54_SXTXPOHVgjqpRjXaUNZGdQ_3DBxD-Rx3TzVC96Jva8XoPFFJ41ksC1720KLaDMF24U4PGiBebHxxXVKZoo3DNGKyKlFF89zEV3pju2w/file?dl=1\n",
            "Resolving uc3cff7217d4894aedbd758b426f.dl-eu.dropboxusercontent.com (uc3cff7217d4894aedbd758b426f.dl-eu.dropboxusercontent.com)... 162.125.85.15, 2620:100:6035:15::a27d:550f\n",
            "Connecting to uc3cff7217d4894aedbd758b426f.dl-eu.dropboxusercontent.com (uc3cff7217d4894aedbd758b426f.dl-eu.dropboxusercontent.com)|162.125.85.15|:443... connected.\n",
            "HTTP request sent, awaiting response... 302 Found\n",
            "Location: /cd/0/inline2/CzWjib_gRKb6_NZsDVGmlVDZbRqlENx3-dwIcJHDWhK6Y9pFTLcAtcpIbC6utVqP1oiP3E9MDXQP40j02OjT3zZR6nI7Gz2HM6GJT_UWO4EDgZ7AI3-rrJUM-vx11wHg8t3kfjrSls84CXJlXHN80qRVA4QdrRwi293yq26T0fYvz7JNF70ppfOa4YwwC4ekTlRctkNTB7EYRJuNc-wef5FmSsjXg8P20pVQ1M396vS-pW-SrD4LgYPFqywYPmfIbHxxMVOO7OSCLohkrjblOTPgq-RRgTb66RDeF32bRC4dFGfztXK2K5tz2RqH8UhkHg0_9ek3wcc8ihvco2S1TCSkv2_vXmeZpTk6v6700_HHdBdXnQ0QV1fADC4RclE-Ghs/file?dl=1 [following]\n",
            "--2025-10-16 23:13:27--  https://uc3cff7217d4894aedbd758b426f.dl-eu.dropboxusercontent.com/cd/0/inline2/CzWjib_gRKb6_NZsDVGmlVDZbRqlENx3-dwIcJHDWhK6Y9pFTLcAtcpIbC6utVqP1oiP3E9MDXQP40j02OjT3zZR6nI7Gz2HM6GJT_UWO4EDgZ7AI3-rrJUM-vx11wHg8t3kfjrSls84CXJlXHN80qRVA4QdrRwi293yq26T0fYvz7JNF70ppfOa4YwwC4ekTlRctkNTB7EYRJuNc-wef5FmSsjXg8P20pVQ1M396vS-pW-SrD4LgYPFqywYPmfIbHxxMVOO7OSCLohkrjblOTPgq-RRgTb66RDeF32bRC4dFGfztXK2K5tz2RqH8UhkHg0_9ek3wcc8ihvco2S1TCSkv2_vXmeZpTk6v6700_HHdBdXnQ0QV1fADC4RclE-Ghs/file?dl=1\n",
            "Reusing existing connection to uc3cff7217d4894aedbd758b426f.dl-eu.dropboxusercontent.com:443.\n",
            "HTTP request sent, awaiting response... 200 OK\n",
            "Length: 2230160 (2.1M) [application/binary]\n",
            "Saving to: ‘wikitext-filtered-10k.zip’\n",
            "\n",
            "wikitext-filtered-1 100%[===================>]   2.13M   913KB/s    in 2.4s    \n",
            "\n",
            "2025-10-16 23:13:31 (913 KB/s) - ‘wikitext-filtered-10k.zip’ saved [2230160/2230160]\n",
            "\n"
          ]
        }
      ],
      "source": [
        "!wget -O wikitext-filtered-full.zip \"https://www.dropbox.com/scl/fi/ibd4cmixckghx6hhb361c/wikitext-filtered-full.zip?rlkey=q71cebf0k5fvvwhmcntoswzhq&dl=1\"\n",
        "!wget -O wikitext-filtered-10k.zip \"https://www.dropbox.com/scl/fi/ek174r3sg7qjx0aa9atop/wikitext-filtered-10k.zip?rlkey=zy6jqxv6qsc16lr9qm3ki9uhf&dl=1\""
      ]
    },
    {
      "cell_type": "code",
      "execution_count": 2,
      "metadata": {
        "id": "0GgyhgwO59KU",
        "colab": {
          "base_uri": "https://localhost:8080/"
        },
        "collapsed": true,
        "outputId": "36d52af7-b741-4dbd-9348-3983d2bbefad"
      },
      "outputs": [
        {
          "output_type": "stream",
          "name": "stdout",
          "text": [
            "Archive:  wikitext-filtered-full.zip\n",
            "replace wikitext-filtered-full/dataset_info.json? [y]es, [n]o, [A]ll, [N]one, [r]ename: n\n",
            "replace wikitext-filtered-full/state.json? [y]es, [n]o, [A]ll, [N]one, [r]ename: n\n",
            "replace wikitext-filtered-full/data-00000-of-00001.arrow? [y]es, [n]o, [A]ll, [N]one, [r]ename: n\n",
            "Archive:  wikitext-filtered-10k.zip\n",
            "replace wikitext-filtered-10k/dataset_info.json? [y]es, [n]o, [A]ll, [N]one, [r]ename: n\n",
            "replace wikitext-filtered-10k/state.json? [y]es, [n]o, [A]ll, [N]one, [r]ename: n\n",
            "replace wikitext-filtered-10k/data-00000-of-00001.arrow? [y]es, [n]o, [A]ll, [N]one, [r]ename: n\n"
          ]
        }
      ],
      "source": [
        "!unzip wikitext-filtered-full.zip\n",
        "!unzip wikitext-filtered-10k.zip"
      ]
    },
    {
      "cell_type": "code",
      "execution_count": 3,
      "metadata": {
        "id": "gbUoBOOH5_Zy",
        "colab": {
          "base_uri": "https://localhost:8080/"
        },
        "collapsed": true,
        "outputId": "3a59398a-3cf0-4615-a21d-5e4adc774190"
      },
      "outputs": [
        {
          "output_type": "stream",
          "name": "stdout",
          "text": [
            "Requirement already satisfied: datasets in /usr/local/lib/python3.12/dist-packages (4.0.0)\n",
            "Requirement already satisfied: filelock in /usr/local/lib/python3.12/dist-packages (from datasets) (3.20.0)\n",
            "Requirement already satisfied: numpy>=1.17 in /usr/local/lib/python3.12/dist-packages (from datasets) (1.26.4)\n",
            "Requirement already satisfied: pyarrow>=15.0.0 in /usr/local/lib/python3.12/dist-packages (from datasets) (18.1.0)\n",
            "Requirement already satisfied: dill<0.3.9,>=0.3.0 in /usr/local/lib/python3.12/dist-packages (from datasets) (0.3.8)\n",
            "Requirement already satisfied: pandas in /usr/local/lib/python3.12/dist-packages (from datasets) (2.2.2)\n",
            "Requirement already satisfied: requests>=2.32.2 in /usr/local/lib/python3.12/dist-packages (from datasets) (2.32.4)\n",
            "Requirement already satisfied: tqdm>=4.66.3 in /usr/local/lib/python3.12/dist-packages (from datasets) (4.67.1)\n",
            "Requirement already satisfied: xxhash in /usr/local/lib/python3.12/dist-packages (from datasets) (3.6.0)\n",
            "Requirement already satisfied: multiprocess<0.70.17 in /usr/local/lib/python3.12/dist-packages (from datasets) (0.70.16)\n",
            "Requirement already satisfied: fsspec<=2025.3.0,>=2023.1.0 in /usr/local/lib/python3.12/dist-packages (from fsspec[http]<=2025.3.0,>=2023.1.0->datasets) (2025.3.0)\n",
            "Requirement already satisfied: huggingface-hub>=0.24.0 in /usr/local/lib/python3.12/dist-packages (from datasets) (0.35.3)\n",
            "Requirement already satisfied: packaging in /usr/local/lib/python3.12/dist-packages (from datasets) (25.0)\n",
            "Requirement already satisfied: pyyaml>=5.1 in /usr/local/lib/python3.12/dist-packages (from datasets) (6.0.3)\n",
            "Requirement already satisfied: aiohttp!=4.0.0a0,!=4.0.0a1 in /usr/local/lib/python3.12/dist-packages (from fsspec[http]<=2025.3.0,>=2023.1.0->datasets) (3.13.0)\n",
            "Requirement already satisfied: typing-extensions>=3.7.4.3 in /usr/local/lib/python3.12/dist-packages (from huggingface-hub>=0.24.0->datasets) (4.15.0)\n",
            "Requirement already satisfied: hf-xet<2.0.0,>=1.1.3 in /usr/local/lib/python3.12/dist-packages (from huggingface-hub>=0.24.0->datasets) (1.1.10)\n",
            "Requirement already satisfied: charset_normalizer<4,>=2 in /usr/local/lib/python3.12/dist-packages (from requests>=2.32.2->datasets) (3.4.3)\n",
            "Requirement already satisfied: idna<4,>=2.5 in /usr/local/lib/python3.12/dist-packages (from requests>=2.32.2->datasets) (3.10)\n",
            "Requirement already satisfied: urllib3<3,>=1.21.1 in /usr/local/lib/python3.12/dist-packages (from requests>=2.32.2->datasets) (2.5.0)\n",
            "Requirement already satisfied: certifi>=2017.4.17 in /usr/local/lib/python3.12/dist-packages (from requests>=2.32.2->datasets) (2025.10.5)\n",
            "Requirement already satisfied: python-dateutil>=2.8.2 in /usr/local/lib/python3.12/dist-packages (from pandas->datasets) (2.9.0.post0)\n",
            "Requirement already satisfied: pytz>=2020.1 in /usr/local/lib/python3.12/dist-packages (from pandas->datasets) (2025.2)\n",
            "Requirement already satisfied: tzdata>=2022.7 in /usr/local/lib/python3.12/dist-packages (from pandas->datasets) (2025.2)\n",
            "Requirement already satisfied: aiohappyeyeballs>=2.5.0 in /usr/local/lib/python3.12/dist-packages (from aiohttp!=4.0.0a0,!=4.0.0a1->fsspec[http]<=2025.3.0,>=2023.1.0->datasets) (2.6.1)\n",
            "Requirement already satisfied: aiosignal>=1.4.0 in /usr/local/lib/python3.12/dist-packages (from aiohttp!=4.0.0a0,!=4.0.0a1->fsspec[http]<=2025.3.0,>=2023.1.0->datasets) (1.4.0)\n",
            "Requirement already satisfied: attrs>=17.3.0 in /usr/local/lib/python3.12/dist-packages (from aiohttp!=4.0.0a0,!=4.0.0a1->fsspec[http]<=2025.3.0,>=2023.1.0->datasets) (25.4.0)\n",
            "Requirement already satisfied: frozenlist>=1.1.1 in /usr/local/lib/python3.12/dist-packages (from aiohttp!=4.0.0a0,!=4.0.0a1->fsspec[http]<=2025.3.0,>=2023.1.0->datasets) (1.8.0)\n",
            "Requirement already satisfied: multidict<7.0,>=4.5 in /usr/local/lib/python3.12/dist-packages (from aiohttp!=4.0.0a0,!=4.0.0a1->fsspec[http]<=2025.3.0,>=2023.1.0->datasets) (6.7.0)\n",
            "Requirement already satisfied: propcache>=0.2.0 in /usr/local/lib/python3.12/dist-packages (from aiohttp!=4.0.0a0,!=4.0.0a1->fsspec[http]<=2025.3.0,>=2023.1.0->datasets) (0.3.2)\n",
            "Requirement already satisfied: yarl<2.0,>=1.17.0 in /usr/local/lib/python3.12/dist-packages (from aiohttp!=4.0.0a0,!=4.0.0a1->fsspec[http]<=2025.3.0,>=2023.1.0->datasets) (1.22.0)\n",
            "Requirement already satisfied: six>=1.5 in /usr/local/lib/python3.12/dist-packages (from python-dateutil>=2.8.2->pandas->datasets) (1.17.0)\n"
          ]
        }
      ],
      "source": [
        "!pip install datasets\n",
        "import datasets"
      ]
    },
    {
      "cell_type": "code",
      "source": [
        "!pip install gensim"
      ],
      "metadata": {
        "colab": {
          "base_uri": "https://localhost:8080/"
        },
        "id": "EN2vY_-dVeem",
        "outputId": "2110db4e-876c-4012-a199-caf7fa807641",
        "collapsed": true
      },
      "execution_count": 4,
      "outputs": [
        {
          "output_type": "stream",
          "name": "stdout",
          "text": [
            "Requirement already satisfied: gensim in /usr/local/lib/python3.12/dist-packages (4.3.3)\n",
            "Requirement already satisfied: numpy<2.0,>=1.18.5 in /usr/local/lib/python3.12/dist-packages (from gensim) (1.26.4)\n",
            "Requirement already satisfied: scipy<1.14.0,>=1.7.0 in /usr/local/lib/python3.12/dist-packages (from gensim) (1.13.1)\n",
            "Requirement already satisfied: smart-open>=1.8.1 in /usr/local/lib/python3.12/dist-packages (from gensim) (7.3.1)\n",
            "Requirement already satisfied: wrapt in /usr/local/lib/python3.12/dist-packages (from smart-open>=1.8.1->gensim) (1.17.3)\n"
          ]
        }
      ]
    },
    {
      "cell_type": "code",
      "execution_count": 5,
      "metadata": {
        "id": "aYe6Rq5k6Bgu",
        "colab": {
          "base_uri": "https://localhost:8080/"
        },
        "outputId": "7386e321-b0a6-4438-ccb4-7f306cce4fe3"
      },
      "outputs": [
        {
          "output_type": "stream",
          "name": "stdout",
          "text": [
            "wikitext_small: 10000 docs, wikitext_large: 859955 docs\n"
          ]
        }
      ],
      "source": [
        "from datasets import load_dataset, Dataset\n",
        "\n",
        "def load_dataset():\n",
        "  wikitext_small = \"wikitext-filtered-10k\"\n",
        "  wikitext_large = \"wikitext-filtered-full\"\n",
        "\n",
        "  dataset_small = Dataset.load_from_disk(wikitext_small)\n",
        "  dataset_large = Dataset.load_from_disk(wikitext_large)\n",
        "  print(\"wikitext_small: {} docs, wikitext_large: {} docs\".format(len(dataset_small), len(dataset_large)))\n",
        "  return dataset_small, dataset_large\n",
        "\n",
        "wikitext_small, wikitext_large = load_dataset()"
      ]
    },
    {
      "cell_type": "code",
      "metadata": {
        "colab": {
          "base_uri": "https://localhost:8080/"
        },
        "id": "af0f0f23",
        "outputId": "a712bb50-b65e-4efc-b388-04b064512612"
      },
      "source": [
        "import nltk #Imports Natural Language Toolkit library\n",
        "from nltk.corpus import stopwords #Import Stopword module for common words\n",
        "from gensim.models import Word2Vec #Import Word2Vec\n",
        "import string #Import String for punctuations characters\n",
        "\n",
        "#Download stopwords\n",
        "try:\n",
        "    stopwords = stopwords.words('english')\n",
        "except LookupError:\n",
        "    nltk.download('stopwords')\n",
        "    stopwords = stopwords.words('english')\n",
        "\n",
        "\n",
        "def preprocess_text(text):\n",
        "    tokens = text.lower().split() #Tokenize by empty space and convert to lowercase\n",
        "    tokens = [word.translate(str.maketrans('', '', string.punctuation)) for word in tokens] #Remove punctuation\n",
        "    tokens = [word for word in tokens if word not in stopwords] #Remove stopwords\n",
        "    return tokens\n",
        "\n",
        "print(\"Preprocessing wikitext_small\")\n",
        "processed_small = [preprocess_text(doc['text']) for doc in wikitext_small] #Preprocess the datasets\n",
        "\n",
        "print(\"Training Word2Vec model for wikitext_small\") #Train Word2Vec models\n",
        "model_small = Word2Vec(sentences=processed_small, vector_size=50, window=5, min_count=5, epochs=5)\n",
        "#Vector size 50 = Each word will be represented by a vector of 50 numbers\n",
        "#Window 5 = Model considers up to 5 words before and 5 words after the target word for context\n",
        "#Min_count 5 = Filter out rare words by ignoring words that appear less than 5 times, less context to learn meaningful representation\n",
        "#The model will go through the data 5 times to refine the word vectors\n"
      ],
      "execution_count": 6,
      "outputs": [
        {
          "output_type": "stream",
          "name": "stderr",
          "text": [
            "[nltk_data] Downloading package stopwords to /root/nltk_data...\n",
            "[nltk_data]   Unzipping corpora/stopwords.zip.\n"
          ]
        },
        {
          "output_type": "stream",
          "name": "stdout",
          "text": [
            "Preprocessing wikitext_small\n",
            "Training Word2Vec model for wikitext_small\n"
          ]
        }
      ]
    },
    {
      "cell_type": "code",
      "metadata": {
        "colab": {
          "base_uri": "https://localhost:8080/"
        },
        "id": "a58d5121",
        "outputId": "6f70ffeb-2ae9-4df0-d7e9-b1238b1e9918"
      },
      "source": [
        "from google.colab import drive\n",
        "drive.mount('/content/drive')"
      ],
      "execution_count": 7,
      "outputs": [
        {
          "output_type": "stream",
          "name": "stdout",
          "text": [
            "Mounted at /content/drive\n"
          ]
        }
      ]
    },
    {
      "cell_type": "code",
      "metadata": {
        "colab": {
          "base_uri": "https://localhost:8080/",
          "height": 223
        },
        "id": "9ae92050",
        "outputId": "d5f61666-9ecc-4938-ef5a-7c643aecf974"
      },
      "source": [
        "# Import WordSim csv\n",
        "\n",
        "import pandas as pd\n",
        "\n",
        "file_path = '/content/drive/My Drive/wordsim353/combined.csv'\n",
        "\n",
        "try:\n",
        "    wordsim_df = pd.read_csv(file_path)\n",
        "    print(\"WordSim-353 data loaded successfully.\")\n",
        "    display(wordsim_df.head())\n",
        "except FileNotFoundError:\n",
        "    print(f\"Error: The file was not found at {file_path}\")\n",
        "    print(\"Please check the file path in your Google Drive and update the 'file_path' variable.\")\n",
        "except Exception as e:\n",
        "    print(f\"An error occurred while loading the file: {e}\")"
      ],
      "execution_count": 10,
      "outputs": [
        {
          "output_type": "stream",
          "name": "stdout",
          "text": [
            "WordSim-353 data loaded successfully.\n"
          ]
        },
        {
          "output_type": "display_data",
          "data": {
            "text/plain": [
              "     Word 1    Word 2  Human (mean)\n",
              "0      love       sex          6.77\n",
              "1     tiger       cat          7.35\n",
              "2     tiger     tiger         10.00\n",
              "3      book     paper          7.46\n",
              "4  computer  keyboard          7.62"
            ],
            "text/html": [
              "\n",
              "  <div id=\"df-12ba6897-9686-4572-a8e3-e82c15898a25\" class=\"colab-df-container\">\n",
              "    <div>\n",
              "<style scoped>\n",
              "    .dataframe tbody tr th:only-of-type {\n",
              "        vertical-align: middle;\n",
              "    }\n",
              "\n",
              "    .dataframe tbody tr th {\n",
              "        vertical-align: top;\n",
              "    }\n",
              "\n",
              "    .dataframe thead th {\n",
              "        text-align: right;\n",
              "    }\n",
              "</style>\n",
              "<table border=\"1\" class=\"dataframe\">\n",
              "  <thead>\n",
              "    <tr style=\"text-align: right;\">\n",
              "      <th></th>\n",
              "      <th>Word 1</th>\n",
              "      <th>Word 2</th>\n",
              "      <th>Human (mean)</th>\n",
              "    </tr>\n",
              "  </thead>\n",
              "  <tbody>\n",
              "    <tr>\n",
              "      <th>0</th>\n",
              "      <td>love</td>\n",
              "      <td>sex</td>\n",
              "      <td>6.77</td>\n",
              "    </tr>\n",
              "    <tr>\n",
              "      <th>1</th>\n",
              "      <td>tiger</td>\n",
              "      <td>cat</td>\n",
              "      <td>7.35</td>\n",
              "    </tr>\n",
              "    <tr>\n",
              "      <th>2</th>\n",
              "      <td>tiger</td>\n",
              "      <td>tiger</td>\n",
              "      <td>10.00</td>\n",
              "    </tr>\n",
              "    <tr>\n",
              "      <th>3</th>\n",
              "      <td>book</td>\n",
              "      <td>paper</td>\n",
              "      <td>7.46</td>\n",
              "    </tr>\n",
              "    <tr>\n",
              "      <th>4</th>\n",
              "      <td>computer</td>\n",
              "      <td>keyboard</td>\n",
              "      <td>7.62</td>\n",
              "    </tr>\n",
              "  </tbody>\n",
              "</table>\n",
              "</div>\n",
              "    <div class=\"colab-df-buttons\">\n",
              "      \n",
              "  <div class=\"colab-df-container\">\n",
              "    <button class=\"colab-df-convert\" onclick=\"convertToInteractive('df-12ba6897-9686-4572-a8e3-e82c15898a25')\"\n",
              "            title=\"Convert this dataframe to an interactive table.\"\n",
              "            style=\"display:none;\">\n",
              "      \n",
              "  <svg xmlns=\"http://www.w3.org/2000/svg\" height=\"24px\" viewBox=\"0 -960 960 960\">\n",
              "    <path d=\"M120-120v-720h720v720H120Zm60-500h600v-160H180v160Zm220 220h160v-160H400v160Zm0 220h160v-160H400v160ZM180-400h160v-160H180v160Zm440 0h160v-160H620v160ZM180-180h160v-160H180v160Zm440 0h160v-160H620v160Z\"/>\n",
              "  </svg>\n",
              "    </button>\n",
              "    \n",
              "  <style>\n",
              "    .colab-df-container {\n",
              "      display:flex;\n",
              "      gap: 12px;\n",
              "    }\n",
              "\n",
              "    .colab-df-convert {\n",
              "      background-color: #E8F0FE;\n",
              "      border: none;\n",
              "      border-radius: 50%;\n",
              "      cursor: pointer;\n",
              "      display: none;\n",
              "      fill: #1967D2;\n",
              "      height: 32px;\n",
              "      padding: 0 0 0 0;\n",
              "      width: 32px;\n",
              "    }\n",
              "\n",
              "    .colab-df-convert:hover {\n",
              "      background-color: #E2EBFA;\n",
              "      box-shadow: 0px 1px 2px rgba(60, 64, 67, 0.3), 0px 1px 3px 1px rgba(60, 64, 67, 0.15);\n",
              "      fill: #174EA6;\n",
              "    }\n",
              "\n",
              "    .colab-df-buttons div {\n",
              "      margin-bottom: 4px;\n",
              "    }\n",
              "\n",
              "    [theme=dark] .colab-df-convert {\n",
              "      background-color: #3B4455;\n",
              "      fill: #D2E3FC;\n",
              "    }\n",
              "\n",
              "    [theme=dark] .colab-df-convert:hover {\n",
              "      background-color: #434B5C;\n",
              "      box-shadow: 0px 1px 3px 1px rgba(0, 0, 0, 0.15);\n",
              "      filter: drop-shadow(0px 1px 2px rgba(0, 0, 0, 0.3));\n",
              "      fill: #FFFFFF;\n",
              "    }\n",
              "  </style>\n",
              "\n",
              "    <script>\n",
              "      const buttonEl =\n",
              "        document.querySelector('#df-12ba6897-9686-4572-a8e3-e82c15898a25 button.colab-df-convert');\n",
              "      buttonEl.style.display =\n",
              "        google.colab.kernel.accessAllowed ? 'block' : 'none';\n",
              "\n",
              "      async function convertToInteractive(key) {\n",
              "        const element = document.querySelector('#df-12ba6897-9686-4572-a8e3-e82c15898a25');\n",
              "        const dataTable =\n",
              "          await google.colab.kernel.invokeFunction('convertToInteractive',\n",
              "                                                    [key], {});\n",
              "        if (!dataTable) return;\n",
              "\n",
              "        const docLinkHtml = 'Like what you see? Visit the ' +\n",
              "          '<a target=\"_blank\" href=https://colab.research.google.com/notebooks/data_table.ipynb>data table notebook</a>'\n",
              "          + ' to learn more about interactive tables.';\n",
              "        element.innerHTML = '';\n",
              "        dataTable['output_type'] = 'display_data';\n",
              "        await google.colab.output.renderOutput(dataTable, element);\n",
              "        const docLink = document.createElement('div');\n",
              "        docLink.innerHTML = docLinkHtml;\n",
              "        element.appendChild(docLink);\n",
              "      }\n",
              "    </script>\n",
              "  </div>\n",
              "  \n",
              "    </div>\n",
              "  </div>\n",
              "  "
            ]
          },
          "metadata": {}
        }
      ]
    },
    {
      "cell_type": "code",
      "metadata": {
        "id": "2ade9bc8",
        "colab": {
          "base_uri": "https://localhost:8080/"
        },
        "outputId": "a0ce7317-be7e-4fb4-f50c-987f68b82524"
      },
      "source": [
        "from scipy.spatial.distance import cosine\n",
        "import numpy as np #Import numpy for nan\n",
        "\n",
        "def get_word_vector(word, model): #Function to get vector for a word, handling words not in vocabulary\n",
        "    try:\n",
        "        return model.wv[word] #Gensim's Word2Vec model stores word vectors in the 'wv' attribute\n",
        "    except KeyError:\n",
        "        return None #Return None if word is not in the model's vocabulary\n",
        "\n",
        "computed_similarities = [] #List to store computed cosine similarities\n",
        "\n",
        "for index, row in wordsim_df.iterrows(): #Iterate through each row in the WordSim353 Data\n",
        "    #Get words from the WordSim and convert to lowercase\n",
        "    word1 = row['Word 1'].lower()\n",
        "    word2 = row['Word 2'].lower()\n",
        "\n",
        "    #Get vectors for the words from the trained model\n",
        "    vector1 = get_word_vector(word1, model_small)\n",
        "    vector2 = get_word_vector(word2, model_small)\n",
        "\n",
        "    if vector1 is not None and vector2 is not None:\n",
        "        similarity = 1 - cosine(vector1, vector2)\n",
        "        #Compute cosine similarity with Cosine() from scipy.spatial.distance computes cosine distance\n",
        "    else:\n",
        "        #If either word is not in the model's vocabulary, we cannot compute similarity.\n",
        "        #Assign NaN (Not a Number) to indicate this.\n",
        "        similarity = np.nan # Use np.nan for consistency\n",
        "\n",
        "    computed_similarities.append(similarity)\n",
        "\n",
        "# Add the computed similarities as a new column to the DataFrame\n",
        "# The column name indicates which model was used\n",
        "wordsim_df['Word2Vec_Similarity_Small'] = computed_similarities\n",
        "\n",
        "print(\"Cosine similarities computed using model_small for WordSim-353 dataset.\")\n",
        "\n",
        "# Compute and display similarity for additional word pairs\n",
        "pairs = [\n",
        "    ('plane', 'car'),\n",
        "    ('planet', 'sun'),\n",
        "    ('cup', 'article'),\n",
        "    ('sugar', 'approach')\n",
        "]\n",
        "\n",
        "print(\"\\nCosine similarities for word pairs below :\")\n",
        "for word1, word2 in pairs:\n",
        "    vector1 = get_word_vector(word1, model_small)\n",
        "    vector2 = get_word_vector(word2, model_small)\n",
        "\n",
        "    if vector1 is not None and vector2 is not None:\n",
        "        similarity = 1 - cosine(vector1, vector2)\n",
        "        print(f\"'{word1}' and '{word2}': {similarity:.4f}\")\n",
        "    else:\n",
        "        print(f\"'{word1}' or '{word2}' not in model vocabulary. Cannot compute similarity.\")"
      ],
      "execution_count": 17,
      "outputs": [
        {
          "output_type": "stream",
          "name": "stdout",
          "text": [
            "Cosine similarities computed using model_small for WordSim-353 dataset.\n",
            "\n",
            "Cosine similarities for word pairs below :\n",
            "'plane' and 'car': 0.9496\n",
            "'planet' and 'sun': 0.9839\n",
            "'cup' and 'article': 0.6012\n",
            "'sugar' and 'approach': 0.9768\n"
          ]
        }
      ]
    }
  ],
  "metadata": {
    "colab": {
      "provenance": []
    },
    "kernelspec": {
      "display_name": "athnlp-lab3",
      "language": "python",
      "name": "python3"
    },
    "language_info": {
      "codemirror_mode": {
        "name": "ipython",
        "version": 3
      },
      "file_extension": ".py",
      "mimetype": "text/x-python",
      "name": "python",
      "nbconvert_exporter": "python",
      "pygments_lexer": "ipython3",
      "version": "3.11.9"
    }
  },
  "nbformat": 4,
  "nbformat_minor": 0
}