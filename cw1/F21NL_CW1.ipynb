{
  "cells": [
    {
      "cell_type": "code",
      "execution_count": 1,
      "metadata": {
        "id": "sQaGMPUu5vQW",
        "colab": {
          "base_uri": "https://localhost:8080/"
        },
        "outputId": "71286cc3-5281-4d53-8613-152877030f26"
      },
      "outputs": [
        {
          "output_type": "stream",
          "name": "stdout",
          "text": [
            "--2025-10-07 19:43:40--  https://www.dropbox.com/scl/fi/ibd4cmixckghx6hhb361c/wikitext-filtered-full.zip?rlkey=q71cebf0k5fvvwhmcntoswzhq&dl=1\n",
            "Resolving www.dropbox.com (www.dropbox.com)... 162.125.1.18, 2620:100:6016:18::a27d:112\n",
            "Connecting to www.dropbox.com (www.dropbox.com)|162.125.1.18|:443... connected.\n",
            "HTTP request sent, awaiting response... 302 Found\n",
            "Location: https://ucfbfeb513f175a338bab622bd2b.dl-eu.dropboxusercontent.com/cd/0/inline/CywKUkfAzX88UBDTs4K3ebuIew4cGtswrgZInldBq8fW7hUstwJGZ5wMtm2jaOyl1lhX1FHEdlFw1awEATHZIrb3IcpMGWTGl76Cmdx6t-yaOqJUe8ODtqnW2AIcaSyDnywL0CBS2pAxeG-Nl-iTSvAL/file?dl=1# [following]\n",
            "--2025-10-07 19:43:40--  https://ucfbfeb513f175a338bab622bd2b.dl-eu.dropboxusercontent.com/cd/0/inline/CywKUkfAzX88UBDTs4K3ebuIew4cGtswrgZInldBq8fW7hUstwJGZ5wMtm2jaOyl1lhX1FHEdlFw1awEATHZIrb3IcpMGWTGl76Cmdx6t-yaOqJUe8ODtqnW2AIcaSyDnywL0CBS2pAxeG-Nl-iTSvAL/file?dl=1\n",
            "Resolving ucfbfeb513f175a338bab622bd2b.dl-eu.dropboxusercontent.com (ucfbfeb513f175a338bab622bd2b.dl-eu.dropboxusercontent.com)... 162.125.1.15, 2620:100:6016:15::a27d:10f\n",
            "Connecting to ucfbfeb513f175a338bab622bd2b.dl-eu.dropboxusercontent.com (ucfbfeb513f175a338bab622bd2b.dl-eu.dropboxusercontent.com)|162.125.1.15|:443... connected.\n",
            "HTTP request sent, awaiting response... 302 Found\n",
            "Location: /cd/0/inline2/Cyx8NQmsjKXw7efhIt89s8ZHLys0_qDuH3hHOJxIMM-nJGc4YRnDyTvBjb6hidtLCIrVgL7aIL0WZ6eBMkmq6AfSyCgTwb2SrqXZZ7jeyPsDGAEm_MU3WIrnxoDeB9MFasZEG48ItzvCVbIl9dh4yuWhy-GLoYpc94yNklcpG_nnGqk4pgk_AU7TIxGfdFPulYlFyeSHgLQlQeH4nHMGaIW20d6TgRkUq5CQZmLuX5nVAKTceOe1ExCeXnT4_s07Gpi_vd2u3m2dRfjPUEd6MRgvH8h96D8c9ILd_fQkPdMj--pFntkL9RKsmeRpQCMkYCzdAHoqbiYe0uJm5RhkLFsPHkE8pHMwJXAAd2nduqhYIoCqRwyRlWogKjm4uKY8o7s/file?dl=1 [following]\n",
            "--2025-10-07 19:43:42--  https://ucfbfeb513f175a338bab622bd2b.dl-eu.dropboxusercontent.com/cd/0/inline2/Cyx8NQmsjKXw7efhIt89s8ZHLys0_qDuH3hHOJxIMM-nJGc4YRnDyTvBjb6hidtLCIrVgL7aIL0WZ6eBMkmq6AfSyCgTwb2SrqXZZ7jeyPsDGAEm_MU3WIrnxoDeB9MFasZEG48ItzvCVbIl9dh4yuWhy-GLoYpc94yNklcpG_nnGqk4pgk_AU7TIxGfdFPulYlFyeSHgLQlQeH4nHMGaIW20d6TgRkUq5CQZmLuX5nVAKTceOe1ExCeXnT4_s07Gpi_vd2u3m2dRfjPUEd6MRgvH8h96D8c9ILd_fQkPdMj--pFntkL9RKsmeRpQCMkYCzdAHoqbiYe0uJm5RhkLFsPHkE8pHMwJXAAd2nduqhYIoCqRwyRlWogKjm4uKY8o7s/file?dl=1\n",
            "Reusing existing connection to ucfbfeb513f175a338bab622bd2b.dl-eu.dropboxusercontent.com:443.\n",
            "HTTP request sent, awaiting response... 200 OK\n",
            "Length: 191859755 (183M) [application/binary]\n",
            "Saving to: ‘wikitext-filtered-full.zip’\n",
            "\n",
            "wikitext-filtered-f 100%[===================>] 182.97M  21.9MB/s    in 9.5s    \n",
            "\n",
            "2025-10-07 19:43:52 (19.2 MB/s) - ‘wikitext-filtered-full.zip’ saved [191859755/191859755]\n",
            "\n",
            "--2025-10-07 19:43:53--  https://www.dropbox.com/scl/fi/ek174r3sg7qjx0aa9atop/wikitext-filtered-10k.zip?rlkey=zy6jqxv6qsc16lr9qm3ki9uhf&dl=1\n",
            "Resolving www.dropbox.com (www.dropbox.com)... 162.125.1.18, 2620:100:6016:18::a27d:112\n",
            "Connecting to www.dropbox.com (www.dropbox.com)|162.125.1.18|:443... connected.\n",
            "HTTP request sent, awaiting response... 302 Found\n",
            "Location: https://ucb4335b05747eb54d848ea8b9e1.dl-eu.dropboxusercontent.com/cd/0/inline/CyyGWV3f494PDEuyYQyLLpMeDCrLant8YNO7pJPboZQ1JMsVezSHX1l9_q9js9AKJtQaicI7HvWza_z5PzptzQkNkgFuIP0vK0LZcHKlWwJ4cRYPOOSv8jl5yE30x761ei8hlMFcJiExN60MI2NgWs6O/file?dl=1# [following]\n",
            "--2025-10-07 19:43:54--  https://ucb4335b05747eb54d848ea8b9e1.dl-eu.dropboxusercontent.com/cd/0/inline/CyyGWV3f494PDEuyYQyLLpMeDCrLant8YNO7pJPboZQ1JMsVezSHX1l9_q9js9AKJtQaicI7HvWza_z5PzptzQkNkgFuIP0vK0LZcHKlWwJ4cRYPOOSv8jl5yE30x761ei8hlMFcJiExN60MI2NgWs6O/file?dl=1\n",
            "Resolving ucb4335b05747eb54d848ea8b9e1.dl-eu.dropboxusercontent.com (ucb4335b05747eb54d848ea8b9e1.dl-eu.dropboxusercontent.com)... 162.125.1.15, 2620:100:6016:15::a27d:10f\n",
            "Connecting to ucb4335b05747eb54d848ea8b9e1.dl-eu.dropboxusercontent.com (ucb4335b05747eb54d848ea8b9e1.dl-eu.dropboxusercontent.com)|162.125.1.15|:443... connected.\n",
            "HTTP request sent, awaiting response... 302 Found\n",
            "Location: /cd/0/inline2/CywfgwFHeVR0A34zCb9zJdHysX6qXvhjKgy0zjN7Pgebvp-lO432_DnSeI3WR6_dM3xEMmv1ian4-r6lyFiyOGZjfpxYfdKqr45ZmnwkPG_ixDvFsFgPOy5TAljMmy2K9heSrfjk07AbtkdS4SJXBE68F1YdBzaCS2XA5uqIZdMHs_qZGIAhhVeNEBU5h0nbdkrnlLpQpbIvGaBA8BSqzhguBm-UlWmAfjrCH6GPjTtahNG7J-p7Kx6A3dLiOoKDObpVE9sTCwAUxJGsB3ko9h48rqy55rE0GLlh5g5vIGO6zLhFLJ8tdippwmejvrWdod3Hr6-HfzXLvx_J45EsV93Mgqksmshy-dggUFL759BDvtRT4EgQ2TEqea1X3lfOlnI/file?dl=1 [following]\n",
            "--2025-10-07 19:43:55--  https://ucb4335b05747eb54d848ea8b9e1.dl-eu.dropboxusercontent.com/cd/0/inline2/CywfgwFHeVR0A34zCb9zJdHysX6qXvhjKgy0zjN7Pgebvp-lO432_DnSeI3WR6_dM3xEMmv1ian4-r6lyFiyOGZjfpxYfdKqr45ZmnwkPG_ixDvFsFgPOy5TAljMmy2K9heSrfjk07AbtkdS4SJXBE68F1YdBzaCS2XA5uqIZdMHs_qZGIAhhVeNEBU5h0nbdkrnlLpQpbIvGaBA8BSqzhguBm-UlWmAfjrCH6GPjTtahNG7J-p7Kx6A3dLiOoKDObpVE9sTCwAUxJGsB3ko9h48rqy55rE0GLlh5g5vIGO6zLhFLJ8tdippwmejvrWdod3Hr6-HfzXLvx_J45EsV93Mgqksmshy-dggUFL759BDvtRT4EgQ2TEqea1X3lfOlnI/file?dl=1\n",
            "Reusing existing connection to ucb4335b05747eb54d848ea8b9e1.dl-eu.dropboxusercontent.com:443.\n",
            "HTTP request sent, awaiting response... 200 OK\n",
            "Length: 2230160 (2.1M) [application/binary]\n",
            "Saving to: ‘wikitext-filtered-10k.zip’\n",
            "\n",
            "wikitext-filtered-1 100%[===================>]   2.13M  1.95MB/s    in 1.1s    \n",
            "\n",
            "2025-10-07 19:43:57 (1.95 MB/s) - ‘wikitext-filtered-10k.zip’ saved [2230160/2230160]\n",
            "\n"
          ]
        }
      ],
      "source": [
        "!wget -O wikitext-filtered-full.zip \"https://www.dropbox.com/scl/fi/ibd4cmixckghx6hhb361c/wikitext-filtered-full.zip?rlkey=q71cebf0k5fvvwhmcntoswzhq&dl=1\"\n",
        "!wget -O wikitext-filtered-10k.zip \"https://www.dropbox.com/scl/fi/ek174r3sg7qjx0aa9atop/wikitext-filtered-10k.zip?rlkey=zy6jqxv6qsc16lr9qm3ki9uhf&dl=1\""
      ]
    },
    {
      "cell_type": "code",
      "execution_count": 2,
      "metadata": {
        "id": "0GgyhgwO59KU",
        "colab": {
          "base_uri": "https://localhost:8080/"
        },
        "outputId": "da7eb9ca-cc1f-4cd5-c8b1-ff5897523115"
      },
      "outputs": [
        {
          "output_type": "stream",
          "name": "stdout",
          "text": [
            "Archive:  wikitext-filtered-full.zip\n",
            "   creating: wikitext-filtered-full/\n",
            "  inflating: wikitext-filtered-full/dataset_info.json  \n",
            "  inflating: wikitext-filtered-full/state.json  \n",
            "  inflating: wikitext-filtered-full/data-00000-of-00001.arrow  \n",
            "Archive:  wikitext-filtered-10k.zip\n",
            "   creating: wikitext-filtered-10k/\n",
            "  inflating: wikitext-filtered-10k/dataset_info.json  \n",
            "  inflating: wikitext-filtered-10k/state.json  \n",
            "  inflating: wikitext-filtered-10k/data-00000-of-00001.arrow  \n"
          ]
        }
      ],
      "source": [
        "!unzip wikitext-filtered-full.zip\n",
        "!unzip wikitext-filtered-10k.zip"
      ]
    },
    {
      "cell_type": "code",
      "execution_count": 3,
      "metadata": {
        "id": "gbUoBOOH5_Zy",
        "colab": {
          "base_uri": "https://localhost:8080/"
        },
        "outputId": "cb24cc62-f77b-4e68-a308-d0839cd91adc"
      },
      "outputs": [
        {
          "output_type": "stream",
          "name": "stdout",
          "text": [
            "Requirement already satisfied: datasets in /usr/local/lib/python3.12/dist-packages (4.0.0)\n",
            "Requirement already satisfied: filelock in /usr/local/lib/python3.12/dist-packages (from datasets) (3.19.1)\n",
            "Requirement already satisfied: numpy>=1.17 in /usr/local/lib/python3.12/dist-packages (from datasets) (2.0.2)\n",
            "Requirement already satisfied: pyarrow>=15.0.0 in /usr/local/lib/python3.12/dist-packages (from datasets) (18.1.0)\n",
            "Requirement already satisfied: dill<0.3.9,>=0.3.0 in /usr/local/lib/python3.12/dist-packages (from datasets) (0.3.8)\n",
            "Requirement already satisfied: pandas in /usr/local/lib/python3.12/dist-packages (from datasets) (2.2.2)\n",
            "Requirement already satisfied: requests>=2.32.2 in /usr/local/lib/python3.12/dist-packages (from datasets) (2.32.4)\n",
            "Requirement already satisfied: tqdm>=4.66.3 in /usr/local/lib/python3.12/dist-packages (from datasets) (4.67.1)\n",
            "Requirement already satisfied: xxhash in /usr/local/lib/python3.12/dist-packages (from datasets) (3.5.0)\n",
            "Requirement already satisfied: multiprocess<0.70.17 in /usr/local/lib/python3.12/dist-packages (from datasets) (0.70.16)\n",
            "Requirement already satisfied: fsspec<=2025.3.0,>=2023.1.0 in /usr/local/lib/python3.12/dist-packages (from fsspec[http]<=2025.3.0,>=2023.1.0->datasets) (2025.3.0)\n",
            "Requirement already satisfied: huggingface-hub>=0.24.0 in /usr/local/lib/python3.12/dist-packages (from datasets) (0.35.3)\n",
            "Requirement already satisfied: packaging in /usr/local/lib/python3.12/dist-packages (from datasets) (25.0)\n",
            "Requirement already satisfied: pyyaml>=5.1 in /usr/local/lib/python3.12/dist-packages (from datasets) (6.0.3)\n",
            "Requirement already satisfied: aiohttp!=4.0.0a0,!=4.0.0a1 in /usr/local/lib/python3.12/dist-packages (from fsspec[http]<=2025.3.0,>=2023.1.0->datasets) (3.12.15)\n",
            "Requirement already satisfied: typing-extensions>=3.7.4.3 in /usr/local/lib/python3.12/dist-packages (from huggingface-hub>=0.24.0->datasets) (4.15.0)\n",
            "Requirement already satisfied: hf-xet<2.0.0,>=1.1.3 in /usr/local/lib/python3.12/dist-packages (from huggingface-hub>=0.24.0->datasets) (1.1.10)\n",
            "Requirement already satisfied: charset_normalizer<4,>=2 in /usr/local/lib/python3.12/dist-packages (from requests>=2.32.2->datasets) (3.4.3)\n",
            "Requirement already satisfied: idna<4,>=2.5 in /usr/local/lib/python3.12/dist-packages (from requests>=2.32.2->datasets) (3.10)\n",
            "Requirement already satisfied: urllib3<3,>=1.21.1 in /usr/local/lib/python3.12/dist-packages (from requests>=2.32.2->datasets) (2.5.0)\n",
            "Requirement already satisfied: certifi>=2017.4.17 in /usr/local/lib/python3.12/dist-packages (from requests>=2.32.2->datasets) (2025.8.3)\n",
            "Requirement already satisfied: python-dateutil>=2.8.2 in /usr/local/lib/python3.12/dist-packages (from pandas->datasets) (2.9.0.post0)\n",
            "Requirement already satisfied: pytz>=2020.1 in /usr/local/lib/python3.12/dist-packages (from pandas->datasets) (2025.2)\n",
            "Requirement already satisfied: tzdata>=2022.7 in /usr/local/lib/python3.12/dist-packages (from pandas->datasets) (2025.2)\n",
            "Requirement already satisfied: aiohappyeyeballs>=2.5.0 in /usr/local/lib/python3.12/dist-packages (from aiohttp!=4.0.0a0,!=4.0.0a1->fsspec[http]<=2025.3.0,>=2023.1.0->datasets) (2.6.1)\n",
            "Requirement already satisfied: aiosignal>=1.4.0 in /usr/local/lib/python3.12/dist-packages (from aiohttp!=4.0.0a0,!=4.0.0a1->fsspec[http]<=2025.3.0,>=2023.1.0->datasets) (1.4.0)\n",
            "Requirement already satisfied: attrs>=17.3.0 in /usr/local/lib/python3.12/dist-packages (from aiohttp!=4.0.0a0,!=4.0.0a1->fsspec[http]<=2025.3.0,>=2023.1.0->datasets) (25.3.0)\n",
            "Requirement already satisfied: frozenlist>=1.1.1 in /usr/local/lib/python3.12/dist-packages (from aiohttp!=4.0.0a0,!=4.0.0a1->fsspec[http]<=2025.3.0,>=2023.1.0->datasets) (1.7.0)\n",
            "Requirement already satisfied: multidict<7.0,>=4.5 in /usr/local/lib/python3.12/dist-packages (from aiohttp!=4.0.0a0,!=4.0.0a1->fsspec[http]<=2025.3.0,>=2023.1.0->datasets) (6.6.4)\n",
            "Requirement already satisfied: propcache>=0.2.0 in /usr/local/lib/python3.12/dist-packages (from aiohttp!=4.0.0a0,!=4.0.0a1->fsspec[http]<=2025.3.0,>=2023.1.0->datasets) (0.3.2)\n",
            "Requirement already satisfied: yarl<2.0,>=1.17.0 in /usr/local/lib/python3.12/dist-packages (from aiohttp!=4.0.0a0,!=4.0.0a1->fsspec[http]<=2025.3.0,>=2023.1.0->datasets) (1.20.1)\n",
            "Requirement already satisfied: six>=1.5 in /usr/local/lib/python3.12/dist-packages (from python-dateutil>=2.8.2->pandas->datasets) (1.17.0)\n"
          ]
        }
      ],
      "source": [
        "!pip install datasets\n",
        "import datasets"
      ]
    },
    {
      "cell_type": "code",
      "execution_count": 4,
      "metadata": {
        "id": "aYe6Rq5k6Bgu",
        "colab": {
          "base_uri": "https://localhost:8080/"
        },
        "outputId": "c8de48b7-7cf8-4872-909b-a284f35ce789"
      },
      "outputs": [
        {
          "output_type": "stream",
          "name": "stdout",
          "text": [
            "wikitext_small: 10000 docs, wikitext_large: 859955 docs\n"
          ]
        }
      ],
      "source": [
        "from datasets import load_dataset, Dataset\n",
        "\n",
        "def load_dataset():\n",
        "  wikitext_small = \"wikitext-filtered-10k\"\n",
        "  wikitext_large = \"wikitext-filtered-full\"\n",
        "\n",
        "  dataset_small = Dataset.load_from_disk(wikitext_small)\n",
        "  dataset_large = Dataset.load_from_disk(wikitext_large)\n",
        "  print(\"wikitext_small: {} docs, wikitext_large: {} docs\".format(len(dataset_small), len(dataset_large)))\n",
        "  return dataset_small, dataset_large\n",
        "\n",
        "wikitext_small, wikitext_large = load_dataset()"
      ]
    },
    {
      "cell_type": "code",
      "source": [],
      "metadata": {
        "id": "gzMZV7BCOYpT"
      },
      "execution_count": null,
      "outputs": []
    }
  ],
  "metadata": {
    "colab": {
      "provenance": []
    },
    "kernelspec": {
      "display_name": "athnlp-lab3",
      "language": "python",
      "name": "python3"
    },
    "language_info": {
      "codemirror_mode": {
        "name": "ipython",
        "version": 3
      },
      "file_extension": ".py",
      "mimetype": "text/x-python",
      "name": "python",
      "nbconvert_exporter": "python",
      "pygments_lexer": "ipython3",
      "version": "3.11.9"
    }
  },
  "nbformat": 4,
  "nbformat_minor": 0
}